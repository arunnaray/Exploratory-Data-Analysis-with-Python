{
 "cells": [
  {
   "cell_type": "markdown",
   "metadata": {},
   "source": [
    "## Problem Statement\n",
    "\n",
    "Identification risky loan applicants, then such loans can be reduced thereby cutting down the amount of credit loss. \n",
    "\n",
    "### Business Objectives\n",
    "\n",
    "The company is the largest online loan marketplace, facilitating personal loans, business loans, and financing of medical procedures. Borrowers can easily access lower interest rate loans through a fast online interface. \n",
    "\n",
    "The company wants to understand the driving factors (or driver variables) behind loan default, i.e. the variables which are strong indicators of default, to utilise this knowledge for its portfolio and risk assessment. \n"
   ]
  },
  {
   "cell_type": "markdown",
   "metadata": {},
   "source": [
    "<b>Environment: Pyhton 3 <br>\n",
    "Authors: Arun Kumar Narayanan <br>\n",
    "Project Name: Exploratory Data Analysis on Loan data </b>"
   ]
  },
  {
   "cell_type": "code",
   "execution_count": 776,
   "metadata": {},
   "outputs": [],
   "source": [
    "#Required python libraries \n",
    "import os\n",
    "import pandas as pd\n",
    "import numpy as np\n",
    "import matplotlib.pyplot as plt\n",
    "import seaborn as sns"
   ]
  },
  {
   "cell_type": "markdown",
   "metadata": {},
   "source": [
    "#### Loading The Dataset."
   ]
  },
  {
   "cell_type": "code",
   "execution_count": 1,
   "metadata": {},
   "outputs": [],
   "source": [
    "#Navigate to project folder path.\n",
    "\n",
    "##project_path = '#give your data directory path'\n",
    "\n",
    "#os.getcwd()\n",
    "\n",
    "#os.chdir(project_path)"
   ]
  },
  {
   "cell_type": "code",
   "execution_count": 778,
   "metadata": {},
   "outputs": [],
   "source": [
    "#Loading data to loan_data dataframe. \n",
    "\n",
    "loan_data = pd.read_csv('.\\\\data\\\\loan.csv',low_memory=False)"
   ]
  },
  {
   "cell_type": "code",
   "execution_count": 779,
   "metadata": {},
   "outputs": [
    {
     "data": {
      "text/html": [
       "<div>\n",
       "<style scoped>\n",
       "    .dataframe tbody tr th:only-of-type {\n",
       "        vertical-align: middle;\n",
       "    }\n",
       "\n",
       "    .dataframe tbody tr th {\n",
       "        vertical-align: top;\n",
       "    }\n",
       "\n",
       "    .dataframe thead th {\n",
       "        text-align: right;\n",
       "    }\n",
       "</style>\n",
       "<table border=\"1\" class=\"dataframe\">\n",
       "  <thead>\n",
       "    <tr style=\"text-align: right;\">\n",
       "      <th></th>\n",
       "      <th>id</th>\n",
       "      <th>member_id</th>\n",
       "      <th>loan_amnt</th>\n",
       "      <th>funded_amnt</th>\n",
       "      <th>funded_amnt_inv</th>\n",
       "      <th>term</th>\n",
       "      <th>int_rate</th>\n",
       "      <th>installment</th>\n",
       "      <th>grade</th>\n",
       "      <th>sub_grade</th>\n",
       "      <th>...</th>\n",
       "      <th>num_tl_90g_dpd_24m</th>\n",
       "      <th>num_tl_op_past_12m</th>\n",
       "      <th>pct_tl_nvr_dlq</th>\n",
       "      <th>percent_bc_gt_75</th>\n",
       "      <th>pub_rec_bankruptcies</th>\n",
       "      <th>tax_liens</th>\n",
       "      <th>tot_hi_cred_lim</th>\n",
       "      <th>total_bal_ex_mort</th>\n",
       "      <th>total_bc_limit</th>\n",
       "      <th>total_il_high_credit_limit</th>\n",
       "    </tr>\n",
       "  </thead>\n",
       "  <tbody>\n",
       "    <tr>\n",
       "      <th>0</th>\n",
       "      <td>1077501</td>\n",
       "      <td>1296599</td>\n",
       "      <td>5000</td>\n",
       "      <td>5000</td>\n",
       "      <td>4975.0</td>\n",
       "      <td>36 months</td>\n",
       "      <td>10.65%</td>\n",
       "      <td>162.87</td>\n",
       "      <td>B</td>\n",
       "      <td>B2</td>\n",
       "      <td>...</td>\n",
       "      <td>NaN</td>\n",
       "      <td>NaN</td>\n",
       "      <td>NaN</td>\n",
       "      <td>NaN</td>\n",
       "      <td>0.0</td>\n",
       "      <td>0.0</td>\n",
       "      <td>NaN</td>\n",
       "      <td>NaN</td>\n",
       "      <td>NaN</td>\n",
       "      <td>NaN</td>\n",
       "    </tr>\n",
       "    <tr>\n",
       "      <th>1</th>\n",
       "      <td>1077430</td>\n",
       "      <td>1314167</td>\n",
       "      <td>2500</td>\n",
       "      <td>2500</td>\n",
       "      <td>2500.0</td>\n",
       "      <td>60 months</td>\n",
       "      <td>15.27%</td>\n",
       "      <td>59.83</td>\n",
       "      <td>C</td>\n",
       "      <td>C4</td>\n",
       "      <td>...</td>\n",
       "      <td>NaN</td>\n",
       "      <td>NaN</td>\n",
       "      <td>NaN</td>\n",
       "      <td>NaN</td>\n",
       "      <td>0.0</td>\n",
       "      <td>0.0</td>\n",
       "      <td>NaN</td>\n",
       "      <td>NaN</td>\n",
       "      <td>NaN</td>\n",
       "      <td>NaN</td>\n",
       "    </tr>\n",
       "    <tr>\n",
       "      <th>2</th>\n",
       "      <td>1077175</td>\n",
       "      <td>1313524</td>\n",
       "      <td>2400</td>\n",
       "      <td>2400</td>\n",
       "      <td>2400.0</td>\n",
       "      <td>36 months</td>\n",
       "      <td>15.96%</td>\n",
       "      <td>84.33</td>\n",
       "      <td>C</td>\n",
       "      <td>C5</td>\n",
       "      <td>...</td>\n",
       "      <td>NaN</td>\n",
       "      <td>NaN</td>\n",
       "      <td>NaN</td>\n",
       "      <td>NaN</td>\n",
       "      <td>0.0</td>\n",
       "      <td>0.0</td>\n",
       "      <td>NaN</td>\n",
       "      <td>NaN</td>\n",
       "      <td>NaN</td>\n",
       "      <td>NaN</td>\n",
       "    </tr>\n",
       "    <tr>\n",
       "      <th>3</th>\n",
       "      <td>1076863</td>\n",
       "      <td>1277178</td>\n",
       "      <td>10000</td>\n",
       "      <td>10000</td>\n",
       "      <td>10000.0</td>\n",
       "      <td>36 months</td>\n",
       "      <td>13.49%</td>\n",
       "      <td>339.31</td>\n",
       "      <td>C</td>\n",
       "      <td>C1</td>\n",
       "      <td>...</td>\n",
       "      <td>NaN</td>\n",
       "      <td>NaN</td>\n",
       "      <td>NaN</td>\n",
       "      <td>NaN</td>\n",
       "      <td>0.0</td>\n",
       "      <td>0.0</td>\n",
       "      <td>NaN</td>\n",
       "      <td>NaN</td>\n",
       "      <td>NaN</td>\n",
       "      <td>NaN</td>\n",
       "    </tr>\n",
       "    <tr>\n",
       "      <th>4</th>\n",
       "      <td>1075358</td>\n",
       "      <td>1311748</td>\n",
       "      <td>3000</td>\n",
       "      <td>3000</td>\n",
       "      <td>3000.0</td>\n",
       "      <td>60 months</td>\n",
       "      <td>12.69%</td>\n",
       "      <td>67.79</td>\n",
       "      <td>B</td>\n",
       "      <td>B5</td>\n",
       "      <td>...</td>\n",
       "      <td>NaN</td>\n",
       "      <td>NaN</td>\n",
       "      <td>NaN</td>\n",
       "      <td>NaN</td>\n",
       "      <td>0.0</td>\n",
       "      <td>0.0</td>\n",
       "      <td>NaN</td>\n",
       "      <td>NaN</td>\n",
       "      <td>NaN</td>\n",
       "      <td>NaN</td>\n",
       "    </tr>\n",
       "  </tbody>\n",
       "</table>\n",
       "<p>5 rows × 111 columns</p>\n",
       "</div>"
      ],
      "text/plain": [
       "        id  member_id  loan_amnt  funded_amnt  funded_amnt_inv        term  \\\n",
       "0  1077501    1296599       5000         5000           4975.0   36 months   \n",
       "1  1077430    1314167       2500         2500           2500.0   60 months   \n",
       "2  1077175    1313524       2400         2400           2400.0   36 months   \n",
       "3  1076863    1277178      10000        10000          10000.0   36 months   \n",
       "4  1075358    1311748       3000         3000           3000.0   60 months   \n",
       "\n",
       "  int_rate  installment grade sub_grade  ... num_tl_90g_dpd_24m  \\\n",
       "0   10.65%       162.87     B        B2  ...                NaN   \n",
       "1   15.27%        59.83     C        C4  ...                NaN   \n",
       "2   15.96%        84.33     C        C5  ...                NaN   \n",
       "3   13.49%       339.31     C        C1  ...                NaN   \n",
       "4   12.69%        67.79     B        B5  ...                NaN   \n",
       "\n",
       "  num_tl_op_past_12m pct_tl_nvr_dlq  percent_bc_gt_75 pub_rec_bankruptcies  \\\n",
       "0                NaN            NaN               NaN                  0.0   \n",
       "1                NaN            NaN               NaN                  0.0   \n",
       "2                NaN            NaN               NaN                  0.0   \n",
       "3                NaN            NaN               NaN                  0.0   \n",
       "4                NaN            NaN               NaN                  0.0   \n",
       "\n",
       "  tax_liens tot_hi_cred_lim total_bal_ex_mort total_bc_limit  \\\n",
       "0       0.0             NaN               NaN            NaN   \n",
       "1       0.0             NaN               NaN            NaN   \n",
       "2       0.0             NaN               NaN            NaN   \n",
       "3       0.0             NaN               NaN            NaN   \n",
       "4       0.0             NaN               NaN            NaN   \n",
       "\n",
       "  total_il_high_credit_limit  \n",
       "0                        NaN  \n",
       "1                        NaN  \n",
       "2                        NaN  \n",
       "3                        NaN  \n",
       "4                        NaN  \n",
       "\n",
       "[5 rows x 111 columns]"
      ]
     },
     "execution_count": 779,
     "metadata": {},
     "output_type": "execute_result"
    }
   ],
   "source": [
    "loan_data.head()"
   ]
  },
  {
   "cell_type": "code",
   "execution_count": 780,
   "metadata": {},
   "outputs": [
    {
     "data": {
      "text/plain": [
       "['id',\n",
       " 'member_id',\n",
       " 'loan_amnt',\n",
       " 'funded_amnt',\n",
       " 'funded_amnt_inv',\n",
       " 'term',\n",
       " 'int_rate',\n",
       " 'installment',\n",
       " 'grade',\n",
       " 'sub_grade',\n",
       " 'emp_title',\n",
       " 'emp_length',\n",
       " 'home_ownership',\n",
       " 'annual_inc',\n",
       " 'verification_status',\n",
       " 'issue_d',\n",
       " 'loan_status',\n",
       " 'pymnt_plan',\n",
       " 'url',\n",
       " 'desc',\n",
       " 'purpose',\n",
       " 'title',\n",
       " 'zip_code',\n",
       " 'addr_state',\n",
       " 'dti',\n",
       " 'delinq_2yrs',\n",
       " 'earliest_cr_line',\n",
       " 'inq_last_6mths',\n",
       " 'mths_since_last_delinq',\n",
       " 'mths_since_last_record',\n",
       " 'open_acc',\n",
       " 'pub_rec',\n",
       " 'revol_bal',\n",
       " 'revol_util',\n",
       " 'total_acc',\n",
       " 'initial_list_status',\n",
       " 'out_prncp',\n",
       " 'out_prncp_inv',\n",
       " 'total_pymnt',\n",
       " 'total_pymnt_inv',\n",
       " 'total_rec_prncp',\n",
       " 'total_rec_int',\n",
       " 'total_rec_late_fee',\n",
       " 'recoveries',\n",
       " 'collection_recovery_fee',\n",
       " 'last_pymnt_d',\n",
       " 'last_pymnt_amnt',\n",
       " 'next_pymnt_d',\n",
       " 'last_credit_pull_d',\n",
       " 'collections_12_mths_ex_med',\n",
       " 'mths_since_last_major_derog',\n",
       " 'policy_code',\n",
       " 'application_type',\n",
       " 'annual_inc_joint',\n",
       " 'dti_joint',\n",
       " 'verification_status_joint',\n",
       " 'acc_now_delinq',\n",
       " 'tot_coll_amt',\n",
       " 'tot_cur_bal',\n",
       " 'open_acc_6m',\n",
       " 'open_il_6m',\n",
       " 'open_il_12m',\n",
       " 'open_il_24m',\n",
       " 'mths_since_rcnt_il',\n",
       " 'total_bal_il',\n",
       " 'il_util',\n",
       " 'open_rv_12m',\n",
       " 'open_rv_24m',\n",
       " 'max_bal_bc',\n",
       " 'all_util',\n",
       " 'total_rev_hi_lim',\n",
       " 'inq_fi',\n",
       " 'total_cu_tl',\n",
       " 'inq_last_12m',\n",
       " 'acc_open_past_24mths',\n",
       " 'avg_cur_bal',\n",
       " 'bc_open_to_buy',\n",
       " 'bc_util',\n",
       " 'chargeoff_within_12_mths',\n",
       " 'delinq_amnt',\n",
       " 'mo_sin_old_il_acct',\n",
       " 'mo_sin_old_rev_tl_op',\n",
       " 'mo_sin_rcnt_rev_tl_op',\n",
       " 'mo_sin_rcnt_tl',\n",
       " 'mort_acc',\n",
       " 'mths_since_recent_bc',\n",
       " 'mths_since_recent_bc_dlq',\n",
       " 'mths_since_recent_inq',\n",
       " 'mths_since_recent_revol_delinq',\n",
       " 'num_accts_ever_120_pd',\n",
       " 'num_actv_bc_tl',\n",
       " 'num_actv_rev_tl',\n",
       " 'num_bc_sats',\n",
       " 'num_bc_tl',\n",
       " 'num_il_tl',\n",
       " 'num_op_rev_tl',\n",
       " 'num_rev_accts',\n",
       " 'num_rev_tl_bal_gt_0',\n",
       " 'num_sats',\n",
       " 'num_tl_120dpd_2m',\n",
       " 'num_tl_30dpd',\n",
       " 'num_tl_90g_dpd_24m',\n",
       " 'num_tl_op_past_12m',\n",
       " 'pct_tl_nvr_dlq',\n",
       " 'percent_bc_gt_75',\n",
       " 'pub_rec_bankruptcies',\n",
       " 'tax_liens',\n",
       " 'tot_hi_cred_lim',\n",
       " 'total_bal_ex_mort',\n",
       " 'total_bc_limit',\n",
       " 'total_il_high_credit_limit']"
      ]
     },
     "execution_count": 780,
     "metadata": {},
     "output_type": "execute_result"
    }
   ],
   "source": [
    "#list of columns in the dataset\n",
    "\n",
    "list (loan_data)"
   ]
  },
  {
   "cell_type": "code",
   "execution_count": 781,
   "metadata": {},
   "outputs": [
    {
     "name": "stdout",
     "output_type": "stream",
     "text": [
      "<class 'pandas.core.frame.DataFrame'>\n",
      "RangeIndex: 39717 entries, 0 to 39716\n",
      "Columns: 111 entries, id to total_il_high_credit_limit\n",
      "dtypes: float64(74), int64(13), object(24)\n",
      "memory usage: 33.6+ MB\n"
     ]
    }
   ],
   "source": [
    "loan_data.info()"
   ]
  },
  {
   "cell_type": "markdown",
   "metadata": {},
   "source": [
    "### Data Cleaning "
   ]
  },
  {
   "cell_type": "markdown",
   "metadata": {},
   "source": [
    "#### (1) Handling missing values"
   ]
  },
  {
   "cell_type": "code",
   "execution_count": 782,
   "metadata": {},
   "outputs": [
    {
     "name": "stdout",
     "output_type": "stream",
     "text": [
      "Total Number of Columns  111\n"
     ]
    }
   ],
   "source": [
    "#Total columns in loan_data \n",
    "Total_cols = len(list(loan_data))\n",
    "print (\"Total Number of Columns \",Total_cols )"
   ]
  },
  {
   "cell_type": "markdown",
   "metadata": {},
   "source": [
    "#### Removing columns with missing values greater than or equal to 70%"
   ]
  },
  {
   "cell_type": "code",
   "execution_count": 783,
   "metadata": {},
   "outputs": [],
   "source": [
    "#These columns are not significant in data analysis.\n",
    "\n",
    "loan_data = loan_data.drop(loan_data.loc[:,list((100*(loan_data.isnull().sum()/len(loan_data.index))>=70))].columns, 1)"
   ]
  },
  {
   "cell_type": "code",
   "execution_count": 784,
   "metadata": {},
   "outputs": [
    {
     "name": "stdout",
     "output_type": "stream",
     "text": [
      "Total Number of Columns Removed : 56\n"
     ]
    }
   ],
   "source": [
    "#Total number of columns after removing null value columns \n",
    "\n",
    "print ('Total Number of Columns Removed :', Total_cols - len(list(loan_data)))"
   ]
  },
  {
   "cell_type": "code",
   "execution_count": 785,
   "metadata": {
    "scrolled": true
   },
   "outputs": [
    {
     "data": {
      "text/html": [
       "<div>\n",
       "<style scoped>\n",
       "    .dataframe tbody tr th:only-of-type {\n",
       "        vertical-align: middle;\n",
       "    }\n",
       "\n",
       "    .dataframe tbody tr th {\n",
       "        vertical-align: top;\n",
       "    }\n",
       "\n",
       "    .dataframe thead th {\n",
       "        text-align: right;\n",
       "    }\n",
       "</style>\n",
       "<table border=\"1\" class=\"dataframe\">\n",
       "  <thead>\n",
       "    <tr style=\"text-align: right;\">\n",
       "      <th></th>\n",
       "      <th>id</th>\n",
       "      <th>member_id</th>\n",
       "      <th>loan_amnt</th>\n",
       "      <th>funded_amnt</th>\n",
       "      <th>funded_amnt_inv</th>\n",
       "      <th>term</th>\n",
       "      <th>int_rate</th>\n",
       "      <th>installment</th>\n",
       "      <th>grade</th>\n",
       "      <th>sub_grade</th>\n",
       "      <th>...</th>\n",
       "      <th>last_pymnt_amnt</th>\n",
       "      <th>last_credit_pull_d</th>\n",
       "      <th>collections_12_mths_ex_med</th>\n",
       "      <th>policy_code</th>\n",
       "      <th>application_type</th>\n",
       "      <th>acc_now_delinq</th>\n",
       "      <th>chargeoff_within_12_mths</th>\n",
       "      <th>delinq_amnt</th>\n",
       "      <th>pub_rec_bankruptcies</th>\n",
       "      <th>tax_liens</th>\n",
       "    </tr>\n",
       "  </thead>\n",
       "  <tbody>\n",
       "    <tr>\n",
       "      <th>0</th>\n",
       "      <td>1077501</td>\n",
       "      <td>1296599</td>\n",
       "      <td>5000</td>\n",
       "      <td>5000</td>\n",
       "      <td>4975.0</td>\n",
       "      <td>36 months</td>\n",
       "      <td>10.65%</td>\n",
       "      <td>162.87</td>\n",
       "      <td>B</td>\n",
       "      <td>B2</td>\n",
       "      <td>...</td>\n",
       "      <td>171.62</td>\n",
       "      <td>May-16</td>\n",
       "      <td>0.0</td>\n",
       "      <td>1</td>\n",
       "      <td>INDIVIDUAL</td>\n",
       "      <td>0</td>\n",
       "      <td>0.0</td>\n",
       "      <td>0</td>\n",
       "      <td>0.0</td>\n",
       "      <td>0.0</td>\n",
       "    </tr>\n",
       "    <tr>\n",
       "      <th>1</th>\n",
       "      <td>1077430</td>\n",
       "      <td>1314167</td>\n",
       "      <td>2500</td>\n",
       "      <td>2500</td>\n",
       "      <td>2500.0</td>\n",
       "      <td>60 months</td>\n",
       "      <td>15.27%</td>\n",
       "      <td>59.83</td>\n",
       "      <td>C</td>\n",
       "      <td>C4</td>\n",
       "      <td>...</td>\n",
       "      <td>119.66</td>\n",
       "      <td>Sep-13</td>\n",
       "      <td>0.0</td>\n",
       "      <td>1</td>\n",
       "      <td>INDIVIDUAL</td>\n",
       "      <td>0</td>\n",
       "      <td>0.0</td>\n",
       "      <td>0</td>\n",
       "      <td>0.0</td>\n",
       "      <td>0.0</td>\n",
       "    </tr>\n",
       "    <tr>\n",
       "      <th>2</th>\n",
       "      <td>1077175</td>\n",
       "      <td>1313524</td>\n",
       "      <td>2400</td>\n",
       "      <td>2400</td>\n",
       "      <td>2400.0</td>\n",
       "      <td>36 months</td>\n",
       "      <td>15.96%</td>\n",
       "      <td>84.33</td>\n",
       "      <td>C</td>\n",
       "      <td>C5</td>\n",
       "      <td>...</td>\n",
       "      <td>649.91</td>\n",
       "      <td>May-16</td>\n",
       "      <td>0.0</td>\n",
       "      <td>1</td>\n",
       "      <td>INDIVIDUAL</td>\n",
       "      <td>0</td>\n",
       "      <td>0.0</td>\n",
       "      <td>0</td>\n",
       "      <td>0.0</td>\n",
       "      <td>0.0</td>\n",
       "    </tr>\n",
       "    <tr>\n",
       "      <th>3</th>\n",
       "      <td>1076863</td>\n",
       "      <td>1277178</td>\n",
       "      <td>10000</td>\n",
       "      <td>10000</td>\n",
       "      <td>10000.0</td>\n",
       "      <td>36 months</td>\n",
       "      <td>13.49%</td>\n",
       "      <td>339.31</td>\n",
       "      <td>C</td>\n",
       "      <td>C1</td>\n",
       "      <td>...</td>\n",
       "      <td>357.48</td>\n",
       "      <td>Apr-16</td>\n",
       "      <td>0.0</td>\n",
       "      <td>1</td>\n",
       "      <td>INDIVIDUAL</td>\n",
       "      <td>0</td>\n",
       "      <td>0.0</td>\n",
       "      <td>0</td>\n",
       "      <td>0.0</td>\n",
       "      <td>0.0</td>\n",
       "    </tr>\n",
       "    <tr>\n",
       "      <th>4</th>\n",
       "      <td>1075358</td>\n",
       "      <td>1311748</td>\n",
       "      <td>3000</td>\n",
       "      <td>3000</td>\n",
       "      <td>3000.0</td>\n",
       "      <td>60 months</td>\n",
       "      <td>12.69%</td>\n",
       "      <td>67.79</td>\n",
       "      <td>B</td>\n",
       "      <td>B5</td>\n",
       "      <td>...</td>\n",
       "      <td>67.79</td>\n",
       "      <td>May-16</td>\n",
       "      <td>0.0</td>\n",
       "      <td>1</td>\n",
       "      <td>INDIVIDUAL</td>\n",
       "      <td>0</td>\n",
       "      <td>0.0</td>\n",
       "      <td>0</td>\n",
       "      <td>0.0</td>\n",
       "      <td>0.0</td>\n",
       "    </tr>\n",
       "  </tbody>\n",
       "</table>\n",
       "<p>5 rows × 55 columns</p>\n",
       "</div>"
      ],
      "text/plain": [
       "        id  member_id  loan_amnt  funded_amnt  funded_amnt_inv        term  \\\n",
       "0  1077501    1296599       5000         5000           4975.0   36 months   \n",
       "1  1077430    1314167       2500         2500           2500.0   60 months   \n",
       "2  1077175    1313524       2400         2400           2400.0   36 months   \n",
       "3  1076863    1277178      10000        10000          10000.0   36 months   \n",
       "4  1075358    1311748       3000         3000           3000.0   60 months   \n",
       "\n",
       "  int_rate  installment grade sub_grade  ... last_pymnt_amnt  \\\n",
       "0   10.65%       162.87     B        B2  ...          171.62   \n",
       "1   15.27%        59.83     C        C4  ...          119.66   \n",
       "2   15.96%        84.33     C        C5  ...          649.91   \n",
       "3   13.49%       339.31     C        C1  ...          357.48   \n",
       "4   12.69%        67.79     B        B5  ...           67.79   \n",
       "\n",
       "  last_credit_pull_d collections_12_mths_ex_med  policy_code application_type  \\\n",
       "0             May-16                        0.0            1       INDIVIDUAL   \n",
       "1             Sep-13                        0.0            1       INDIVIDUAL   \n",
       "2             May-16                        0.0            1       INDIVIDUAL   \n",
       "3             Apr-16                        0.0            1       INDIVIDUAL   \n",
       "4             May-16                        0.0            1       INDIVIDUAL   \n",
       "\n",
       "  acc_now_delinq chargeoff_within_12_mths delinq_amnt pub_rec_bankruptcies  \\\n",
       "0              0                      0.0           0                  0.0   \n",
       "1              0                      0.0           0                  0.0   \n",
       "2              0                      0.0           0                  0.0   \n",
       "3              0                      0.0           0                  0.0   \n",
       "4              0                      0.0           0                  0.0   \n",
       "\n",
       "  tax_liens  \n",
       "0       0.0  \n",
       "1       0.0  \n",
       "2       0.0  \n",
       "3       0.0  \n",
       "4       0.0  \n",
       "\n",
       "[5 rows x 55 columns]"
      ]
     },
     "execution_count": 785,
     "metadata": {},
     "output_type": "execute_result"
    }
   ],
   "source": [
    "loan_data.head()"
   ]
  },
  {
   "cell_type": "markdown",
   "metadata": {},
   "source": [
    "#### Removing columns with same value throughout "
   ]
  },
  {
   "cell_type": "code",
   "execution_count": 786,
   "metadata": {},
   "outputs": [],
   "source": [
    "#Removing columns with same value throughout since this will not give any significance \n",
    "\n",
    "loan_data = loan_data.drop(loan_data.std()[(loan_data.std() == 0)].index, axis=1)"
   ]
  },
  {
   "cell_type": "code",
   "execution_count": 787,
   "metadata": {},
   "outputs": [
    {
     "name": "stdout",
     "output_type": "stream",
     "text": [
      "Total Number of Columns 49\n"
     ]
    }
   ],
   "source": [
    "print ('Total Number of Columns',len(list(loan_data)))"
   ]
  },
  {
   "cell_type": "code",
   "execution_count": 788,
   "metadata": {
    "scrolled": true
   },
   "outputs": [
    {
     "data": {
      "text/plain": [
       "mths_since_last_delinq    64.66\n",
       "desc                      32.58\n",
       "emp_title                  6.19\n",
       "emp_length                 2.71\n",
       "pub_rec_bankruptcies       1.75\n",
       "last_pymnt_d               0.18\n",
       "revol_util                 0.13\n",
       "title                      0.03\n",
       "last_credit_pull_d         0.01\n",
       "loan_amnt                  0.00\n",
       "dtype: float64"
      ]
     },
     "execution_count": 788,
     "metadata": {},
     "output_type": "execute_result"
    }
   ],
   "source": [
    "#Find columns that have high volume of na values (top 10 columns values printed)\n",
    "\n",
    "(loan_data.isna().mean().round(4)*100).sort_values(ascending = False).head(10)"
   ]
  },
  {
   "cell_type": "markdown",
   "metadata": {},
   "source": [
    "<b>`mths_since_last_delinq` column has no much significant effect on `loan_status` hence removing that column</b>"
   ]
  },
  {
   "cell_type": "code",
   "execution_count": 789,
   "metadata": {},
   "outputs": [],
   "source": [
    "loan_data = loan_data.drop(loan_data.loc[:,list((100*(loan_data.isnull().sum()/len(loan_data.index))>=60))].columns, 1)"
   ]
  },
  {
   "cell_type": "markdown",
   "metadata": {},
   "source": [
    "#### Finding percentage of zeros in each column and distribution of data column"
   ]
  },
  {
   "cell_type": "code",
   "execution_count": 790,
   "metadata": {
    "scrolled": true
   },
   "outputs": [
    {
     "data": {
      "text/plain": [
       "out_prncp                   2.870307\n",
       "out_prncp_inv               2.870307\n",
       "total_rec_late_fee          5.151446\n",
       "pub_rec                     5.327693\n",
       "pub_rec_bankruptcies        5.987361\n",
       "collection_recovery_fee     9.522371\n",
       "recoveries                 10.620137\n",
       "delinq_2yrs                10.856812\n",
       "inq_last_6mths             51.406199\n",
       "revol_bal                  97.497293\n",
       "dtype: float64"
      ]
     },
     "execution_count": 790,
     "metadata": {},
     "output_type": "execute_result"
    }
   ],
   "source": [
    "# Printing non zero percentages in ascending order. (ie top 10 columns with highest zero percentages)\n",
    "\n",
    "(loan_data.astype(bool).sum(axis=0)*100/len(loan_data)).sort_values().head(10)"
   ]
  },
  {
   "cell_type": "markdown",
   "metadata": {},
   "source": [
    "`total_rec_late_fee` this column with zero values have no relevance in data analysis, <br> but zero in other columns are relevant.\n",
    "\n",
    "So removing the `total_rec_late_fee` column.\n"
   ]
  },
  {
   "cell_type": "code",
   "execution_count": 791,
   "metadata": {},
   "outputs": [],
   "source": [
    "del loan_data['total_rec_late_fee']"
   ]
  },
  {
   "cell_type": "code",
   "execution_count": 792,
   "metadata": {},
   "outputs": [
    {
     "name": "stdout",
     "output_type": "stream",
     "text": [
      "Total columns remaining for analysis :  47\n"
     ]
    }
   ],
   "source": [
    "print ('Total columns remaining for analysis : ' , len(list(loan_data)))"
   ]
  },
  {
   "cell_type": "markdown",
   "metadata": {},
   "source": [
    "#### (2) Checking Loan Status across data set"
   ]
  },
  {
   "cell_type": "code",
   "execution_count": 793,
   "metadata": {},
   "outputs": [
    {
     "data": {
      "text/html": [
       "<div>\n",
       "<style scoped>\n",
       "    .dataframe tbody tr th:only-of-type {\n",
       "        vertical-align: middle;\n",
       "    }\n",
       "\n",
       "    .dataframe tbody tr th {\n",
       "        vertical-align: top;\n",
       "    }\n",
       "\n",
       "    .dataframe thead th {\n",
       "        text-align: right;\n",
       "    }\n",
       "</style>\n",
       "<table border=\"1\" class=\"dataframe\">\n",
       "  <thead>\n",
       "    <tr style=\"text-align: right;\">\n",
       "      <th></th>\n",
       "      <th>id</th>\n",
       "      <th>member_id</th>\n",
       "      <th>loan_amnt</th>\n",
       "      <th>funded_amnt</th>\n",
       "      <th>funded_amnt_inv</th>\n",
       "      <th>term</th>\n",
       "      <th>int_rate</th>\n",
       "      <th>installment</th>\n",
       "      <th>grade</th>\n",
       "      <th>sub_grade</th>\n",
       "      <th>...</th>\n",
       "      <th>total_pymnt_inv</th>\n",
       "      <th>total_rec_prncp</th>\n",
       "      <th>total_rec_int</th>\n",
       "      <th>recoveries</th>\n",
       "      <th>collection_recovery_fee</th>\n",
       "      <th>last_pymnt_d</th>\n",
       "      <th>last_pymnt_amnt</th>\n",
       "      <th>last_credit_pull_d</th>\n",
       "      <th>application_type</th>\n",
       "      <th>pub_rec_bankruptcies</th>\n",
       "    </tr>\n",
       "    <tr>\n",
       "      <th>loan_status</th>\n",
       "      <th></th>\n",
       "      <th></th>\n",
       "      <th></th>\n",
       "      <th></th>\n",
       "      <th></th>\n",
       "      <th></th>\n",
       "      <th></th>\n",
       "      <th></th>\n",
       "      <th></th>\n",
       "      <th></th>\n",
       "      <th></th>\n",
       "      <th></th>\n",
       "      <th></th>\n",
       "      <th></th>\n",
       "      <th></th>\n",
       "      <th></th>\n",
       "      <th></th>\n",
       "      <th></th>\n",
       "      <th></th>\n",
       "      <th></th>\n",
       "      <th></th>\n",
       "    </tr>\n",
       "  </thead>\n",
       "  <tbody>\n",
       "    <tr>\n",
       "      <th>Charged Off</th>\n",
       "      <td>14.167737</td>\n",
       "      <td>14.167737</td>\n",
       "      <td>14.167737</td>\n",
       "      <td>14.167737</td>\n",
       "      <td>14.167737</td>\n",
       "      <td>14.167737</td>\n",
       "      <td>14.167737</td>\n",
       "      <td>14.167737</td>\n",
       "      <td>14.167737</td>\n",
       "      <td>14.167737</td>\n",
       "      <td>...</td>\n",
       "      <td>14.167737</td>\n",
       "      <td>14.167737</td>\n",
       "      <td>14.167737</td>\n",
       "      <td>14.167737</td>\n",
       "      <td>14.167737</td>\n",
       "      <td>13.988972</td>\n",
       "      <td>14.167737</td>\n",
       "      <td>14.165219</td>\n",
       "      <td>14.167737</td>\n",
       "      <td>13.870635</td>\n",
       "    </tr>\n",
       "    <tr>\n",
       "      <th>Current</th>\n",
       "      <td>2.870307</td>\n",
       "      <td>2.870307</td>\n",
       "      <td>2.870307</td>\n",
       "      <td>2.870307</td>\n",
       "      <td>2.870307</td>\n",
       "      <td>2.870307</td>\n",
       "      <td>2.870307</td>\n",
       "      <td>2.870307</td>\n",
       "      <td>2.870307</td>\n",
       "      <td>2.870307</td>\n",
       "      <td>...</td>\n",
       "      <td>2.870307</td>\n",
       "      <td>2.870307</td>\n",
       "      <td>2.870307</td>\n",
       "      <td>2.870307</td>\n",
       "      <td>2.870307</td>\n",
       "      <td>2.870307</td>\n",
       "      <td>2.870307</td>\n",
       "      <td>2.870307</td>\n",
       "      <td>2.870307</td>\n",
       "      <td>2.870307</td>\n",
       "    </tr>\n",
       "    <tr>\n",
       "      <th>Fully Paid</th>\n",
       "      <td>82.961956</td>\n",
       "      <td>82.961956</td>\n",
       "      <td>82.961956</td>\n",
       "      <td>82.961956</td>\n",
       "      <td>82.961956</td>\n",
       "      <td>82.961956</td>\n",
       "      <td>82.961956</td>\n",
       "      <td>82.961956</td>\n",
       "      <td>82.961956</td>\n",
       "      <td>82.961956</td>\n",
       "      <td>...</td>\n",
       "      <td>82.961956</td>\n",
       "      <td>82.961956</td>\n",
       "      <td>82.961956</td>\n",
       "      <td>82.961956</td>\n",
       "      <td>82.961956</td>\n",
       "      <td>82.961956</td>\n",
       "      <td>82.961956</td>\n",
       "      <td>82.959438</td>\n",
       "      <td>82.961956</td>\n",
       "      <td>81.504142</td>\n",
       "    </tr>\n",
       "  </tbody>\n",
       "</table>\n",
       "<p>3 rows × 46 columns</p>\n",
       "</div>"
      ],
      "text/plain": [
       "                    id  member_id  loan_amnt  funded_amnt  funded_amnt_inv  \\\n",
       "loan_status                                                                  \n",
       "Charged Off  14.167737  14.167737  14.167737    14.167737        14.167737   \n",
       "Current       2.870307   2.870307   2.870307     2.870307         2.870307   \n",
       "Fully Paid   82.961956  82.961956  82.961956    82.961956        82.961956   \n",
       "\n",
       "                  term   int_rate  installment      grade  sub_grade  ...  \\\n",
       "loan_status                                                           ...   \n",
       "Charged Off  14.167737  14.167737    14.167737  14.167737  14.167737  ...   \n",
       "Current       2.870307   2.870307     2.870307   2.870307   2.870307  ...   \n",
       "Fully Paid   82.961956  82.961956    82.961956  82.961956  82.961956  ...   \n",
       "\n",
       "             total_pymnt_inv  total_rec_prncp  total_rec_int  recoveries  \\\n",
       "loan_status                                                                \n",
       "Charged Off        14.167737        14.167737      14.167737   14.167737   \n",
       "Current             2.870307         2.870307       2.870307    2.870307   \n",
       "Fully Paid         82.961956        82.961956      82.961956   82.961956   \n",
       "\n",
       "             collection_recovery_fee  last_pymnt_d  last_pymnt_amnt  \\\n",
       "loan_status                                                           \n",
       "Charged Off                14.167737     13.988972        14.167737   \n",
       "Current                     2.870307      2.870307         2.870307   \n",
       "Fully Paid                 82.961956     82.961956        82.961956   \n",
       "\n",
       "             last_credit_pull_d  application_type  pub_rec_bankruptcies  \n",
       "loan_status                                                              \n",
       "Charged Off           14.165219         14.167737             13.870635  \n",
       "Current                2.870307          2.870307              2.870307  \n",
       "Fully Paid            82.959438         82.961956             81.504142  \n",
       "\n",
       "[3 rows x 46 columns]"
      ]
     },
     "execution_count": 793,
     "metadata": {},
     "output_type": "execute_result"
    }
   ],
   "source": [
    "#Distribution of defaulters and non-defaulters in load_data\n",
    "\n",
    "loan_data.groupby('loan_status').count()/len(loan_data)*100"
   ]
  },
  {
   "cell_type": "markdown",
   "metadata": {},
   "source": [
    "#### (1) Creating Separate DataFrame of ChargedOFF Customers for further Analysis."
   ]
  },
  {
   "cell_type": "code",
   "execution_count": 794,
   "metadata": {},
   "outputs": [],
   "source": [
    "#Defaulters data set\n",
    "\n",
    "loan_data_default = loan_data[loan_data.loan_status == 'Charged Off']"
   ]
  },
  {
   "cell_type": "code",
   "execution_count": 795,
   "metadata": {},
   "outputs": [
    {
     "data": {
      "text/html": [
       "<div>\n",
       "<style scoped>\n",
       "    .dataframe tbody tr th:only-of-type {\n",
       "        vertical-align: middle;\n",
       "    }\n",
       "\n",
       "    .dataframe tbody tr th {\n",
       "        vertical-align: top;\n",
       "    }\n",
       "\n",
       "    .dataframe thead th {\n",
       "        text-align: right;\n",
       "    }\n",
       "</style>\n",
       "<table border=\"1\" class=\"dataframe\">\n",
       "  <thead>\n",
       "    <tr style=\"text-align: right;\">\n",
       "      <th></th>\n",
       "      <th>id</th>\n",
       "      <th>member_id</th>\n",
       "      <th>loan_amnt</th>\n",
       "      <th>funded_amnt</th>\n",
       "      <th>funded_amnt_inv</th>\n",
       "      <th>term</th>\n",
       "      <th>int_rate</th>\n",
       "      <th>installment</th>\n",
       "      <th>grade</th>\n",
       "      <th>sub_grade</th>\n",
       "      <th>...</th>\n",
       "      <th>total_pymnt_inv</th>\n",
       "      <th>total_rec_prncp</th>\n",
       "      <th>total_rec_int</th>\n",
       "      <th>recoveries</th>\n",
       "      <th>collection_recovery_fee</th>\n",
       "      <th>last_pymnt_d</th>\n",
       "      <th>last_pymnt_amnt</th>\n",
       "      <th>last_credit_pull_d</th>\n",
       "      <th>application_type</th>\n",
       "      <th>pub_rec_bankruptcies</th>\n",
       "    </tr>\n",
       "  </thead>\n",
       "  <tbody>\n",
       "    <tr>\n",
       "      <th>1</th>\n",
       "      <td>1077430</td>\n",
       "      <td>1314167</td>\n",
       "      <td>2500</td>\n",
       "      <td>2500</td>\n",
       "      <td>2500.0</td>\n",
       "      <td>60 months</td>\n",
       "      <td>15.27%</td>\n",
       "      <td>59.83</td>\n",
       "      <td>C</td>\n",
       "      <td>C4</td>\n",
       "      <td>...</td>\n",
       "      <td>1008.71</td>\n",
       "      <td>456.46</td>\n",
       "      <td>435.17</td>\n",
       "      <td>117.08</td>\n",
       "      <td>1.1100</td>\n",
       "      <td>Apr-13</td>\n",
       "      <td>119.66</td>\n",
       "      <td>Sep-13</td>\n",
       "      <td>INDIVIDUAL</td>\n",
       "      <td>0.0</td>\n",
       "    </tr>\n",
       "    <tr>\n",
       "      <th>8</th>\n",
       "      <td>1071795</td>\n",
       "      <td>1306957</td>\n",
       "      <td>5600</td>\n",
       "      <td>5600</td>\n",
       "      <td>5600.0</td>\n",
       "      <td>60 months</td>\n",
       "      <td>21.28%</td>\n",
       "      <td>152.39</td>\n",
       "      <td>F</td>\n",
       "      <td>F2</td>\n",
       "      <td>...</td>\n",
       "      <td>646.02</td>\n",
       "      <td>162.02</td>\n",
       "      <td>294.94</td>\n",
       "      <td>189.06</td>\n",
       "      <td>2.0900</td>\n",
       "      <td>Apr-12</td>\n",
       "      <td>152.39</td>\n",
       "      <td>Aug-12</td>\n",
       "      <td>INDIVIDUAL</td>\n",
       "      <td>0.0</td>\n",
       "    </tr>\n",
       "    <tr>\n",
       "      <th>9</th>\n",
       "      <td>1071570</td>\n",
       "      <td>1306721</td>\n",
       "      <td>5375</td>\n",
       "      <td>5375</td>\n",
       "      <td>5350.0</td>\n",
       "      <td>60 months</td>\n",
       "      <td>12.69%</td>\n",
       "      <td>121.45</td>\n",
       "      <td>B</td>\n",
       "      <td>B5</td>\n",
       "      <td>...</td>\n",
       "      <td>1469.34</td>\n",
       "      <td>673.48</td>\n",
       "      <td>533.42</td>\n",
       "      <td>269.29</td>\n",
       "      <td>2.5200</td>\n",
       "      <td>Nov-12</td>\n",
       "      <td>121.45</td>\n",
       "      <td>Mar-13</td>\n",
       "      <td>INDIVIDUAL</td>\n",
       "      <td>0.0</td>\n",
       "    </tr>\n",
       "    <tr>\n",
       "      <th>12</th>\n",
       "      <td>1064687</td>\n",
       "      <td>1298717</td>\n",
       "      <td>9000</td>\n",
       "      <td>9000</td>\n",
       "      <td>9000.0</td>\n",
       "      <td>36 months</td>\n",
       "      <td>13.49%</td>\n",
       "      <td>305.38</td>\n",
       "      <td>C</td>\n",
       "      <td>C1</td>\n",
       "      <td>...</td>\n",
       "      <td>2270.70</td>\n",
       "      <td>1256.14</td>\n",
       "      <td>570.26</td>\n",
       "      <td>444.30</td>\n",
       "      <td>4.1600</td>\n",
       "      <td>Jul-12</td>\n",
       "      <td>305.38</td>\n",
       "      <td>Nov-12</td>\n",
       "      <td>INDIVIDUAL</td>\n",
       "      <td>0.0</td>\n",
       "    </tr>\n",
       "    <tr>\n",
       "      <th>14</th>\n",
       "      <td>1069057</td>\n",
       "      <td>1303503</td>\n",
       "      <td>10000</td>\n",
       "      <td>10000</td>\n",
       "      <td>10000.0</td>\n",
       "      <td>36 months</td>\n",
       "      <td>10.65%</td>\n",
       "      <td>325.74</td>\n",
       "      <td>B</td>\n",
       "      <td>B2</td>\n",
       "      <td>...</td>\n",
       "      <td>7471.99</td>\n",
       "      <td>5433.47</td>\n",
       "      <td>1393.42</td>\n",
       "      <td>645.10</td>\n",
       "      <td>6.3145</td>\n",
       "      <td>Oct-13</td>\n",
       "      <td>325.74</td>\n",
       "      <td>Mar-14</td>\n",
       "      <td>INDIVIDUAL</td>\n",
       "      <td>0.0</td>\n",
       "    </tr>\n",
       "  </tbody>\n",
       "</table>\n",
       "<p>5 rows × 47 columns</p>\n",
       "</div>"
      ],
      "text/plain": [
       "         id  member_id  loan_amnt  funded_amnt  funded_amnt_inv        term  \\\n",
       "1   1077430    1314167       2500         2500           2500.0   60 months   \n",
       "8   1071795    1306957       5600         5600           5600.0   60 months   \n",
       "9   1071570    1306721       5375         5375           5350.0   60 months   \n",
       "12  1064687    1298717       9000         9000           9000.0   36 months   \n",
       "14  1069057    1303503      10000        10000          10000.0   36 months   \n",
       "\n",
       "   int_rate  installment grade sub_grade  ... total_pymnt_inv total_rec_prncp  \\\n",
       "1    15.27%        59.83     C        C4  ...         1008.71          456.46   \n",
       "8    21.28%       152.39     F        F2  ...          646.02          162.02   \n",
       "9    12.69%       121.45     B        B5  ...         1469.34          673.48   \n",
       "12   13.49%       305.38     C        C1  ...         2270.70         1256.14   \n",
       "14   10.65%       325.74     B        B2  ...         7471.99         5433.47   \n",
       "\n",
       "   total_rec_int  recoveries collection_recovery_fee last_pymnt_d  \\\n",
       "1         435.17      117.08                  1.1100       Apr-13   \n",
       "8         294.94      189.06                  2.0900       Apr-12   \n",
       "9         533.42      269.29                  2.5200       Nov-12   \n",
       "12        570.26      444.30                  4.1600       Jul-12   \n",
       "14       1393.42      645.10                  6.3145       Oct-13   \n",
       "\n",
       "   last_pymnt_amnt last_credit_pull_d application_type pub_rec_bankruptcies  \n",
       "1           119.66             Sep-13       INDIVIDUAL                  0.0  \n",
       "8           152.39             Aug-12       INDIVIDUAL                  0.0  \n",
       "9           121.45             Mar-13       INDIVIDUAL                  0.0  \n",
       "12          305.38             Nov-12       INDIVIDUAL                  0.0  \n",
       "14          325.74             Mar-14       INDIVIDUAL                  0.0  \n",
       "\n",
       "[5 rows x 47 columns]"
      ]
     },
     "execution_count": 795,
     "metadata": {},
     "output_type": "execute_result"
    }
   ],
   "source": [
    "loan_data_default.head()"
   ]
  },
  {
   "cell_type": "code",
   "execution_count": 796,
   "metadata": {},
   "outputs": [
    {
     "name": "stdout",
     "output_type": "stream",
     "text": [
      "<class 'pandas.core.frame.DataFrame'>\n",
      "Int64Index: 5627 entries, 1 to 39688\n",
      "Data columns (total 47 columns):\n",
      "id                         5627 non-null int64\n",
      "member_id                  5627 non-null int64\n",
      "loan_amnt                  5627 non-null int64\n",
      "funded_amnt                5627 non-null int64\n",
      "funded_amnt_inv            5627 non-null float64\n",
      "term                       5627 non-null object\n",
      "int_rate                   5627 non-null object\n",
      "installment                5627 non-null float64\n",
      "grade                      5627 non-null object\n",
      "sub_grade                  5627 non-null object\n",
      "emp_title                  5143 non-null object\n",
      "emp_length                 5399 non-null object\n",
      "home_ownership             5627 non-null object\n",
      "annual_inc                 5627 non-null float64\n",
      "verification_status        5627 non-null object\n",
      "issue_d                    5627 non-null object\n",
      "loan_status                5627 non-null object\n",
      "pymnt_plan                 5627 non-null object\n",
      "url                        5627 non-null object\n",
      "desc                       3825 non-null object\n",
      "purpose                    5627 non-null object\n",
      "title                      5625 non-null object\n",
      "zip_code                   5627 non-null object\n",
      "addr_state                 5627 non-null object\n",
      "dti                        5627 non-null float64\n",
      "delinq_2yrs                5627 non-null int64\n",
      "earliest_cr_line           5627 non-null object\n",
      "inq_last_6mths             5627 non-null int64\n",
      "open_acc                   5627 non-null int64\n",
      "pub_rec                    5627 non-null int64\n",
      "revol_bal                  5627 non-null int64\n",
      "revol_util                 5611 non-null object\n",
      "total_acc                  5627 non-null int64\n",
      "initial_list_status        5627 non-null object\n",
      "out_prncp                  5627 non-null float64\n",
      "out_prncp_inv              5627 non-null float64\n",
      "total_pymnt                5627 non-null float64\n",
      "total_pymnt_inv            5627 non-null float64\n",
      "total_rec_prncp            5627 non-null float64\n",
      "total_rec_int              5627 non-null float64\n",
      "recoveries                 5627 non-null float64\n",
      "collection_recovery_fee    5627 non-null float64\n",
      "last_pymnt_d               5556 non-null object\n",
      "last_pymnt_amnt            5627 non-null float64\n",
      "last_credit_pull_d         5626 non-null object\n",
      "application_type           5627 non-null object\n",
      "pub_rec_bankruptcies       5509 non-null float64\n",
      "dtypes: float64(14), int64(10), object(23)\n",
      "memory usage: 2.1+ MB\n"
     ]
    }
   ],
   "source": [
    "loan_data_default.info()"
   ]
  },
  {
   "cell_type": "markdown",
   "metadata": {},
   "source": [
    "#### Calculating the credit loss"
   ]
  },
  {
   "cell_type": "markdown",
   "metadata": {},
   "source": [
    "<b>Credit Loss is Business Derived Metrics to analysis the effect of other loan parameters </b> "
   ]
  },
  {
   "cell_type": "code",
   "execution_count": 797,
   "metadata": {},
   "outputs": [
    {
     "name": "stderr",
     "output_type": "stream",
     "text": [
      "C:\\ProgramData\\Anaconda3\\lib\\site-packages\\ipykernel_launcher.py:1: SettingWithCopyWarning: \n",
      "A value is trying to be set on a copy of a slice from a DataFrame.\n",
      "Try using .loc[row_indexer,col_indexer] = value instead\n",
      "\n",
      "See the caveats in the documentation: http://pandas.pydata.org/pandas-docs/stable/indexing.html#indexing-view-versus-copy\n",
      "  \"\"\"Entry point for launching an IPython kernel.\n"
     ]
    },
    {
     "name": "stdout",
     "output_type": "stream",
     "text": [
      "Maximum loss - 35000.0\n",
      "Minimum loss -  25.0\n",
      "Total loss -  43813065.0\n"
     ]
    },
    {
     "data": {
      "image/png": "[encoded data removed]",
      "text/plain": [
       "<Figure size 1008x288 with 1 Axes>"
      ]
     },
     "metadata": {},
     "output_type": "display_data"
    }
   ],
   "source": [
    "\n",
    "loan_data_default['credit_lose']= loan_data_default.funded_amnt - loan_data_default.total_rec_prncp\n",
    "\n",
    "#maximum lost amount \n",
    "print('Maximum loss -' , round(loan_data_default['credit_lose'].max()))\n",
    "#minimum lost amount \n",
    "print('Minimum loss - ',round(loan_data_default['credit_lose'].min()))\n",
    "#Total loss\n",
    "print('Total loss - ',round(loan_data_default['credit_lose'].sum()))\n",
    "\n",
    "loan_data_default.credit_lose.hist(bins=75, rwidth=.8, figsize=(14,4))\n",
    "plt.title('How much loss?')\n",
    "plt.show()"
   ]
  },
  {
   "cell_type": "markdown",
   "metadata": {},
   "source": [
    "## Numerical and Categorical Features"
   ]
  },
  {
   "cell_type": "code",
   "execution_count": 897,
   "metadata": {},
   "outputs": [
    {
     "name": "stdout",
     "output_type": "stream",
     "text": [
      "Index(['id', 'member_id', 'loan_amnt', 'funded_amnt', 'funded_amnt_inv',\n",
      "       'installment', 'annual_inc', 'dti', 'delinq_2yrs', 'inq_last_6mths',\n",
      "       'open_acc', 'pub_rec', 'revol_bal', 'total_acc', 'out_prncp',\n",
      "       'out_prncp_inv', 'total_pymnt', 'total_pymnt_inv', 'total_rec_prncp',\n",
      "       'total_rec_int', 'recoveries', 'collection_recovery_fee',\n",
      "       'last_pymnt_amnt', 'pub_rec_bankruptcies', 'credit_lose'],\n",
      "      dtype='object')\n",
      "Total number of Numeric columns: 25\n"
     ]
    }
   ],
   "source": [
    "\n",
    "# Finding numerical features\n",
    "numeric_data = loan_data_default.select_dtypes(include = [np.number])\n",
    "num_cols = loan_data_default._get_numeric_data().columns\n",
    "\n",
    "print (num_cols)\n",
    "print ('Total number of Numeric columns:',len(list(numeric_data)))\n"
   ]
  },
  {
   "cell_type": "code",
   "execution_count": 898,
   "metadata": {
    "scrolled": false
   },
   "outputs": [
    {
     "data": {
      "text/html": [
       "<div>\n",
       "<style scoped>\n",
       "    .dataframe tbody tr th:only-of-type {\n",
       "        vertical-align: middle;\n",
       "    }\n",
       "\n",
       "    .dataframe tbody tr th {\n",
       "        vertical-align: top;\n",
       "    }\n",
       "\n",
       "    .dataframe thead th {\n",
       "        text-align: right;\n",
       "    }\n",
       "</style>\n",
       "<table border=\"1\" class=\"dataframe\">\n",
       "  <thead>\n",
       "    <tr style=\"text-align: right;\">\n",
       "      <th></th>\n",
       "      <th>id</th>\n",
       "      <th>member_id</th>\n",
       "      <th>loan_amnt</th>\n",
       "      <th>funded_amnt</th>\n",
       "      <th>funded_amnt_inv</th>\n",
       "      <th>installment</th>\n",
       "      <th>annual_inc</th>\n",
       "      <th>dti</th>\n",
       "      <th>delinq_2yrs</th>\n",
       "      <th>inq_last_6mths</th>\n",
       "      <th>...</th>\n",
       "      <th>out_prncp_inv</th>\n",
       "      <th>total_pymnt</th>\n",
       "      <th>total_pymnt_inv</th>\n",
       "      <th>total_rec_prncp</th>\n",
       "      <th>total_rec_int</th>\n",
       "      <th>recoveries</th>\n",
       "      <th>collection_recovery_fee</th>\n",
       "      <th>last_pymnt_amnt</th>\n",
       "      <th>pub_rec_bankruptcies</th>\n",
       "      <th>credit_lose</th>\n",
       "    </tr>\n",
       "  </thead>\n",
       "  <tbody>\n",
       "    <tr>\n",
       "      <th>1</th>\n",
       "      <td>1077430</td>\n",
       "      <td>1314167</td>\n",
       "      <td>2500</td>\n",
       "      <td>2500</td>\n",
       "      <td>2500.0</td>\n",
       "      <td>59.83</td>\n",
       "      <td>30000.0</td>\n",
       "      <td>1.00</td>\n",
       "      <td>0</td>\n",
       "      <td>5</td>\n",
       "      <td>...</td>\n",
       "      <td>0.0</td>\n",
       "      <td>1008.71</td>\n",
       "      <td>1008.71</td>\n",
       "      <td>456.46</td>\n",
       "      <td>435.17</td>\n",
       "      <td>117.08</td>\n",
       "      <td>1.1100</td>\n",
       "      <td>119.66</td>\n",
       "      <td>0.0</td>\n",
       "      <td>2043.54</td>\n",
       "    </tr>\n",
       "    <tr>\n",
       "      <th>8</th>\n",
       "      <td>1071795</td>\n",
       "      <td>1306957</td>\n",
       "      <td>5600</td>\n",
       "      <td>5600</td>\n",
       "      <td>5600.0</td>\n",
       "      <td>152.39</td>\n",
       "      <td>40000.0</td>\n",
       "      <td>5.55</td>\n",
       "      <td>0</td>\n",
       "      <td>2</td>\n",
       "      <td>...</td>\n",
       "      <td>0.0</td>\n",
       "      <td>646.02</td>\n",
       "      <td>646.02</td>\n",
       "      <td>162.02</td>\n",
       "      <td>294.94</td>\n",
       "      <td>189.06</td>\n",
       "      <td>2.0900</td>\n",
       "      <td>152.39</td>\n",
       "      <td>0.0</td>\n",
       "      <td>5437.98</td>\n",
       "    </tr>\n",
       "    <tr>\n",
       "      <th>9</th>\n",
       "      <td>1071570</td>\n",
       "      <td>1306721</td>\n",
       "      <td>5375</td>\n",
       "      <td>5375</td>\n",
       "      <td>5350.0</td>\n",
       "      <td>121.45</td>\n",
       "      <td>15000.0</td>\n",
       "      <td>18.08</td>\n",
       "      <td>0</td>\n",
       "      <td>0</td>\n",
       "      <td>...</td>\n",
       "      <td>0.0</td>\n",
       "      <td>1476.19</td>\n",
       "      <td>1469.34</td>\n",
       "      <td>673.48</td>\n",
       "      <td>533.42</td>\n",
       "      <td>269.29</td>\n",
       "      <td>2.5200</td>\n",
       "      <td>121.45</td>\n",
       "      <td>0.0</td>\n",
       "      <td>4701.52</td>\n",
       "    </tr>\n",
       "    <tr>\n",
       "      <th>12</th>\n",
       "      <td>1064687</td>\n",
       "      <td>1298717</td>\n",
       "      <td>9000</td>\n",
       "      <td>9000</td>\n",
       "      <td>9000.0</td>\n",
       "      <td>305.38</td>\n",
       "      <td>30000.0</td>\n",
       "      <td>10.08</td>\n",
       "      <td>0</td>\n",
       "      <td>1</td>\n",
       "      <td>...</td>\n",
       "      <td>0.0</td>\n",
       "      <td>2270.70</td>\n",
       "      <td>2270.70</td>\n",
       "      <td>1256.14</td>\n",
       "      <td>570.26</td>\n",
       "      <td>444.30</td>\n",
       "      <td>4.1600</td>\n",
       "      <td>305.38</td>\n",
       "      <td>0.0</td>\n",
       "      <td>7743.86</td>\n",
       "    </tr>\n",
       "    <tr>\n",
       "      <th>14</th>\n",
       "      <td>1069057</td>\n",
       "      <td>1303503</td>\n",
       "      <td>10000</td>\n",
       "      <td>10000</td>\n",
       "      <td>10000.0</td>\n",
       "      <td>325.74</td>\n",
       "      <td>100000.0</td>\n",
       "      <td>7.06</td>\n",
       "      <td>0</td>\n",
       "      <td>2</td>\n",
       "      <td>...</td>\n",
       "      <td>0.0</td>\n",
       "      <td>7471.99</td>\n",
       "      <td>7471.99</td>\n",
       "      <td>5433.47</td>\n",
       "      <td>1393.42</td>\n",
       "      <td>645.10</td>\n",
       "      <td>6.3145</td>\n",
       "      <td>325.74</td>\n",
       "      <td>0.0</td>\n",
       "      <td>4566.53</td>\n",
       "    </tr>\n",
       "  </tbody>\n",
       "</table>\n",
       "<p>5 rows × 25 columns</p>\n",
       "</div>"
      ],
      "text/plain": [
       "         id  member_id  loan_amnt  funded_amnt  funded_amnt_inv  installment  \\\n",
       "1   1077430    1314167       2500         2500           2500.0        59.83   \n",
       "8   1071795    1306957       5600         5600           5600.0       152.39   \n",
       "9   1071570    1306721       5375         5375           5350.0       121.45   \n",
       "12  1064687    1298717       9000         9000           9000.0       305.38   \n",
       "14  1069057    1303503      10000        10000          10000.0       325.74   \n",
       "\n",
       "    annual_inc    dti  delinq_2yrs  inq_last_6mths  ...  out_prncp_inv  \\\n",
       "1      30000.0   1.00            0               5  ...            0.0   \n",
       "8      40000.0   5.55            0               2  ...            0.0   \n",
       "9      15000.0  18.08            0               0  ...            0.0   \n",
       "12     30000.0  10.08            0               1  ...            0.0   \n",
       "14    100000.0   7.06            0               2  ...            0.0   \n",
       "\n",
       "    total_pymnt  total_pymnt_inv  total_rec_prncp  total_rec_int  recoveries  \\\n",
       "1       1008.71          1008.71           456.46         435.17      117.08   \n",
       "8        646.02           646.02           162.02         294.94      189.06   \n",
       "9       1476.19          1469.34           673.48         533.42      269.29   \n",
       "12      2270.70          2270.70          1256.14         570.26      444.30   \n",
       "14      7471.99          7471.99          5433.47        1393.42      645.10   \n",
       "\n",
       "    collection_recovery_fee  last_pymnt_amnt  pub_rec_bankruptcies  \\\n",
       "1                    1.1100           119.66                   0.0   \n",
       "8                    2.0900           152.39                   0.0   \n",
       "9                    2.5200           121.45                   0.0   \n",
       "12                   4.1600           305.38                   0.0   \n",
       "14                   6.3145           325.74                   0.0   \n",
       "\n",
       "    credit_lose  \n",
       "1       2043.54  \n",
       "8       5437.98  \n",
       "9       4701.52  \n",
       "12      7743.86  \n",
       "14      4566.53  \n",
       "\n",
       "[5 rows x 25 columns]"
      ]
     },
     "execution_count": 898,
     "metadata": {},
     "output_type": "execute_result"
    }
   ],
   "source": [
    "numeric_data.head()"
   ]
  },
  {
   "cell_type": "code",
   "execution_count": 967,
   "metadata": {},
   "outputs": [
    {
     "name": "stdout",
     "output_type": "stream",
     "text": [
      "Total number of Numeric columns: 23\n"
     ]
    }
   ],
   "source": [
    "\n",
    "# Finding categorical features\n",
    "categorical_data = loan_data_default.select_dtypes(exclude = [np.number])\n",
    "\n",
    "print ('Total number of Numeric columns:',len(list(categorical_data)))"
   ]
  },
  {
   "cell_type": "code",
   "execution_count": 900,
   "metadata": {},
   "outputs": [
    {
     "data": {
      "text/html": [
       "<div>\n",
       "<style scoped>\n",
       "    .dataframe tbody tr th:only-of-type {\n",
       "        vertical-align: middle;\n",
       "    }\n",
       "\n",
       "    .dataframe tbody tr th {\n",
       "        vertical-align: top;\n",
       "    }\n",
       "\n",
       "    .dataframe thead th {\n",
       "        text-align: right;\n",
       "    }\n",
       "</style>\n",
       "<table border=\"1\" class=\"dataframe\">\n",
       "  <thead>\n",
       "    <tr style=\"text-align: right;\">\n",
       "      <th></th>\n",
       "      <th>term</th>\n",
       "      <th>int_rate</th>\n",
       "      <th>grade</th>\n",
       "      <th>sub_grade</th>\n",
       "      <th>emp_title</th>\n",
       "      <th>emp_length</th>\n",
       "      <th>home_ownership</th>\n",
       "      <th>verification_status</th>\n",
       "      <th>issue_d</th>\n",
       "      <th>loan_status</th>\n",
       "      <th>...</th>\n",
       "      <th>purpose</th>\n",
       "      <th>title</th>\n",
       "      <th>zip_code</th>\n",
       "      <th>addr_state</th>\n",
       "      <th>earliest_cr_line</th>\n",
       "      <th>revol_util</th>\n",
       "      <th>initial_list_status</th>\n",
       "      <th>last_pymnt_d</th>\n",
       "      <th>last_credit_pull_d</th>\n",
       "      <th>application_type</th>\n",
       "    </tr>\n",
       "  </thead>\n",
       "  <tbody>\n",
       "    <tr>\n",
       "      <th>1</th>\n",
       "      <td>60 months</td>\n",
       "      <td>15.27%</td>\n",
       "      <td>C</td>\n",
       "      <td>C4</td>\n",
       "      <td>Ryder</td>\n",
       "      <td>&lt; 1 year</td>\n",
       "      <td>RENT</td>\n",
       "      <td>Source Verified</td>\n",
       "      <td>Dec-11</td>\n",
       "      <td>Charged Off</td>\n",
       "      <td>...</td>\n",
       "      <td>car</td>\n",
       "      <td>bike</td>\n",
       "      <td>309xx</td>\n",
       "      <td>GA</td>\n",
       "      <td>Apr-99</td>\n",
       "      <td>9.40%</td>\n",
       "      <td>f</td>\n",
       "      <td>Apr-13</td>\n",
       "      <td>Sep-13</td>\n",
       "      <td>INDIVIDUAL</td>\n",
       "    </tr>\n",
       "    <tr>\n",
       "      <th>8</th>\n",
       "      <td>60 months</td>\n",
       "      <td>21.28%</td>\n",
       "      <td>F</td>\n",
       "      <td>F2</td>\n",
       "      <td>NaN</td>\n",
       "      <td>4 years</td>\n",
       "      <td>OWN</td>\n",
       "      <td>Source Verified</td>\n",
       "      <td>Dec-11</td>\n",
       "      <td>Charged Off</td>\n",
       "      <td>...</td>\n",
       "      <td>small_business</td>\n",
       "      <td>Expand Business &amp; Buy Debt Portfolio</td>\n",
       "      <td>958xx</td>\n",
       "      <td>CA</td>\n",
       "      <td>Apr-04</td>\n",
       "      <td>32.60%</td>\n",
       "      <td>f</td>\n",
       "      <td>Apr-12</td>\n",
       "      <td>Aug-12</td>\n",
       "      <td>INDIVIDUAL</td>\n",
       "    </tr>\n",
       "    <tr>\n",
       "      <th>9</th>\n",
       "      <td>60 months</td>\n",
       "      <td>12.69%</td>\n",
       "      <td>B</td>\n",
       "      <td>B5</td>\n",
       "      <td>Starbucks</td>\n",
       "      <td>&lt; 1 year</td>\n",
       "      <td>RENT</td>\n",
       "      <td>Verified</td>\n",
       "      <td>Dec-11</td>\n",
       "      <td>Charged Off</td>\n",
       "      <td>...</td>\n",
       "      <td>other</td>\n",
       "      <td>Building my credit history.</td>\n",
       "      <td>774xx</td>\n",
       "      <td>TX</td>\n",
       "      <td>Sep-04</td>\n",
       "      <td>36.50%</td>\n",
       "      <td>f</td>\n",
       "      <td>Nov-12</td>\n",
       "      <td>Mar-13</td>\n",
       "      <td>INDIVIDUAL</td>\n",
       "    </tr>\n",
       "    <tr>\n",
       "      <th>12</th>\n",
       "      <td>36 months</td>\n",
       "      <td>13.49%</td>\n",
       "      <td>C</td>\n",
       "      <td>C1</td>\n",
       "      <td>Va. Dept of Conservation/Recreation</td>\n",
       "      <td>&lt; 1 year</td>\n",
       "      <td>RENT</td>\n",
       "      <td>Source Verified</td>\n",
       "      <td>Dec-11</td>\n",
       "      <td>Charged Off</td>\n",
       "      <td>...</td>\n",
       "      <td>debt_consolidation</td>\n",
       "      <td>freedom</td>\n",
       "      <td>245xx</td>\n",
       "      <td>VA</td>\n",
       "      <td>Apr-04</td>\n",
       "      <td>91.70%</td>\n",
       "      <td>f</td>\n",
       "      <td>Jul-12</td>\n",
       "      <td>Nov-12</td>\n",
       "      <td>INDIVIDUAL</td>\n",
       "    </tr>\n",
       "    <tr>\n",
       "      <th>14</th>\n",
       "      <td>36 months</td>\n",
       "      <td>10.65%</td>\n",
       "      <td>B</td>\n",
       "      <td>B2</td>\n",
       "      <td>SFMTA</td>\n",
       "      <td>3 years</td>\n",
       "      <td>RENT</td>\n",
       "      <td>Source Verified</td>\n",
       "      <td>Dec-11</td>\n",
       "      <td>Charged Off</td>\n",
       "      <td>...</td>\n",
       "      <td>other</td>\n",
       "      <td>Other Loan</td>\n",
       "      <td>951xx</td>\n",
       "      <td>CA</td>\n",
       "      <td>May-91</td>\n",
       "      <td>55.50%</td>\n",
       "      <td>f</td>\n",
       "      <td>Oct-13</td>\n",
       "      <td>Mar-14</td>\n",
       "      <td>INDIVIDUAL</td>\n",
       "    </tr>\n",
       "  </tbody>\n",
       "</table>\n",
       "<p>5 rows × 23 columns</p>\n",
       "</div>"
      ],
      "text/plain": [
       "          term int_rate grade sub_grade                            emp_title  \\\n",
       "1    60 months   15.27%     C        C4                                Ryder   \n",
       "8    60 months   21.28%     F        F2                                  NaN   \n",
       "9    60 months   12.69%     B        B5                            Starbucks   \n",
       "12   36 months   13.49%     C        C1  Va. Dept of Conservation/Recreation   \n",
       "14   36 months   10.65%     B        B2                                SFMTA   \n",
       "\n",
       "   emp_length home_ownership verification_status issue_d  loan_status  ...  \\\n",
       "1    < 1 year           RENT     Source Verified  Dec-11  Charged Off  ...   \n",
       "8     4 years            OWN     Source Verified  Dec-11  Charged Off  ...   \n",
       "9    < 1 year           RENT            Verified  Dec-11  Charged Off  ...   \n",
       "12   < 1 year           RENT     Source Verified  Dec-11  Charged Off  ...   \n",
       "14    3 years           RENT     Source Verified  Dec-11  Charged Off  ...   \n",
       "\n",
       "               purpose                                 title zip_code  \\\n",
       "1                  car                                  bike    309xx   \n",
       "8       small_business  Expand Business & Buy Debt Portfolio    958xx   \n",
       "9                other           Building my credit history.    774xx   \n",
       "12  debt_consolidation                               freedom    245xx   \n",
       "14               other                            Other Loan    951xx   \n",
       "\n",
       "   addr_state earliest_cr_line revol_util initial_list_status last_pymnt_d  \\\n",
       "1          GA           Apr-99      9.40%                   f       Apr-13   \n",
       "8          CA           Apr-04     32.60%                   f       Apr-12   \n",
       "9          TX           Sep-04     36.50%                   f       Nov-12   \n",
       "12         VA           Apr-04     91.70%                   f       Jul-12   \n",
       "14         CA           May-91     55.50%                   f       Oct-13   \n",
       "\n",
       "   last_credit_pull_d application_type  \n",
       "1              Sep-13       INDIVIDUAL  \n",
       "8              Aug-12       INDIVIDUAL  \n",
       "9              Mar-13       INDIVIDUAL  \n",
       "12             Nov-12       INDIVIDUAL  \n",
       "14             Mar-14       INDIVIDUAL  \n",
       "\n",
       "[5 rows x 23 columns]"
      ]
     },
     "execution_count": 900,
     "metadata": {},
     "output_type": "execute_result"
    }
   ],
   "source": [
    "categorical_data.head()"
   ]
  },
  {
   "cell_type": "markdown",
   "metadata": {},
   "source": [
    "### Analysis on Numerical Features"
   ]
  },
  {
   "cell_type": "markdown",
   "metadata": {},
   "source": [
    "#### Distribution of Numerical Variables "
   ]
  },
  {
   "cell_type": "code",
   "execution_count": 901,
   "metadata": {},
   "outputs": [
    {
     "data": {
      "text/plain": [
       "['id',\n",
       " 'member_id',\n",
       " 'loan_amnt',\n",
       " 'funded_amnt',\n",
       " 'funded_amnt_inv',\n",
       " 'installment',\n",
       " 'annual_inc',\n",
       " 'dti',\n",
       " 'delinq_2yrs',\n",
       " 'inq_last_6mths',\n",
       " 'open_acc',\n",
       " 'pub_rec',\n",
       " 'revol_bal',\n",
       " 'total_acc',\n",
       " 'out_prncp',\n",
       " 'out_prncp_inv',\n",
       " 'total_pymnt',\n",
       " 'total_pymnt_inv',\n",
       " 'total_rec_prncp',\n",
       " 'total_rec_int',\n",
       " 'recoveries',\n",
       " 'collection_recovery_fee',\n",
       " 'last_pymnt_amnt',\n",
       " 'pub_rec_bankruptcies',\n",
       " 'credit_lose']"
      ]
     },
     "execution_count": 901,
     "metadata": {},
     "output_type": "execute_result"
    }
   ],
   "source": [
    "#Selecting only on index columns\n",
    "\n",
    "list(numeric_data)\n"
   ]
  },
  {
   "cell_type": "code",
   "execution_count": 902,
   "metadata": {},
   "outputs": [
    {
     "data": {
      "text/plain": [
       "<matplotlib.axes._subplots.AxesSubplot at 0x24b51fe5978>"
      ]
     },
     "execution_count": 902,
     "metadata": {},
     "output_type": "execute_result"
    },
    {
     "data": {
      "image/png": "[encoded data removed]",
      "text/plain": [
       "<Figure size 432x288 with 1 Axes>"
      ]
     },
     "metadata": {},
     "output_type": "display_data"
    }
   ],
   "source": [
    "sns.distplot(numeric_data['delinq_2yrs'])"
   ]
  },
  {
   "cell_type": "code",
   "execution_count": 903,
   "metadata": {},
   "outputs": [
    {
     "data": {
      "text/plain": [
       "<matplotlib.axes._subplots.AxesSubplot at 0x24b52087940>"
      ]
     },
     "execution_count": 903,
     "metadata": {},
     "output_type": "execute_result"
    },
    {
     "data": {
      "image/png": "[encoded data removed]",
      "text/plain": [
       "<Figure size 432x288 with 1 Axes>"
      ]
     },
     "metadata": {},
     "output_type": "display_data"
    }
   ],
   "source": [
    "sns.distplot(numeric_data['collection_recovery_fee'])"
   ]
  },
  {
   "cell_type": "code",
   "execution_count": 904,
   "metadata": {},
   "outputs": [
    {
     "name": "stderr",
     "output_type": "stream",
     "text": [
      "C:\\ProgramData\\Anaconda3\\lib\\site-packages\\pandas\\core\\series.py:4303: SettingWithCopyWarning: \n",
      "A value is trying to be set on a copy of a slice from a DataFrame\n",
      "\n",
      "See the caveats in the documentation: http://pandas.pydata.org/pandas-docs/stable/indexing.html#indexing-view-versus-copy\n",
      "  self._update_inplace(result)\n"
     ]
    },
    {
     "data": {
      "text/plain": [
       "<matplotlib.axes._subplots.AxesSubplot at 0x24b4f38bd30>"
      ]
     },
     "execution_count": 904,
     "metadata": {},
     "output_type": "execute_result"
    },
    {
     "data": {
      "image/png": "[encoded data removed]",
      "text/plain": [
       "<Figure size 432x288 with 1 Axes>"
      ]
     },
     "metadata": {},
     "output_type": "display_data"
    }
   ],
   "source": [
    "numeric_data['pub_rec_bankruptcies'].dropna(inplace  = True)\n",
    "sns.distplot(numeric_data['pub_rec_bankruptcies'])"
   ]
  },
  {
   "cell_type": "markdown",
   "metadata": {},
   "source": [
    "The above columns have data distribution concentrated to zero in large percentage, thus these columns will not have a great impact in analysis, thus deleting those columns"
   ]
  },
  {
   "cell_type": "markdown",
   "metadata": {},
   "source": [
    "### Removing the columns with zero vaue through out."
   ]
  },
  {
   "cell_type": "code",
   "execution_count": 905,
   "metadata": {
    "scrolled": true
   },
   "outputs": [
    {
     "data": {
      "text/plain": [
       "0"
      ]
     },
     "execution_count": 905,
     "metadata": {},
     "output_type": "execute_result"
    }
   ],
   "source": [
    "(numeric_data.out_prncp_inv!= 0).sum()"
   ]
  },
  {
   "cell_type": "code",
   "execution_count": 906,
   "metadata": {
    "scrolled": false
   },
   "outputs": [
    {
     "data": {
      "text/plain": [
       "0"
      ]
     },
     "execution_count": 906,
     "metadata": {},
     "output_type": "execute_result"
    }
   ],
   "source": [
    "(numeric_data.out_prncp != 0).sum()"
   ]
  },
  {
   "cell_type": "code",
   "execution_count": 907,
   "metadata": {},
   "outputs": [
    {
     "name": "stderr",
     "output_type": "stream",
     "text": [
      "C:\\ProgramData\\Anaconda3\\lib\\site-packages\\pandas\\core\\frame.py:3940: SettingWithCopyWarning: \n",
      "A value is trying to be set on a copy of a slice from a DataFrame\n",
      "\n",
      "See the caveats in the documentation: http://pandas.pydata.org/pandas-docs/stable/indexing.html#indexing-view-versus-copy\n",
      "  errors=errors)\n"
     ]
    }
   ],
   "source": [
    "numeric_data.drop(['out_prncp_inv','out_prncp'],axis = 1, inplace = True)"
   ]
  },
  {
   "cell_type": "code",
   "execution_count": 908,
   "metadata": {
    "scrolled": true
   },
   "outputs": [],
   "source": [
    "numeric_data.drop(['pub_rec_bankruptcies','delinq_2yrs','collection_recovery_fee','pub_rec_bankruptcies'],axis = 1, inplace = True)"
   ]
  },
  {
   "cell_type": "code",
   "execution_count": 909,
   "metadata": {
    "scrolled": true
   },
   "outputs": [
    {
     "name": "stdout",
     "output_type": "stream",
     "text": [
      "Number of columns:  20\n"
     ]
    }
   ],
   "source": [
    "print ('Number of columns: ', numeric_data.shape[1])"
   ]
  },
  {
   "cell_type": "code",
   "execution_count": 910,
   "metadata": {},
   "outputs": [
    {
     "data": {
      "text/html": [
       "<div>\n",
       "<style scoped>\n",
       "    .dataframe tbody tr th:only-of-type {\n",
       "        vertical-align: middle;\n",
       "    }\n",
       "\n",
       "    .dataframe tbody tr th {\n",
       "        vertical-align: top;\n",
       "    }\n",
       "\n",
       "    .dataframe thead th {\n",
       "        text-align: right;\n",
       "    }\n",
       "</style>\n",
       "<table border=\"1\" class=\"dataframe\">\n",
       "  <thead>\n",
       "    <tr style=\"text-align: right;\">\n",
       "      <th></th>\n",
       "      <th>id</th>\n",
       "      <th>member_id</th>\n",
       "      <th>loan_amnt</th>\n",
       "      <th>funded_amnt</th>\n",
       "      <th>funded_amnt_inv</th>\n",
       "      <th>installment</th>\n",
       "      <th>annual_inc</th>\n",
       "      <th>dti</th>\n",
       "      <th>inq_last_6mths</th>\n",
       "      <th>open_acc</th>\n",
       "      <th>pub_rec</th>\n",
       "      <th>revol_bal</th>\n",
       "      <th>total_acc</th>\n",
       "      <th>total_pymnt</th>\n",
       "      <th>total_pymnt_inv</th>\n",
       "      <th>total_rec_prncp</th>\n",
       "      <th>total_rec_int</th>\n",
       "      <th>recoveries</th>\n",
       "      <th>last_pymnt_amnt</th>\n",
       "      <th>credit_lose</th>\n",
       "    </tr>\n",
       "  </thead>\n",
       "  <tbody>\n",
       "    <tr>\n",
       "      <th>1</th>\n",
       "      <td>1077430</td>\n",
       "      <td>1314167</td>\n",
       "      <td>2500</td>\n",
       "      <td>2500</td>\n",
       "      <td>2500.0</td>\n",
       "      <td>59.83</td>\n",
       "      <td>30000.0</td>\n",
       "      <td>1.00</td>\n",
       "      <td>5</td>\n",
       "      <td>3</td>\n",
       "      <td>0</td>\n",
       "      <td>1687</td>\n",
       "      <td>4</td>\n",
       "      <td>1008.71</td>\n",
       "      <td>1008.71</td>\n",
       "      <td>456.46</td>\n",
       "      <td>435.17</td>\n",
       "      <td>117.08</td>\n",
       "      <td>119.66</td>\n",
       "      <td>2043.54</td>\n",
       "    </tr>\n",
       "    <tr>\n",
       "      <th>8</th>\n",
       "      <td>1071795</td>\n",
       "      <td>1306957</td>\n",
       "      <td>5600</td>\n",
       "      <td>5600</td>\n",
       "      <td>5600.0</td>\n",
       "      <td>152.39</td>\n",
       "      <td>40000.0</td>\n",
       "      <td>5.55</td>\n",
       "      <td>2</td>\n",
       "      <td>11</td>\n",
       "      <td>0</td>\n",
       "      <td>5210</td>\n",
       "      <td>13</td>\n",
       "      <td>646.02</td>\n",
       "      <td>646.02</td>\n",
       "      <td>162.02</td>\n",
       "      <td>294.94</td>\n",
       "      <td>189.06</td>\n",
       "      <td>152.39</td>\n",
       "      <td>5437.98</td>\n",
       "    </tr>\n",
       "    <tr>\n",
       "      <th>9</th>\n",
       "      <td>1071570</td>\n",
       "      <td>1306721</td>\n",
       "      <td>5375</td>\n",
       "      <td>5375</td>\n",
       "      <td>5350.0</td>\n",
       "      <td>121.45</td>\n",
       "      <td>15000.0</td>\n",
       "      <td>18.08</td>\n",
       "      <td>0</td>\n",
       "      <td>2</td>\n",
       "      <td>0</td>\n",
       "      <td>9279</td>\n",
       "      <td>3</td>\n",
       "      <td>1476.19</td>\n",
       "      <td>1469.34</td>\n",
       "      <td>673.48</td>\n",
       "      <td>533.42</td>\n",
       "      <td>269.29</td>\n",
       "      <td>121.45</td>\n",
       "      <td>4701.52</td>\n",
       "    </tr>\n",
       "    <tr>\n",
       "      <th>12</th>\n",
       "      <td>1064687</td>\n",
       "      <td>1298717</td>\n",
       "      <td>9000</td>\n",
       "      <td>9000</td>\n",
       "      <td>9000.0</td>\n",
       "      <td>305.38</td>\n",
       "      <td>30000.0</td>\n",
       "      <td>10.08</td>\n",
       "      <td>1</td>\n",
       "      <td>4</td>\n",
       "      <td>0</td>\n",
       "      <td>10452</td>\n",
       "      <td>9</td>\n",
       "      <td>2270.70</td>\n",
       "      <td>2270.70</td>\n",
       "      <td>1256.14</td>\n",
       "      <td>570.26</td>\n",
       "      <td>444.30</td>\n",
       "      <td>305.38</td>\n",
       "      <td>7743.86</td>\n",
       "    </tr>\n",
       "    <tr>\n",
       "      <th>14</th>\n",
       "      <td>1069057</td>\n",
       "      <td>1303503</td>\n",
       "      <td>10000</td>\n",
       "      <td>10000</td>\n",
       "      <td>10000.0</td>\n",
       "      <td>325.74</td>\n",
       "      <td>100000.0</td>\n",
       "      <td>7.06</td>\n",
       "      <td>2</td>\n",
       "      <td>14</td>\n",
       "      <td>0</td>\n",
       "      <td>11997</td>\n",
       "      <td>29</td>\n",
       "      <td>7471.99</td>\n",
       "      <td>7471.99</td>\n",
       "      <td>5433.47</td>\n",
       "      <td>1393.42</td>\n",
       "      <td>645.10</td>\n",
       "      <td>325.74</td>\n",
       "      <td>4566.53</td>\n",
       "    </tr>\n",
       "  </tbody>\n",
       "</table>\n",
       "</div>"
      ],
      "text/plain": [
       "         id  member_id  loan_amnt  funded_amnt  funded_amnt_inv  installment  \\\n",
       "1   1077430    1314167       2500         2500           2500.0        59.83   \n",
       "8   1071795    1306957       5600         5600           5600.0       152.39   \n",
       "9   1071570    1306721       5375         5375           5350.0       121.45   \n",
       "12  1064687    1298717       9000         9000           9000.0       305.38   \n",
       "14  1069057    1303503      10000        10000          10000.0       325.74   \n",
       "\n",
       "    annual_inc    dti  inq_last_6mths  open_acc  pub_rec  revol_bal  \\\n",
       "1      30000.0   1.00               5         3        0       1687   \n",
       "8      40000.0   5.55               2        11        0       5210   \n",
       "9      15000.0  18.08               0         2        0       9279   \n",
       "12     30000.0  10.08               1         4        0      10452   \n",
       "14    100000.0   7.06               2        14        0      11997   \n",
       "\n",
       "    total_acc  total_pymnt  total_pymnt_inv  total_rec_prncp  total_rec_int  \\\n",
       "1           4      1008.71          1008.71           456.46         435.17   \n",
       "8          13       646.02           646.02           162.02         294.94   \n",
       "9           3      1476.19          1469.34           673.48         533.42   \n",
       "12          9      2270.70          2270.70          1256.14         570.26   \n",
       "14         29      7471.99          7471.99          5433.47        1393.42   \n",
       "\n",
       "    recoveries  last_pymnt_amnt  credit_lose  \n",
       "1       117.08           119.66      2043.54  \n",
       "8       189.06           152.39      5437.98  \n",
       "9       269.29           121.45      4701.52  \n",
       "12      444.30           305.38      7743.86  \n",
       "14      645.10           325.74      4566.53  "
      ]
     },
     "execution_count": 910,
     "metadata": {},
     "output_type": "execute_result"
    }
   ],
   "source": [
    "numeric_data.head()"
   ]
  },
  {
   "cell_type": "markdown",
   "metadata": {},
   "source": [
    "### Correlation Between Numerical featuers and Loan Attributes"
   ]
  },
  {
   "cell_type": "code",
   "execution_count": 911,
   "metadata": {},
   "outputs": [],
   "source": [
    "#Removing the index columns like id and member_id before ploting correlation \n",
    "\n",
    "\n",
    "numeric_data.drop(['id','member_id'],axis = 1, inplace = True)"
   ]
  },
  {
   "cell_type": "code",
   "execution_count": 912,
   "metadata": {},
   "outputs": [
    {
     "data": {
      "text/plain": [
       "<matplotlib.axes._subplots.AxesSubplot at 0x24b5226ec50>"
      ]
     },
     "execution_count": 912,
     "metadata": {},
     "output_type": "execute_result"
    },
    {
     "data": {
      "image/png": "[encoded data removed]",
      "text/plain": [
       "<Figure size 792x648 with 2 Axes>"
      ]
     },
     "metadata": {},
     "output_type": "display_data"
    }
   ],
   "source": [
    "from string import ascii_letters\n",
    "import numpy as np\n",
    "import pandas as pd\n",
    "import seaborn as sns\n",
    "import matplotlib.pyplot as plt\n",
    "\n",
    "sns.set(style=\"white\")\n",
    "\n",
    "# Compute the correlation matrix\n",
    "corr = numeric_data.corr()\n",
    "\n",
    "# Generate a mask for the upper triangle\n",
    "mask = np.zeros_like(corr, dtype=np.bool)\n",
    "mask[np.triu_indices_from(mask)] = True\n",
    "\n",
    "# Set up the matplotlib figure\n",
    "f, ax = plt.subplots(figsize=(11, 9))\n",
    "\n",
    "# Generate a custom diverging colormap\n",
    "cmap = sns.diverging_palette(220, 10, as_cmap=True)\n",
    "\n",
    "# Draw the heatmap with the mask and correct aspect ratio\n",
    "sns.heatmap(corr, mask=mask, cmap=cmap, vmax=.3, center=0,\n",
    "            square=True, linewidths=.5, cbar_kws={\"shrink\": .5})"
   ]
  },
  {
   "cell_type": "code",
   "execution_count": 913,
   "metadata": {},
   "outputs": [
    {
     "data": {
      "text/html": [
       "<style  type=\"text/css\" >\n",
       "    #T_9b103bd8_b6d6_11e9_9c31_e86a645f3aec th {\n",
       "          font-size: 7pt;\n",
       "    }    #T_9b103bd8_b6d6_11e9_9c31_e86a645f3aec td {\n",
       "          padding: 0em 0em;\n",
       "    }    #T_9b103bd8_b6d6_11e9_9c31_e86a645f3aec th:hover {\n",
       "          font-size: 12pt;\n",
       "    }    #T_9b103bd8_b6d6_11e9_9c31_e86a645f3aec tr:hover td:hover {\n",
       "          max-width: 200px;\n",
       "          font-size: 12pt;\n",
       "    }    #T_9b103bd8_b6d6_11e9_9c31_e86a645f3aecrow0_col0 {\n",
       "            background-color:  #4479bb;\n",
       "            color:  #000000;\n",
       "            max-width:  80px;\n",
       "            font-size:  10pt;\n",
       "        }    #T_9b103bd8_b6d6_11e9_9c31_e86a645f3aecrow0_col1 {\n",
       "            background-color:  #4a7ebd;\n",
       "            color:  #000000;\n",
       "            max-width:  80px;\n",
       "            font-size:  10pt;\n",
       "        }    #T_9b103bd8_b6d6_11e9_9c31_e86a645f3aecrow0_col2 {\n",
       "            background-color:  #628fc6;\n",
       "            color:  #000000;\n",
       "            max-width:  80px;\n",
       "            font-size:  10pt;\n",
       "        }    #T_9b103bd8_b6d6_11e9_9c31_e86a645f3aecrow0_col3 {\n",
       "            background-color:  #5c8ac4;\n",
       "            color:  #000000;\n",
       "            max-width:  80px;\n",
       "            font-size:  10pt;\n",
       "        }    #T_9b103bd8_b6d6_11e9_9c31_e86a645f3aecrow0_col4 {\n",
       "            background-color:  #f3c6cf;\n",
       "            color:  #000000;\n",
       "            max-width:  80px;\n",
       "            font-size:  10pt;\n",
       "        }    #T_9b103bd8_b6d6_11e9_9c31_e86a645f3aecrow0_col5 {\n",
       "            background-color:  #df627b;\n",
       "            color:  #000000;\n",
       "            max-width:  80px;\n",
       "            font-size:  10pt;\n",
       "        }    #T_9b103bd8_b6d6_11e9_9c31_e86a645f3aecrow0_col6 {\n",
       "            background-color:  #db4e6a;\n",
       "            color:  #000000;\n",
       "            max-width:  80px;\n",
       "            font-size:  10pt;\n",
       "        }    #T_9b103bd8_b6d6_11e9_9c31_e86a645f3aecrow0_col7 {\n",
       "            background-color:  #e78c9e;\n",
       "            color:  #000000;\n",
       "            max-width:  80px;\n",
       "            font-size:  10pt;\n",
       "        }    #T_9b103bd8_b6d6_11e9_9c31_e86a645f3aecrow0_col8 {\n",
       "            background-color:  #d73c5b;\n",
       "            color:  #f1f1f1;\n",
       "            max-width:  80px;\n",
       "            font-size:  10pt;\n",
       "        }    #T_9b103bd8_b6d6_11e9_9c31_e86a645f3aecrow0_col9 {\n",
       "            background-color:  #f1b9c4;\n",
       "            color:  #000000;\n",
       "            max-width:  80px;\n",
       "            font-size:  10pt;\n",
       "        }    #T_9b103bd8_b6d6_11e9_9c31_e86a645f3aecrow0_col10 {\n",
       "            background-color:  #eeaebb;\n",
       "            color:  #000000;\n",
       "            max-width:  80px;\n",
       "            font-size:  10pt;\n",
       "        }    #T_9b103bd8_b6d6_11e9_9c31_e86a645f3aecrow0_col11 {\n",
       "            background-color:  #aec5e1;\n",
       "            color:  #000000;\n",
       "            max-width:  80px;\n",
       "            font-size:  10pt;\n",
       "        }    #T_9b103bd8_b6d6_11e9_9c31_e86a645f3aecrow0_col12 {\n",
       "            background-color:  #bccfe7;\n",
       "            color:  #000000;\n",
       "            max-width:  80px;\n",
       "            font-size:  10pt;\n",
       "        }    #T_9b103bd8_b6d6_11e9_9c31_e86a645f3aecrow0_col13 {\n",
       "            background-color:  #dae5f2;\n",
       "            color:  #000000;\n",
       "            max-width:  80px;\n",
       "            font-size:  10pt;\n",
       "        }    #T_9b103bd8_b6d6_11e9_9c31_e86a645f3aecrow0_col14 {\n",
       "            background-color:  #a9c1e0;\n",
       "            color:  #000000;\n",
       "            max-width:  80px;\n",
       "            font-size:  10pt;\n",
       "        }    #T_9b103bd8_b6d6_11e9_9c31_e86a645f3aecrow0_col15 {\n",
       "            background-color:  #f1b8c3;\n",
       "            color:  #000000;\n",
       "            max-width:  80px;\n",
       "            font-size:  10pt;\n",
       "        }    #T_9b103bd8_b6d6_11e9_9c31_e86a645f3aecrow0_col16 {\n",
       "            background-color:  #f2c1cb;\n",
       "            color:  #000000;\n",
       "            max-width:  80px;\n",
       "            font-size:  10pt;\n",
       "        }    #T_9b103bd8_b6d6_11e9_9c31_e86a645f3aecrow0_col17 {\n",
       "            background-color:  #779dcd;\n",
       "            color:  #000000;\n",
       "            max-width:  80px;\n",
       "            font-size:  10pt;\n",
       "        }    #T_9b103bd8_b6d6_11e9_9c31_e86a645f3aecrow1_col0 {\n",
       "            background-color:  #4a7ebd;\n",
       "            color:  #000000;\n",
       "            max-width:  80px;\n",
       "            font-size:  10pt;\n",
       "        }    #T_9b103bd8_b6d6_11e9_9c31_e86a645f3aecrow1_col1 {\n",
       "            background-color:  #4479bb;\n",
       "            color:  #000000;\n",
       "            max-width:  80px;\n",
       "            font-size:  10pt;\n",
       "        }    #T_9b103bd8_b6d6_11e9_9c31_e86a645f3aecrow1_col2 {\n",
       "            background-color:  #5b89c3;\n",
       "            color:  #000000;\n",
       "            max-width:  80px;\n",
       "            font-size:  10pt;\n",
       "        }    #T_9b103bd8_b6d6_11e9_9c31_e86a645f3aecrow1_col3 {\n",
       "            background-color:  #5384c0;\n",
       "            color:  #000000;\n",
       "            max-width:  80px;\n",
       "            font-size:  10pt;\n",
       "        }    #T_9b103bd8_b6d6_11e9_9c31_e86a645f3aecrow1_col4 {\n",
       "            background-color:  #f3c6cf;\n",
       "            color:  #000000;\n",
       "            max-width:  80px;\n",
       "            font-size:  10pt;\n",
       "        }    #T_9b103bd8_b6d6_11e9_9c31_e86a645f3aecrow1_col5 {\n",
       "            background-color:  #df627b;\n",
       "            color:  #000000;\n",
       "            max-width:  80px;\n",
       "            font-size:  10pt;\n",
       "        }    #T_9b103bd8_b6d6_11e9_9c31_e86a645f3aecrow1_col6 {\n",
       "            background-color:  #db4f6b;\n",
       "            color:  #000000;\n",
       "            max-width:  80px;\n",
       "            font-size:  10pt;\n",
       "        }    #T_9b103bd8_b6d6_11e9_9c31_e86a645f3aecrow1_col7 {\n",
       "            background-color:  #e78c9e;\n",
       "            color:  #000000;\n",
       "            max-width:  80px;\n",
       "            font-size:  10pt;\n",
       "        }    #T_9b103bd8_b6d6_11e9_9c31_e86a645f3aecrow1_col8 {\n",
       "            background-color:  #d73c5b;\n",
       "            color:  #f1f1f1;\n",
       "            max-width:  80px;\n",
       "            font-size:  10pt;\n",
       "        }    #T_9b103bd8_b6d6_11e9_9c31_e86a645f3aecrow1_col9 {\n",
       "            background-color:  #f0b5c1;\n",
       "            color:  #000000;\n",
       "            max-width:  80px;\n",
       "            font-size:  10pt;\n",
       "        }    #T_9b103bd8_b6d6_11e9_9c31_e86a645f3aecrow1_col10 {\n",
       "            background-color:  #eeacba;\n",
       "            color:  #000000;\n",
       "            max-width:  80px;\n",
       "            font-size:  10pt;\n",
       "        }    #T_9b103bd8_b6d6_11e9_9c31_e86a645f3aecrow1_col11 {\n",
       "            background-color:  #a9c1e0;\n",
       "            color:  #000000;\n",
       "            max-width:  80px;\n",
       "            font-size:  10pt;\n",
       "        }    #T_9b103bd8_b6d6_11e9_9c31_e86a645f3aecrow1_col12 {\n",
       "            background-color:  #b5cae4;\n",
       "            color:  #000000;\n",
       "            max-width:  80px;\n",
       "            font-size:  10pt;\n",
       "        }    #T_9b103bd8_b6d6_11e9_9c31_e86a645f3aecrow1_col13 {\n",
       "            background-color:  #d4e0ef;\n",
       "            color:  #000000;\n",
       "            max-width:  80px;\n",
       "            font-size:  10pt;\n",
       "        }    #T_9b103bd8_b6d6_11e9_9c31_e86a645f3aecrow1_col14 {\n",
       "            background-color:  #a3bddd;\n",
       "            color:  #000000;\n",
       "            max-width:  80px;\n",
       "            font-size:  10pt;\n",
       "        }    #T_9b103bd8_b6d6_11e9_9c31_e86a645f3aecrow1_col15 {\n",
       "            background-color:  #f1bbc6;\n",
       "            color:  #000000;\n",
       "            max-width:  80px;\n",
       "            font-size:  10pt;\n",
       "        }    #T_9b103bd8_b6d6_11e9_9c31_e86a645f3aecrow1_col16 {\n",
       "            background-color:  #f3c4cd;\n",
       "            color:  #000000;\n",
       "            max-width:  80px;\n",
       "            font-size:  10pt;\n",
       "        }    #T_9b103bd8_b6d6_11e9_9c31_e86a645f3aecrow1_col17 {\n",
       "            background-color:  #7199cb;\n",
       "            color:  #000000;\n",
       "            max-width:  80px;\n",
       "            font-size:  10pt;\n",
       "        }    #T_9b103bd8_b6d6_11e9_9c31_e86a645f3aecrow2_col0 {\n",
       "            background-color:  #628fc6;\n",
       "            color:  #000000;\n",
       "            max-width:  80px;\n",
       "            font-size:  10pt;\n",
       "        }    #T_9b103bd8_b6d6_11e9_9c31_e86a645f3aecrow2_col1 {\n",
       "            background-color:  #5b89c3;\n",
       "            color:  #000000;\n",
       "            max-width:  80px;\n",
       "            font-size:  10pt;\n",
       "        }    #T_9b103bd8_b6d6_11e9_9c31_e86a645f3aecrow2_col2 {\n",
       "            background-color:  #4479bb;\n",
       "            color:  #000000;\n",
       "            max-width:  80px;\n",
       "            font-size:  10pt;\n",
       "        }    #T_9b103bd8_b6d6_11e9_9c31_e86a645f3aecrow2_col3 {\n",
       "            background-color:  #739acc;\n",
       "            color:  #000000;\n",
       "            max-width:  80px;\n",
       "            font-size:  10pt;\n",
       "        }    #T_9b103bd8_b6d6_11e9_9c31_e86a645f3aecrow2_col4 {\n",
       "            background-color:  #f1bbc6;\n",
       "            color:  #000000;\n",
       "            max-width:  80px;\n",
       "            font-size:  10pt;\n",
       "        }    #T_9b103bd8_b6d6_11e9_9c31_e86a645f3aecrow2_col5 {\n",
       "            background-color:  #e0667e;\n",
       "            color:  #000000;\n",
       "            max-width:  80px;\n",
       "            font-size:  10pt;\n",
       "        }    #T_9b103bd8_b6d6_11e9_9c31_e86a645f3aecrow2_col6 {\n",
       "            background-color:  #d94764;\n",
       "            color:  #f1f1f1;\n",
       "            max-width:  80px;\n",
       "            font-size:  10pt;\n",
       "        }    #T_9b103bd8_b6d6_11e9_9c31_e86a645f3aecrow2_col7 {\n",
       "            background-color:  #e68396;\n",
       "            color:  #000000;\n",
       "            max-width:  80px;\n",
       "            font-size:  10pt;\n",
       "        }    #T_9b103bd8_b6d6_11e9_9c31_e86a645f3aecrow2_col8 {\n",
       "            background-color:  #d73c5b;\n",
       "            color:  #f1f1f1;\n",
       "            max-width:  80px;\n",
       "            font-size:  10pt;\n",
       "        }    #T_9b103bd8_b6d6_11e9_9c31_e86a645f3aecrow2_col9 {\n",
       "            background-color:  #eda6b4;\n",
       "            color:  #000000;\n",
       "            max-width:  80px;\n",
       "            font-size:  10pt;\n",
       "        }    #T_9b103bd8_b6d6_11e9_9c31_e86a645f3aecrow2_col10 {\n",
       "            background-color:  #eda6b4;\n",
       "            color:  #000000;\n",
       "            max-width:  80px;\n",
       "            font-size:  10pt;\n",
       "        }    #T_9b103bd8_b6d6_11e9_9c31_e86a645f3aecrow2_col11 {\n",
       "            background-color:  #adc4e1;\n",
       "            color:  #000000;\n",
       "            max-width:  80px;\n",
       "            font-size:  10pt;\n",
       "        }    #T_9b103bd8_b6d6_11e9_9c31_e86a645f3aecrow2_col12 {\n",
       "            background-color:  #9fbadc;\n",
       "            color:  #000000;\n",
       "            max-width:  80px;\n",
       "            font-size:  10pt;\n",
       "        }    #T_9b103bd8_b6d6_11e9_9c31_e86a645f3aecrow2_col13 {\n",
       "            background-color:  #dae5f2;\n",
       "            color:  #000000;\n",
       "            max-width:  80px;\n",
       "            font-size:  10pt;\n",
       "        }    #T_9b103bd8_b6d6_11e9_9c31_e86a645f3aecrow2_col14 {\n",
       "            background-color:  #a2bcdd;\n",
       "            color:  #000000;\n",
       "            max-width:  80px;\n",
       "            font-size:  10pt;\n",
       "        }    #T_9b103bd8_b6d6_11e9_9c31_e86a645f3aecrow2_col15 {\n",
       "            background-color:  #f0b7c2;\n",
       "            color:  #000000;\n",
       "            max-width:  80px;\n",
       "            font-size:  10pt;\n",
       "        }    #T_9b103bd8_b6d6_11e9_9c31_e86a645f3aecrow2_col16 {\n",
       "            background-color:  #efb2bf;\n",
       "            color:  #000000;\n",
       "            max-width:  80px;\n",
       "            font-size:  10pt;\n",
       "        }    #T_9b103bd8_b6d6_11e9_9c31_e86a645f3aecrow2_col17 {\n",
       "            background-color:  #8cacd5;\n",
       "            color:  #000000;\n",
       "            max-width:  80px;\n",
       "            font-size:  10pt;\n",
       "        }    #T_9b103bd8_b6d6_11e9_9c31_e86a645f3aecrow3_col0 {\n",
       "            background-color:  #5c8ac4;\n",
       "            color:  #000000;\n",
       "            max-width:  80px;\n",
       "            font-size:  10pt;\n",
       "        }    #T_9b103bd8_b6d6_11e9_9c31_e86a645f3aecrow3_col1 {\n",
       "            background-color:  #5384c0;\n",
       "            color:  #000000;\n",
       "            max-width:  80px;\n",
       "            font-size:  10pt;\n",
       "        }    #T_9b103bd8_b6d6_11e9_9c31_e86a645f3aecrow3_col2 {\n",
       "            background-color:  #739acc;\n",
       "            color:  #000000;\n",
       "            max-width:  80px;\n",
       "            font-size:  10pt;\n",
       "        }    #T_9b103bd8_b6d6_11e9_9c31_e86a645f3aecrow3_col3 {\n",
       "            background-color:  #4479bb;\n",
       "            color:  #000000;\n",
       "            max-width:  80px;\n",
       "            font-size:  10pt;\n",
       "        }    #T_9b103bd8_b6d6_11e9_9c31_e86a645f3aecrow3_col4 {\n",
       "            background-color:  #f4c8d0;\n",
       "            color:  #000000;\n",
       "            max-width:  80px;\n",
       "            font-size:  10pt;\n",
       "        }    #T_9b103bd8_b6d6_11e9_9c31_e86a645f3aecrow3_col5 {\n",
       "            background-color:  #dd5872;\n",
       "            color:  #000000;\n",
       "            max-width:  80px;\n",
       "            font-size:  10pt;\n",
       "        }    #T_9b103bd8_b6d6_11e9_9c31_e86a645f3aecrow3_col6 {\n",
       "            background-color:  #db4f6b;\n",
       "            color:  #000000;\n",
       "            max-width:  80px;\n",
       "            font-size:  10pt;\n",
       "        }    #T_9b103bd8_b6d6_11e9_9c31_e86a645f3aecrow3_col7 {\n",
       "            background-color:  #e7899c;\n",
       "            color:  #000000;\n",
       "            max-width:  80px;\n",
       "            font-size:  10pt;\n",
       "        }    #T_9b103bd8_b6d6_11e9_9c31_e86a645f3aecrow3_col8 {\n",
       "            background-color:  #d73c5b;\n",
       "            color:  #f1f1f1;\n",
       "            max-width:  80px;\n",
       "            font-size:  10pt;\n",
       "        }    #T_9b103bd8_b6d6_11e9_9c31_e86a645f3aecrow3_col9 {\n",
       "            background-color:  #efb2bf;\n",
       "            color:  #000000;\n",
       "            max-width:  80px;\n",
       "            font-size:  10pt;\n",
       "        }    #T_9b103bd8_b6d6_11e9_9c31_e86a645f3aecrow3_col10 {\n",
       "            background-color:  #eca3b1;\n",
       "            color:  #000000;\n",
       "            max-width:  80px;\n",
       "            font-size:  10pt;\n",
       "        }    #T_9b103bd8_b6d6_11e9_9c31_e86a645f3aecrow3_col11 {\n",
       "            background-color:  #b3c9e3;\n",
       "            color:  #000000;\n",
       "            max-width:  80px;\n",
       "            font-size:  10pt;\n",
       "        }    #T_9b103bd8_b6d6_11e9_9c31_e86a645f3aecrow3_col12 {\n",
       "            background-color:  #c6d6ea;\n",
       "            color:  #000000;\n",
       "            max-width:  80px;\n",
       "            font-size:  10pt;\n",
       "        }    #T_9b103bd8_b6d6_11e9_9c31_e86a645f3aecrow3_col13 {\n",
       "            background-color:  #d3dfef;\n",
       "            color:  #000000;\n",
       "            max-width:  80px;\n",
       "            font-size:  10pt;\n",
       "        }    #T_9b103bd8_b6d6_11e9_9c31_e86a645f3aecrow3_col14 {\n",
       "            background-color:  #c1d3e8;\n",
       "            color:  #000000;\n",
       "            max-width:  80px;\n",
       "            font-size:  10pt;\n",
       "        }    #T_9b103bd8_b6d6_11e9_9c31_e86a645f3aecrow3_col15 {\n",
       "            background-color:  #efb2bf;\n",
       "            color:  #000000;\n",
       "            max-width:  80px;\n",
       "            font-size:  10pt;\n",
       "        }    #T_9b103bd8_b6d6_11e9_9c31_e86a645f3aecrow3_col16 {\n",
       "            background-color:  #f3c5ce;\n",
       "            color:  #000000;\n",
       "            max-width:  80px;\n",
       "            font-size:  10pt;\n",
       "        }    #T_9b103bd8_b6d6_11e9_9c31_e86a645f3aecrow3_col17 {\n",
       "            background-color:  #87a9d3;\n",
       "            color:  #000000;\n",
       "            max-width:  80px;\n",
       "            font-size:  10pt;\n",
       "        }    #T_9b103bd8_b6d6_11e9_9c31_e86a645f3aecrow4_col0 {\n",
       "            background-color:  #f5cfd7;\n",
       "            color:  #000000;\n",
       "            max-width:  80px;\n",
       "            font-size:  10pt;\n",
       "        }    #T_9b103bd8_b6d6_11e9_9c31_e86a645f3aecrow4_col1 {\n",
       "            background-color:  #f5ced6;\n",
       "            color:  #000000;\n",
       "            max-width:  80px;\n",
       "            font-size:  10pt;\n",
       "        }    #T_9b103bd8_b6d6_11e9_9c31_e86a645f3aecrow4_col2 {\n",
       "            background-color:  #f3c2cc;\n",
       "            color:  #000000;\n",
       "            max-width:  80px;\n",
       "            font-size:  10pt;\n",
       "        }    #T_9b103bd8_b6d6_11e9_9c31_e86a645f3aecrow4_col3 {\n",
       "            background-color:  #f6d2d9;\n",
       "            color:  #000000;\n",
       "            max-width:  80px;\n",
       "            font-size:  10pt;\n",
       "        }    #T_9b103bd8_b6d6_11e9_9c31_e86a645f3aecrow4_col4 {\n",
       "            background-color:  #4479bb;\n",
       "            color:  #000000;\n",
       "            max-width:  80px;\n",
       "            font-size:  10pt;\n",
       "        }    #T_9b103bd8_b6d6_11e9_9c31_e86a645f3aecrow4_col5 {\n",
       "            background-color:  #d73c5b;\n",
       "            color:  #f1f1f1;\n",
       "            max-width:  80px;\n",
       "            font-size:  10pt;\n",
       "        }    #T_9b103bd8_b6d6_11e9_9c31_e86a645f3aecrow4_col6 {\n",
       "            background-color:  #e0657d;\n",
       "            color:  #000000;\n",
       "            max-width:  80px;\n",
       "            font-size:  10pt;\n",
       "        }    #T_9b103bd8_b6d6_11e9_9c31_e86a645f3aecrow4_col7 {\n",
       "            background-color:  #ec9faf;\n",
       "            color:  #000000;\n",
       "            max-width:  80px;\n",
       "            font-size:  10pt;\n",
       "        }    #T_9b103bd8_b6d6_11e9_9c31_e86a645f3aecrow4_col8 {\n",
       "            background-color:  #dd5671;\n",
       "            color:  #000000;\n",
       "            max-width:  80px;\n",
       "            font-size:  10pt;\n",
       "        }    #T_9b103bd8_b6d6_11e9_9c31_e86a645f3aecrow4_col9 {\n",
       "            background-color:  #f7d9df;\n",
       "            color:  #000000;\n",
       "            max-width:  80px;\n",
       "            font-size:  10pt;\n",
       "        }    #T_9b103bd8_b6d6_11e9_9c31_e86a645f3aecrow4_col10 {\n",
       "            background-color:  #f1b9c4;\n",
       "            color:  #000000;\n",
       "            max-width:  80px;\n",
       "            font-size:  10pt;\n",
       "        }    #T_9b103bd8_b6d6_11e9_9c31_e86a645f3aecrow4_col11 {\n",
       "            background-color:  #f0b7c2;\n",
       "            color:  #000000;\n",
       "            max-width:  80px;\n",
       "            font-size:  10pt;\n",
       "        }    #T_9b103bd8_b6d6_11e9_9c31_e86a645f3aecrow4_col12 {\n",
       "            background-color:  #efb1be;\n",
       "            color:  #000000;\n",
       "            max-width:  80px;\n",
       "            font-size:  10pt;\n",
       "        }    #T_9b103bd8_b6d6_11e9_9c31_e86a645f3aecrow4_col13 {\n",
       "            background-color:  #eeaab7;\n",
       "            color:  #000000;\n",
       "            max-width:  80px;\n",
       "            font-size:  10pt;\n",
       "        }    #T_9b103bd8_b6d6_11e9_9c31_e86a645f3aecrow4_col14 {\n",
       "            background-color:  #efb1be;\n",
       "            color:  #000000;\n",
       "            max-width:  80px;\n",
       "            font-size:  10pt;\n",
       "        }    #T_9b103bd8_b6d6_11e9_9c31_e86a645f3aecrow4_col15 {\n",
       "            background-color:  #e68699;\n",
       "            color:  #000000;\n",
       "            max-width:  80px;\n",
       "            font-size:  10pt;\n",
       "        }    #T_9b103bd8_b6d6_11e9_9c31_e86a645f3aecrow4_col16 {\n",
       "            background-color:  #e68598;\n",
       "            color:  #000000;\n",
       "            max-width:  80px;\n",
       "            font-size:  10pt;\n",
       "        }    #T_9b103bd8_b6d6_11e9_9c31_e86a645f3aecrow4_col17 {\n",
       "            background-color:  #f0b5c1;\n",
       "            color:  #000000;\n",
       "            max-width:  80px;\n",
       "            font-size:  10pt;\n",
       "        }    #T_9b103bd8_b6d6_11e9_9c31_e86a645f3aecrow5_col0 {\n",
       "            background-color:  #e26f86;\n",
       "            color:  #000000;\n",
       "            max-width:  80px;\n",
       "            font-size:  10pt;\n",
       "        }    #T_9b103bd8_b6d6_11e9_9c31_e86a645f3aecrow5_col1 {\n",
       "            background-color:  #e16d85;\n",
       "            color:  #000000;\n",
       "            max-width:  80px;\n",
       "            font-size:  10pt;\n",
       "        }    #T_9b103bd8_b6d6_11e9_9c31_e86a645f3aecrow5_col2 {\n",
       "            background-color:  #e27288;\n",
       "            color:  #000000;\n",
       "            max-width:  80px;\n",
       "            font-size:  10pt;\n",
       "        }    #T_9b103bd8_b6d6_11e9_9c31_e86a645f3aecrow5_col3 {\n",
       "            background-color:  #e06880;\n",
       "            color:  #000000;\n",
       "            max-width:  80px;\n",
       "            font-size:  10pt;\n",
       "        }    #T_9b103bd8_b6d6_11e9_9c31_e86a645f3aecrow5_col4 {\n",
       "            background-color:  #d73c5b;\n",
       "            color:  #f1f1f1;\n",
       "            max-width:  80px;\n",
       "            font-size:  10pt;\n",
       "        }    #T_9b103bd8_b6d6_11e9_9c31_e86a645f3aecrow5_col5 {\n",
       "            background-color:  #4479bb;\n",
       "            color:  #000000;\n",
       "            max-width:  80px;\n",
       "            font-size:  10pt;\n",
       "        }    #T_9b103bd8_b6d6_11e9_9c31_e86a645f3aecrow5_col6 {\n",
       "            background-color:  #db4f6b;\n",
       "            color:  #000000;\n",
       "            max-width:  80px;\n",
       "            font-size:  10pt;\n",
       "        }    #T_9b103bd8_b6d6_11e9_9c31_e86a645f3aecrow5_col7 {\n",
       "            background-color:  #f2bdc8;\n",
       "            color:  #000000;\n",
       "            max-width:  80px;\n",
       "            font-size:  10pt;\n",
       "        }    #T_9b103bd8_b6d6_11e9_9c31_e86a645f3aecrow5_col8 {\n",
       "            background-color:  #de5b75;\n",
       "            color:  #000000;\n",
       "            max-width:  80px;\n",
       "            font-size:  10pt;\n",
       "        }    #T_9b103bd8_b6d6_11e9_9c31_e86a645f3aecrow5_col9 {\n",
       "            background-color:  #eeaab7;\n",
       "            color:  #000000;\n",
       "            max-width:  80px;\n",
       "            font-size:  10pt;\n",
       "        }    #T_9b103bd8_b6d6_11e9_9c31_e86a645f3aecrow5_col10 {\n",
       "            background-color:  #f0b5c1;\n",
       "            color:  #000000;\n",
       "            max-width:  80px;\n",
       "            font-size:  10pt;\n",
       "        }    #T_9b103bd8_b6d6_11e9_9c31_e86a645f3aecrow5_col11 {\n",
       "            background-color:  #e06880;\n",
       "            color:  #000000;\n",
       "            max-width:  80px;\n",
       "            font-size:  10pt;\n",
       "        }    #T_9b103bd8_b6d6_11e9_9c31_e86a645f3aecrow5_col12 {\n",
       "            background-color:  #e16981;\n",
       "            color:  #000000;\n",
       "            max-width:  80px;\n",
       "            font-size:  10pt;\n",
       "        }    #T_9b103bd8_b6d6_11e9_9c31_e86a645f3aecrow5_col13 {\n",
       "            background-color:  #de5e77;\n",
       "            color:  #000000;\n",
       "            max-width:  80px;\n",
       "            font-size:  10pt;\n",
       "        }    #T_9b103bd8_b6d6_11e9_9c31_e86a645f3aecrow5_col14 {\n",
       "            background-color:  #e27087;\n",
       "            color:  #000000;\n",
       "            max-width:  80px;\n",
       "            font-size:  10pt;\n",
       "        }    #T_9b103bd8_b6d6_11e9_9c31_e86a645f3aecrow5_col15 {\n",
       "            background-color:  #df637c;\n",
       "            color:  #000000;\n",
       "            max-width:  80px;\n",
       "            font-size:  10pt;\n",
       "        }    #T_9b103bd8_b6d6_11e9_9c31_e86a645f3aecrow5_col16 {\n",
       "            background-color:  #dd5a74;\n",
       "            color:  #000000;\n",
       "            max-width:  80px;\n",
       "            font-size:  10pt;\n",
       "        }    #T_9b103bd8_b6d6_11e9_9c31_e86a645f3aecrow5_col17 {\n",
       "            background-color:  #e26f86;\n",
       "            color:  #000000;\n",
       "            max-width:  80px;\n",
       "            font-size:  10pt;\n",
       "        }    #T_9b103bd8_b6d6_11e9_9c31_e86a645f3aecrow6_col0 {\n",
       "            background-color:  #dc516d;\n",
       "            color:  #000000;\n",
       "            max-width:  80px;\n",
       "            font-size:  10pt;\n",
       "        }    #T_9b103bd8_b6d6_11e9_9c31_e86a645f3aecrow6_col1 {\n",
       "            background-color:  #dc516d;\n",
       "            color:  #000000;\n",
       "            max-width:  80px;\n",
       "            font-size:  10pt;\n",
       "        }    #T_9b103bd8_b6d6_11e9_9c31_e86a645f3aecrow6_col2 {\n",
       "            background-color:  #da4865;\n",
       "            color:  #000000;\n",
       "            max-width:  80px;\n",
       "            font-size:  10pt;\n",
       "        }    #T_9b103bd8_b6d6_11e9_9c31_e86a645f3aecrow6_col3 {\n",
       "            background-color:  #dc5570;\n",
       "            color:  #000000;\n",
       "            max-width:  80px;\n",
       "            font-size:  10pt;\n",
       "        }    #T_9b103bd8_b6d6_11e9_9c31_e86a645f3aecrow6_col4 {\n",
       "            background-color:  #de5b75;\n",
       "            color:  #000000;\n",
       "            max-width:  80px;\n",
       "            font-size:  10pt;\n",
       "        }    #T_9b103bd8_b6d6_11e9_9c31_e86a645f3aecrow6_col5 {\n",
       "            background-color:  #d94462;\n",
       "            color:  #f1f1f1;\n",
       "            max-width:  80px;\n",
       "            font-size:  10pt;\n",
       "        }    #T_9b103bd8_b6d6_11e9_9c31_e86a645f3aecrow6_col6 {\n",
       "            background-color:  #4479bb;\n",
       "            color:  #000000;\n",
       "            max-width:  80px;\n",
       "            font-size:  10pt;\n",
       "        }    #T_9b103bd8_b6d6_11e9_9c31_e86a645f3aecrow6_col7 {\n",
       "            background-color:  #e16981;\n",
       "            color:  #000000;\n",
       "            max-width:  80px;\n",
       "            font-size:  10pt;\n",
       "        }    #T_9b103bd8_b6d6_11e9_9c31_e86a645f3aecrow6_col8 {\n",
       "            background-color:  #dc526e;\n",
       "            color:  #000000;\n",
       "            max-width:  80px;\n",
       "            font-size:  10pt;\n",
       "        }    #T_9b103bd8_b6d6_11e9_9c31_e86a645f3aecrow6_col9 {\n",
       "            background-color:  #da4b68;\n",
       "            color:  #000000;\n",
       "            max-width:  80px;\n",
       "            font-size:  10pt;\n",
       "        }    #T_9b103bd8_b6d6_11e9_9c31_e86a645f3aecrow6_col10 {\n",
       "            background-color:  #e27288;\n",
       "            color:  #000000;\n",
       "            max-width:  80px;\n",
       "            font-size:  10pt;\n",
       "        }    #T_9b103bd8_b6d6_11e9_9c31_e86a645f3aecrow6_col11 {\n",
       "            background-color:  #d83e5d;\n",
       "            color:  #f1f1f1;\n",
       "            max-width:  80px;\n",
       "            font-size:  10pt;\n",
       "        }    #T_9b103bd8_b6d6_11e9_9c31_e86a645f3aecrow6_col12 {\n",
       "            background-color:  #d73c5b;\n",
       "            color:  #f1f1f1;\n",
       "            max-width:  80px;\n",
       "            font-size:  10pt;\n",
       "        }    #T_9b103bd8_b6d6_11e9_9c31_e86a645f3aecrow6_col13 {\n",
       "            background-color:  #d73c5b;\n",
       "            color:  #f1f1f1;\n",
       "            max-width:  80px;\n",
       "            font-size:  10pt;\n",
       "        }    #T_9b103bd8_b6d6_11e9_9c31_e86a645f3aecrow6_col14 {\n",
       "            background-color:  #d94563;\n",
       "            color:  #f1f1f1;\n",
       "            max-width:  80px;\n",
       "            font-size:  10pt;\n",
       "        }    #T_9b103bd8_b6d6_11e9_9c31_e86a645f3aecrow6_col15 {\n",
       "            background-color:  #da4966;\n",
       "            color:  #000000;\n",
       "            max-width:  80px;\n",
       "            font-size:  10pt;\n",
       "        }    #T_9b103bd8_b6d6_11e9_9c31_e86a645f3aecrow6_col16 {\n",
       "            background-color:  #dc526e;\n",
       "            color:  #000000;\n",
       "            max-width:  80px;\n",
       "            font-size:  10pt;\n",
       "        }    #T_9b103bd8_b6d6_11e9_9c31_e86a645f3aecrow6_col17 {\n",
       "            background-color:  #de5e77;\n",
       "            color:  #000000;\n",
       "            max-width:  80px;\n",
       "            font-size:  10pt;\n",
       "        }    #T_9b103bd8_b6d6_11e9_9c31_e86a645f3aecrow7_col0 {\n",
       "            background-color:  #e26f86;\n",
       "            color:  #000000;\n",
       "            max-width:  80px;\n",
       "            font-size:  10pt;\n",
       "        }    #T_9b103bd8_b6d6_11e9_9c31_e86a645f3aecrow7_col1 {\n",
       "            background-color:  #e16d85;\n",
       "            color:  #000000;\n",
       "            max-width:  80px;\n",
       "            font-size:  10pt;\n",
       "        }    #T_9b103bd8_b6d6_11e9_9c31_e86a645f3aecrow7_col2 {\n",
       "            background-color:  #df637c;\n",
       "            color:  #000000;\n",
       "            max-width:  80px;\n",
       "            font-size:  10pt;\n",
       "        }    #T_9b103bd8_b6d6_11e9_9c31_e86a645f3aecrow7_col3 {\n",
       "            background-color:  #e16c84;\n",
       "            color:  #000000;\n",
       "            max-width:  80px;\n",
       "            font-size:  10pt;\n",
       "        }    #T_9b103bd8_b6d6_11e9_9c31_e86a645f3aecrow7_col4 {\n",
       "            background-color:  #e4798e;\n",
       "            color:  #000000;\n",
       "            max-width:  80px;\n",
       "            font-size:  10pt;\n",
       "        }    #T_9b103bd8_b6d6_11e9_9c31_e86a645f3aecrow7_col5 {\n",
       "            background-color:  #eb9bab;\n",
       "            color:  #000000;\n",
       "            max-width:  80px;\n",
       "            font-size:  10pt;\n",
       "        }    #T_9b103bd8_b6d6_11e9_9c31_e86a645f3aecrow7_col6 {\n",
       "            background-color:  #d94563;\n",
       "            color:  #f1f1f1;\n",
       "            max-width:  80px;\n",
       "            font-size:  10pt;\n",
       "        }    #T_9b103bd8_b6d6_11e9_9c31_e86a645f3aecrow7_col7 {\n",
       "            background-color:  #4479bb;\n",
       "            color:  #000000;\n",
       "            max-width:  80px;\n",
       "            font-size:  10pt;\n",
       "        }    #T_9b103bd8_b6d6_11e9_9c31_e86a645f3aecrow7_col8 {\n",
       "            background-color:  #d73c5b;\n",
       "            color:  #f1f1f1;\n",
       "            max-width:  80px;\n",
       "            font-size:  10pt;\n",
       "        }    #T_9b103bd8_b6d6_11e9_9c31_e86a645f3aecrow7_col9 {\n",
       "            background-color:  #eda7b5;\n",
       "            color:  #000000;\n",
       "            max-width:  80px;\n",
       "            font-size:  10pt;\n",
       "        }    #T_9b103bd8_b6d6_11e9_9c31_e86a645f3aecrow7_col10 {\n",
       "            background-color:  #b8cce5;\n",
       "            color:  #000000;\n",
       "            max-width:  80px;\n",
       "            font-size:  10pt;\n",
       "        }    #T_9b103bd8_b6d6_11e9_9c31_e86a645f3aecrow7_col11 {\n",
       "            background-color:  #dd5872;\n",
       "            color:  #000000;\n",
       "            max-width:  80px;\n",
       "            font-size:  10pt;\n",
       "        }    #T_9b103bd8_b6d6_11e9_9c31_e86a645f3aecrow7_col12 {\n",
       "            background-color:  #dc526e;\n",
       "            color:  #000000;\n",
       "            max-width:  80px;\n",
       "            font-size:  10pt;\n",
       "        }    #T_9b103bd8_b6d6_11e9_9c31_e86a645f3aecrow7_col13 {\n",
       "            background-color:  #db4f6b;\n",
       "            color:  #000000;\n",
       "            max-width:  80px;\n",
       "            font-size:  10pt;\n",
       "        }    #T_9b103bd8_b6d6_11e9_9c31_e86a645f3aecrow7_col14 {\n",
       "            background-color:  #dd5872;\n",
       "            color:  #000000;\n",
       "            max-width:  80px;\n",
       "            font-size:  10pt;\n",
       "        }    #T_9b103bd8_b6d6_11e9_9c31_e86a645f3aecrow7_col15 {\n",
       "            background-color:  #d73d5c;\n",
       "            color:  #f1f1f1;\n",
       "            max-width:  80px;\n",
       "            font-size:  10pt;\n",
       "        }    #T_9b103bd8_b6d6_11e9_9c31_e86a645f3aecrow7_col16 {\n",
       "            background-color:  #d83e5d;\n",
       "            color:  #f1f1f1;\n",
       "            max-width:  80px;\n",
       "            font-size:  10pt;\n",
       "        }    #T_9b103bd8_b6d6_11e9_9c31_e86a645f3aecrow7_col17 {\n",
       "            background-color:  #df637c;\n",
       "            color:  #000000;\n",
       "            max-width:  80px;\n",
       "            font-size:  10pt;\n",
       "        }    #T_9b103bd8_b6d6_11e9_9c31_e86a645f3aecrow8_col0 {\n",
       "            background-color:  #d8405e;\n",
       "            color:  #f1f1f1;\n",
       "            max-width:  80px;\n",
       "            font-size:  10pt;\n",
       "        }    #T_9b103bd8_b6d6_11e9_9c31_e86a645f3aecrow8_col1 {\n",
       "            background-color:  #d83e5d;\n",
       "            color:  #f1f1f1;\n",
       "            max-width:  80px;\n",
       "            font-size:  10pt;\n",
       "        }    #T_9b103bd8_b6d6_11e9_9c31_e86a645f3aecrow8_col2 {\n",
       "            background-color:  #d83e5d;\n",
       "            color:  #f1f1f1;\n",
       "            max-width:  80px;\n",
       "            font-size:  10pt;\n",
       "        }    #T_9b103bd8_b6d6_11e9_9c31_e86a645f3aecrow8_col3 {\n",
       "            background-color:  #d94261;\n",
       "            color:  #f1f1f1;\n",
       "            max-width:  80px;\n",
       "            font-size:  10pt;\n",
       "        }    #T_9b103bd8_b6d6_11e9_9c31_e86a645f3aecrow8_col4 {\n",
       "            background-color:  #db4e6a;\n",
       "            color:  #000000;\n",
       "            max-width:  80px;\n",
       "            font-size:  10pt;\n",
       "        }    #T_9b103bd8_b6d6_11e9_9c31_e86a645f3aecrow8_col5 {\n",
       "            background-color:  #dc546f;\n",
       "            color:  #000000;\n",
       "            max-width:  80px;\n",
       "            font-size:  10pt;\n",
       "        }    #T_9b103bd8_b6d6_11e9_9c31_e86a645f3aecrow8_col6 {\n",
       "            background-color:  #dc5570;\n",
       "            color:  #000000;\n",
       "            max-width:  80px;\n",
       "            font-size:  10pt;\n",
       "        }    #T_9b103bd8_b6d6_11e9_9c31_e86a645f3aecrow8_col7 {\n",
       "            background-color:  #df627b;\n",
       "            color:  #000000;\n",
       "            max-width:  80px;\n",
       "            font-size:  10pt;\n",
       "        }    #T_9b103bd8_b6d6_11e9_9c31_e86a645f3aecrow8_col8 {\n",
       "            background-color:  #4479bb;\n",
       "            color:  #000000;\n",
       "            max-width:  80px;\n",
       "            font-size:  10pt;\n",
       "        }    #T_9b103bd8_b6d6_11e9_9c31_e86a645f3aecrow8_col9 {\n",
       "            background-color:  #d73c5b;\n",
       "            color:  #f1f1f1;\n",
       "            max-width:  80px;\n",
       "            font-size:  10pt;\n",
       "        }    #T_9b103bd8_b6d6_11e9_9c31_e86a645f3aecrow8_col10 {\n",
       "            background-color:  #dd5671;\n",
       "            color:  #000000;\n",
       "            max-width:  80px;\n",
       "            font-size:  10pt;\n",
       "        }    #T_9b103bd8_b6d6_11e9_9c31_e86a645f3aecrow8_col11 {\n",
       "            background-color:  #d94261;\n",
       "            color:  #f1f1f1;\n",
       "            max-width:  80px;\n",
       "            font-size:  10pt;\n",
       "        }    #T_9b103bd8_b6d6_11e9_9c31_e86a645f3aecrow8_col12 {\n",
       "            background-color:  #d8415f;\n",
       "            color:  #f1f1f1;\n",
       "            max-width:  80px;\n",
       "            font-size:  10pt;\n",
       "        }    #T_9b103bd8_b6d6_11e9_9c31_e86a645f3aecrow8_col13 {\n",
       "            background-color:  #d94563;\n",
       "            color:  #f1f1f1;\n",
       "            max-width:  80px;\n",
       "            font-size:  10pt;\n",
       "        }    #T_9b103bd8_b6d6_11e9_9c31_e86a645f3aecrow8_col14 {\n",
       "            background-color:  #da4966;\n",
       "            color:  #000000;\n",
       "            max-width:  80px;\n",
       "            font-size:  10pt;\n",
       "        }    #T_9b103bd8_b6d6_11e9_9c31_e86a645f3aecrow8_col15 {\n",
       "            background-color:  #d83e5d;\n",
       "            color:  #f1f1f1;\n",
       "            max-width:  80px;\n",
       "            font-size:  10pt;\n",
       "        }    #T_9b103bd8_b6d6_11e9_9c31_e86a645f3aecrow8_col16 {\n",
       "            background-color:  #da4865;\n",
       "            color:  #000000;\n",
       "            max-width:  80px;\n",
       "            font-size:  10pt;\n",
       "        }    #T_9b103bd8_b6d6_11e9_9c31_e86a645f3aecrow8_col17 {\n",
       "            background-color:  #d94261;\n",
       "            color:  #f1f1f1;\n",
       "            max-width:  80px;\n",
       "            font-size:  10pt;\n",
       "        }    #T_9b103bd8_b6d6_11e9_9c31_e86a645f3aecrow9_col0 {\n",
       "            background-color:  #f1bcc7;\n",
       "            color:  #000000;\n",
       "            max-width:  80px;\n",
       "            font-size:  10pt;\n",
       "        }    #T_9b103bd8_b6d6_11e9_9c31_e86a645f3aecrow9_col1 {\n",
       "            background-color:  #f0b7c2;\n",
       "            color:  #000000;\n",
       "            max-width:  80px;\n",
       "            font-size:  10pt;\n",
       "        }    #T_9b103bd8_b6d6_11e9_9c31_e86a645f3aecrow9_col2 {\n",
       "            background-color:  #eda8b6;\n",
       "            color:  #000000;\n",
       "            max-width:  80px;\n",
       "            font-size:  10pt;\n",
       "        }    #T_9b103bd8_b6d6_11e9_9c31_e86a645f3aecrow9_col3 {\n",
       "            background-color:  #f1b8c3;\n",
       "            color:  #000000;\n",
       "            max-width:  80px;\n",
       "            font-size:  10pt;\n",
       "        }    #T_9b103bd8_b6d6_11e9_9c31_e86a645f3aecrow9_col4 {\n",
       "            background-color:  #f6d3da;\n",
       "            color:  #000000;\n",
       "            max-width:  80px;\n",
       "            font-size:  10pt;\n",
       "        }    #T_9b103bd8_b6d6_11e9_9c31_e86a645f3aecrow9_col5 {\n",
       "            background-color:  #eca4b3;\n",
       "            color:  #000000;\n",
       "            max-width:  80px;\n",
       "            font-size:  10pt;\n",
       "        }    #T_9b103bd8_b6d6_11e9_9c31_e86a645f3aecrow9_col6 {\n",
       "            background-color:  #db4d69;\n",
       "            color:  #000000;\n",
       "            max-width:  80px;\n",
       "            font-size:  10pt;\n",
       "        }    #T_9b103bd8_b6d6_11e9_9c31_e86a645f3aecrow9_col7 {\n",
       "            background-color:  #f3c2cc;\n",
       "            color:  #000000;\n",
       "            max-width:  80px;\n",
       "            font-size:  10pt;\n",
       "        }    #T_9b103bd8_b6d6_11e9_9c31_e86a645f3aecrow9_col8 {\n",
       "            background-color:  #d73c5b;\n",
       "            color:  #f1f1f1;\n",
       "            max-width:  80px;\n",
       "            font-size:  10pt;\n",
       "        }    #T_9b103bd8_b6d6_11e9_9c31_e86a645f3aecrow9_col9 {\n",
       "            background-color:  #4479bb;\n",
       "            color:  #000000;\n",
       "            max-width:  80px;\n",
       "            font-size:  10pt;\n",
       "        }    #T_9b103bd8_b6d6_11e9_9c31_e86a645f3aecrow9_col10 {\n",
       "            background-color:  #f5ced6;\n",
       "            color:  #000000;\n",
       "            max-width:  80px;\n",
       "            font-size:  10pt;\n",
       "        }    #T_9b103bd8_b6d6_11e9_9c31_e86a645f3aecrow9_col11 {\n",
       "            background-color:  #ec9faf;\n",
       "            color:  #000000;\n",
       "            max-width:  80px;\n",
       "            font-size:  10pt;\n",
       "        }    #T_9b103bd8_b6d6_11e9_9c31_e86a645f3aecrow9_col12 {\n",
       "            background-color:  #ea97a8;\n",
       "            color:  #000000;\n",
       "            max-width:  80px;\n",
       "            font-size:  10pt;\n",
       "        }    #T_9b103bd8_b6d6_11e9_9c31_e86a645f3aecrow9_col13 {\n",
       "            background-color:  #e991a3;\n",
       "            color:  #000000;\n",
       "            max-width:  80px;\n",
       "            font-size:  10pt;\n",
       "        }    #T_9b103bd8_b6d6_11e9_9c31_e86a645f3aecrow9_col14 {\n",
       "            background-color:  #eb9bab;\n",
       "            color:  #000000;\n",
       "            max-width:  80px;\n",
       "            font-size:  10pt;\n",
       "        }    #T_9b103bd8_b6d6_11e9_9c31_e86a645f3aecrow9_col15 {\n",
       "            background-color:  #e47a90;\n",
       "            color:  #000000;\n",
       "            max-width:  80px;\n",
       "            font-size:  10pt;\n",
       "        }    #T_9b103bd8_b6d6_11e9_9c31_e86a645f3aecrow9_col16 {\n",
       "            background-color:  #e47c91;\n",
       "            color:  #000000;\n",
       "            max-width:  80px;\n",
       "            font-size:  10pt;\n",
       "        }    #T_9b103bd8_b6d6_11e9_9c31_e86a645f3aecrow9_col17 {\n",
       "            background-color:  #eca4b3;\n",
       "            color:  #000000;\n",
       "            max-width:  80px;\n",
       "            font-size:  10pt;\n",
       "        }    #T_9b103bd8_b6d6_11e9_9c31_e86a645f3aecrow10_col0 {\n",
       "            background-color:  #eb9ead;\n",
       "            color:  #000000;\n",
       "            max-width:  80px;\n",
       "            font-size:  10pt;\n",
       "        }    #T_9b103bd8_b6d6_11e9_9c31_e86a645f3aecrow10_col1 {\n",
       "            background-color:  #eb9bab;\n",
       "            color:  #000000;\n",
       "            max-width:  80px;\n",
       "            font-size:  10pt;\n",
       "        }    #T_9b103bd8_b6d6_11e9_9c31_e86a645f3aecrow10_col2 {\n",
       "            background-color:  #e993a4;\n",
       "            color:  #000000;\n",
       "            max-width:  80px;\n",
       "            font-size:  10pt;\n",
       "        }    #T_9b103bd8_b6d6_11e9_9c31_e86a645f3aecrow10_col3 {\n",
       "            background-color:  #e993a4;\n",
       "            color:  #000000;\n",
       "            max-width:  80px;\n",
       "            font-size:  10pt;\n",
       "        }    #T_9b103bd8_b6d6_11e9_9c31_e86a645f3aecrow10_col4 {\n",
       "            background-color:  #ec9faf;\n",
       "            color:  #000000;\n",
       "            max-width:  80px;\n",
       "            font-size:  10pt;\n",
       "        }    #T_9b103bd8_b6d6_11e9_9c31_e86a645f3aecrow10_col5 {\n",
       "            background-color:  #ea9aaa;\n",
       "            color:  #000000;\n",
       "            max-width:  80px;\n",
       "            font-size:  10pt;\n",
       "        }    #T_9b103bd8_b6d6_11e9_9c31_e86a645f3aecrow10_col6 {\n",
       "            background-color:  #de5b75;\n",
       "            color:  #000000;\n",
       "            max-width:  80px;\n",
       "            font-size:  10pt;\n",
       "        }    #T_9b103bd8_b6d6_11e9_9c31_e86a645f3aecrow10_col7 {\n",
       "            background-color:  #b3c9e3;\n",
       "            color:  #000000;\n",
       "            max-width:  80px;\n",
       "            font-size:  10pt;\n",
       "        }    #T_9b103bd8_b6d6_11e9_9c31_e86a645f3aecrow10_col8 {\n",
       "            background-color:  #d73c5b;\n",
       "            color:  #f1f1f1;\n",
       "            max-width:  80px;\n",
       "            font-size:  10pt;\n",
       "        }    #T_9b103bd8_b6d6_11e9_9c31_e86a645f3aecrow10_col9 {\n",
       "            background-color:  #f1bcc7;\n",
       "            color:  #000000;\n",
       "            max-width:  80px;\n",
       "            font-size:  10pt;\n",
       "        }    #T_9b103bd8_b6d6_11e9_9c31_e86a645f3aecrow10_col10 {\n",
       "            background-color:  #4479bb;\n",
       "            color:  #000000;\n",
       "            max-width:  80px;\n",
       "            font-size:  10pt;\n",
       "        }    #T_9b103bd8_b6d6_11e9_9c31_e86a645f3aecrow10_col11 {\n",
       "            background-color:  #e3788d;\n",
       "            color:  #000000;\n",
       "            max-width:  80px;\n",
       "            font-size:  10pt;\n",
       "        }    #T_9b103bd8_b6d6_11e9_9c31_e86a645f3aecrow10_col12 {\n",
       "            background-color:  #e27389;\n",
       "            color:  #000000;\n",
       "            max-width:  80px;\n",
       "            font-size:  10pt;\n",
       "        }    #T_9b103bd8_b6d6_11e9_9c31_e86a645f3aecrow10_col13 {\n",
       "            background-color:  #e16c84;\n",
       "            color:  #000000;\n",
       "            max-width:  80px;\n",
       "            font-size:  10pt;\n",
       "        }    #T_9b103bd8_b6d6_11e9_9c31_e86a645f3aecrow10_col14 {\n",
       "            background-color:  #e3768c;\n",
       "            color:  #000000;\n",
       "            max-width:  80px;\n",
       "            font-size:  10pt;\n",
       "        }    #T_9b103bd8_b6d6_11e9_9c31_e86a645f3aecrow10_col15 {\n",
       "            background-color:  #dc5570;\n",
       "            color:  #000000;\n",
       "            max-width:  80px;\n",
       "            font-size:  10pt;\n",
       "        }    #T_9b103bd8_b6d6_11e9_9c31_e86a645f3aecrow10_col16 {\n",
       "            background-color:  #dc5570;\n",
       "            color:  #000000;\n",
       "            max-width:  80px;\n",
       "            font-size:  10pt;\n",
       "        }    #T_9b103bd8_b6d6_11e9_9c31_e86a645f3aecrow10_col17 {\n",
       "            background-color:  #e88ea0;\n",
       "            color:  #000000;\n",
       "            max-width:  80px;\n",
       "            font-size:  10pt;\n",
       "        }    #T_9b103bd8_b6d6_11e9_9c31_e86a645f3aecrow11_col0 {\n",
       "            background-color:  #b0c6e2;\n",
       "            color:  #000000;\n",
       "            max-width:  80px;\n",
       "            font-size:  10pt;\n",
       "        }    #T_9b103bd8_b6d6_11e9_9c31_e86a645f3aecrow11_col1 {\n",
       "            background-color:  #a9c1e0;\n",
       "            color:  #000000;\n",
       "            max-width:  80px;\n",
       "            font-size:  10pt;\n",
       "        }    #T_9b103bd8_b6d6_11e9_9c31_e86a645f3aecrow11_col2 {\n",
       "            background-color:  #aec5e1;\n",
       "            color:  #000000;\n",
       "            max-width:  80px;\n",
       "            font-size:  10pt;\n",
       "        }    #T_9b103bd8_b6d6_11e9_9c31_e86a645f3aecrow11_col3 {\n",
       "            background-color:  #b3c9e3;\n",
       "            color:  #000000;\n",
       "            max-width:  80px;\n",
       "            font-size:  10pt;\n",
       "        }    #T_9b103bd8_b6d6_11e9_9c31_e86a645f3aecrow11_col4 {\n",
       "            background-color:  #eeacba;\n",
       "            color:  #000000;\n",
       "            max-width:  80px;\n",
       "            font-size:  10pt;\n",
       "        }    #T_9b103bd8_b6d6_11e9_9c31_e86a645f3aecrow11_col5 {\n",
       "            background-color:  #dd5a74;\n",
       "            color:  #000000;\n",
       "            max-width:  80px;\n",
       "            font-size:  10pt;\n",
       "        }    #T_9b103bd8_b6d6_11e9_9c31_e86a645f3aecrow11_col6 {\n",
       "            background-color:  #d73c5b;\n",
       "            color:  #f1f1f1;\n",
       "            max-width:  80px;\n",
       "            font-size:  10pt;\n",
       "        }    #T_9b103bd8_b6d6_11e9_9c31_e86a645f3aecrow11_col7 {\n",
       "            background-color:  #e3768c;\n",
       "            color:  #000000;\n",
       "            max-width:  80px;\n",
       "            font-size:  10pt;\n",
       "        }    #T_9b103bd8_b6d6_11e9_9c31_e86a645f3aecrow11_col8 {\n",
       "            background-color:  #d73c5b;\n",
       "            color:  #f1f1f1;\n",
       "            max-width:  80px;\n",
       "            font-size:  10pt;\n",
       "        }    #T_9b103bd8_b6d6_11e9_9c31_e86a645f3aecrow11_col9 {\n",
       "            background-color:  #ea9aaa;\n",
       "            color:  #000000;\n",
       "            max-width:  80px;\n",
       "            font-size:  10pt;\n",
       "        }    #T_9b103bd8_b6d6_11e9_9c31_e86a645f3aecrow11_col10 {\n",
       "            background-color:  #e78a9d;\n",
       "            color:  #000000;\n",
       "            max-width:  80px;\n",
       "            font-size:  10pt;\n",
       "        }    #T_9b103bd8_b6d6_11e9_9c31_e86a645f3aecrow11_col11 {\n",
       "            background-color:  #4479bb;\n",
       "            color:  #000000;\n",
       "            max-width:  80px;\n",
       "            font-size:  10pt;\n",
       "        }    #T_9b103bd8_b6d6_11e9_9c31_e86a645f3aecrow11_col12 {\n",
       "            background-color:  #4d7fbe;\n",
       "            color:  #000000;\n",
       "            max-width:  80px;\n",
       "            font-size:  10pt;\n",
       "        }    #T_9b103bd8_b6d6_11e9_9c31_e86a645f3aecrow11_col13 {\n",
       "            background-color:  #5f8cc5;\n",
       "            color:  #000000;\n",
       "            max-width:  80px;\n",
       "            font-size:  10pt;\n",
       "        }    #T_9b103bd8_b6d6_11e9_9c31_e86a645f3aecrow11_col14 {\n",
       "            background-color:  #6691c7;\n",
       "            color:  #000000;\n",
       "            max-width:  80px;\n",
       "            font-size:  10pt;\n",
       "        }    #T_9b103bd8_b6d6_11e9_9c31_e86a645f3aecrow11_col15 {\n",
       "            background-color:  #f7d9df;\n",
       "            color:  #000000;\n",
       "            max-width:  80px;\n",
       "            font-size:  10pt;\n",
       "        }    #T_9b103bd8_b6d6_11e9_9c31_e86a645f3aecrow11_col16 {\n",
       "            background-color:  #eda7b5;\n",
       "            color:  #000000;\n",
       "            max-width:  80px;\n",
       "            font-size:  10pt;\n",
       "        }    #T_9b103bd8_b6d6_11e9_9c31_e86a645f3aecrow11_col17 {\n",
       "            background-color:  #eeacba;\n",
       "            color:  #000000;\n",
       "            max-width:  80px;\n",
       "            font-size:  10pt;\n",
       "        }    #T_9b103bd8_b6d6_11e9_9c31_e86a645f3aecrow12_col0 {\n",
       "            background-color:  #bbcee6;\n",
       "            color:  #000000;\n",
       "            max-width:  80px;\n",
       "            font-size:  10pt;\n",
       "        }    #T_9b103bd8_b6d6_11e9_9c31_e86a645f3aecrow12_col1 {\n",
       "            background-color:  #b5cae4;\n",
       "            color:  #000000;\n",
       "            max-width:  80px;\n",
       "            font-size:  10pt;\n",
       "        }    #T_9b103bd8_b6d6_11e9_9c31_e86a645f3aecrow12_col2 {\n",
       "            background-color:  #9fbadc;\n",
       "            color:  #000000;\n",
       "            max-width:  80px;\n",
       "            font-size:  10pt;\n",
       "        }    #T_9b103bd8_b6d6_11e9_9c31_e86a645f3aecrow12_col3 {\n",
       "            background-color:  #c3d4e9;\n",
       "            color:  #000000;\n",
       "            max-width:  80px;\n",
       "            font-size:  10pt;\n",
       "        }    #T_9b103bd8_b6d6_11e9_9c31_e86a645f3aecrow12_col4 {\n",
       "            background-color:  #eeaab7;\n",
       "            color:  #000000;\n",
       "            max-width:  80px;\n",
       "            font-size:  10pt;\n",
       "        }    #T_9b103bd8_b6d6_11e9_9c31_e86a645f3aecrow12_col5 {\n",
       "            background-color:  #de5f79;\n",
       "            color:  #000000;\n",
       "            max-width:  80px;\n",
       "            font-size:  10pt;\n",
       "        }    #T_9b103bd8_b6d6_11e9_9c31_e86a645f3aecrow12_col6 {\n",
       "            background-color:  #d73c5b;\n",
       "            color:  #f1f1f1;\n",
       "            max-width:  80px;\n",
       "            font-size:  10pt;\n",
       "        }    #T_9b103bd8_b6d6_11e9_9c31_e86a645f3aecrow12_col7 {\n",
       "            background-color:  #e3748a;\n",
       "            color:  #000000;\n",
       "            max-width:  80px;\n",
       "            font-size:  10pt;\n",
       "        }    #T_9b103bd8_b6d6_11e9_9c31_e86a645f3aecrow12_col8 {\n",
       "            background-color:  #d8405e;\n",
       "            color:  #f1f1f1;\n",
       "            max-width:  80px;\n",
       "            font-size:  10pt;\n",
       "        }    #T_9b103bd8_b6d6_11e9_9c31_e86a645f3aecrow12_col9 {\n",
       "            background-color:  #ea96a7;\n",
       "            color:  #000000;\n",
       "            max-width:  80px;\n",
       "            font-size:  10pt;\n",
       "        }    #T_9b103bd8_b6d6_11e9_9c31_e86a645f3aecrow12_col10 {\n",
       "            background-color:  #e7899c;\n",
       "            color:  #000000;\n",
       "            max-width:  80px;\n",
       "            font-size:  10pt;\n",
       "        }    #T_9b103bd8_b6d6_11e9_9c31_e86a645f3aecrow12_col11 {\n",
       "            background-color:  #4d7fbe;\n",
       "            color:  #000000;\n",
       "            max-width:  80px;\n",
       "            font-size:  10pt;\n",
       "        }    #T_9b103bd8_b6d6_11e9_9c31_e86a645f3aecrow12_col12 {\n",
       "            background-color:  #4479bb;\n",
       "            color:  #000000;\n",
       "            max-width:  80px;\n",
       "            font-size:  10pt;\n",
       "        }    #T_9b103bd8_b6d6_11e9_9c31_e86a645f3aecrow12_col13 {\n",
       "            background-color:  #6b95c9;\n",
       "            color:  #000000;\n",
       "            max-width:  80px;\n",
       "            font-size:  10pt;\n",
       "        }    #T_9b103bd8_b6d6_11e9_9c31_e86a645f3aecrow12_col14 {\n",
       "            background-color:  #6993c8;\n",
       "            color:  #000000;\n",
       "            max-width:  80px;\n",
       "            font-size:  10pt;\n",
       "        }    #T_9b103bd8_b6d6_11e9_9c31_e86a645f3aecrow12_col15 {\n",
       "            background-color:  #f6d3da;\n",
       "            color:  #000000;\n",
       "            max-width:  80px;\n",
       "            font-size:  10pt;\n",
       "        }    #T_9b103bd8_b6d6_11e9_9c31_e86a645f3aecrow12_col16 {\n",
       "            background-color:  #eb9ead;\n",
       "            color:  #000000;\n",
       "            max-width:  80px;\n",
       "            font-size:  10pt;\n",
       "        }    #T_9b103bd8_b6d6_11e9_9c31_e86a645f3aecrow12_col17 {\n",
       "            background-color:  #eda7b5;\n",
       "            color:  #000000;\n",
       "            max-width:  80px;\n",
       "            font-size:  10pt;\n",
       "        }    #T_9b103bd8_b6d6_11e9_9c31_e86a645f3aecrow13_col0 {\n",
       "            background-color:  #dae5f2;\n",
       "            color:  #000000;\n",
       "            max-width:  80px;\n",
       "            font-size:  10pt;\n",
       "        }    #T_9b103bd8_b6d6_11e9_9c31_e86a645f3aecrow13_col1 {\n",
       "            background-color:  #d4e0ef;\n",
       "            color:  #000000;\n",
       "            max-width:  80px;\n",
       "            font-size:  10pt;\n",
       "        }    #T_9b103bd8_b6d6_11e9_9c31_e86a645f3aecrow13_col2 {\n",
       "            background-color:  #dae5f2;\n",
       "            color:  #000000;\n",
       "            max-width:  80px;\n",
       "            font-size:  10pt;\n",
       "        }    #T_9b103bd8_b6d6_11e9_9c31_e86a645f3aecrow13_col3 {\n",
       "            background-color:  #d1deee;\n",
       "            color:  #000000;\n",
       "            max-width:  80px;\n",
       "            font-size:  10pt;\n",
       "        }    #T_9b103bd8_b6d6_11e9_9c31_e86a645f3aecrow13_col4 {\n",
       "            background-color:  #eca1b0;\n",
       "            color:  #000000;\n",
       "            max-width:  80px;\n",
       "            font-size:  10pt;\n",
       "        }    #T_9b103bd8_b6d6_11e9_9c31_e86a645f3aecrow13_col5 {\n",
       "            background-color:  #dc526e;\n",
       "            color:  #000000;\n",
       "            max-width:  80px;\n",
       "            font-size:  10pt;\n",
       "        }    #T_9b103bd8_b6d6_11e9_9c31_e86a645f3aecrow13_col6 {\n",
       "            background-color:  #d73c5b;\n",
       "            color:  #f1f1f1;\n",
       "            max-width:  80px;\n",
       "            font-size:  10pt;\n",
       "        }    #T_9b103bd8_b6d6_11e9_9c31_e86a645f3aecrow13_col7 {\n",
       "            background-color:  #e27288;\n",
       "            color:  #000000;\n",
       "            max-width:  80px;\n",
       "            font-size:  10pt;\n",
       "        }    #T_9b103bd8_b6d6_11e9_9c31_e86a645f3aecrow13_col8 {\n",
       "            background-color:  #d8415f;\n",
       "            color:  #f1f1f1;\n",
       "            max-width:  80px;\n",
       "            font-size:  10pt;\n",
       "        }    #T_9b103bd8_b6d6_11e9_9c31_e86a645f3aecrow13_col9 {\n",
       "            background-color:  #e88ea0;\n",
       "            color:  #000000;\n",
       "            max-width:  80px;\n",
       "            font-size:  10pt;\n",
       "        }    #T_9b103bd8_b6d6_11e9_9c31_e86a645f3aecrow13_col10 {\n",
       "            background-color:  #e58195;\n",
       "            color:  #000000;\n",
       "            max-width:  80px;\n",
       "            font-size:  10pt;\n",
       "        }    #T_9b103bd8_b6d6_11e9_9c31_e86a645f3aecrow13_col11 {\n",
       "            background-color:  #5f8cc5;\n",
       "            color:  #000000;\n",
       "            max-width:  80px;\n",
       "            font-size:  10pt;\n",
       "        }    #T_9b103bd8_b6d6_11e9_9c31_e86a645f3aecrow13_col12 {\n",
       "            background-color:  #6b95c9;\n",
       "            color:  #000000;\n",
       "            max-width:  80px;\n",
       "            font-size:  10pt;\n",
       "        }    #T_9b103bd8_b6d6_11e9_9c31_e86a645f3aecrow13_col13 {\n",
       "            background-color:  #4479bb;\n",
       "            color:  #000000;\n",
       "            max-width:  80px;\n",
       "            font-size:  10pt;\n",
       "        }    #T_9b103bd8_b6d6_11e9_9c31_e86a645f3aecrow13_col14 {\n",
       "            background-color:  #96b4d9;\n",
       "            color:  #000000;\n",
       "            max-width:  80px;\n",
       "            font-size:  10pt;\n",
       "        }    #T_9b103bd8_b6d6_11e9_9c31_e86a645f3aecrow13_col15 {\n",
       "            background-color:  #e26f86;\n",
       "            color:  #000000;\n",
       "            max-width:  80px;\n",
       "            font-size:  10pt;\n",
       "        }    #T_9b103bd8_b6d6_11e9_9c31_e86a645f3aecrow13_col16 {\n",
       "            background-color:  #eeaebb;\n",
       "            color:  #000000;\n",
       "            max-width:  80px;\n",
       "            font-size:  10pt;\n",
       "        }    #T_9b103bd8_b6d6_11e9_9c31_e86a645f3aecrow13_col17 {\n",
       "            background-color:  #e0667e;\n",
       "            color:  #000000;\n",
       "            max-width:  80px;\n",
       "            font-size:  10pt;\n",
       "        }    #T_9b103bd8_b6d6_11e9_9c31_e86a645f3aecrow14_col0 {\n",
       "            background-color:  #acc3e1;\n",
       "            color:  #000000;\n",
       "            max-width:  80px;\n",
       "            font-size:  10pt;\n",
       "        }    #T_9b103bd8_b6d6_11e9_9c31_e86a645f3aecrow14_col1 {\n",
       "            background-color:  #a6bfde;\n",
       "            color:  #000000;\n",
       "            max-width:  80px;\n",
       "            font-size:  10pt;\n",
       "        }    #T_9b103bd8_b6d6_11e9_9c31_e86a645f3aecrow14_col2 {\n",
       "            background-color:  #a4bede;\n",
       "            color:  #000000;\n",
       "            max-width:  80px;\n",
       "            font-size:  10pt;\n",
       "        }    #T_9b103bd8_b6d6_11e9_9c31_e86a645f3aecrow14_col3 {\n",
       "            background-color:  #c3d4e9;\n",
       "            color:  #000000;\n",
       "            max-width:  80px;\n",
       "            font-size:  10pt;\n",
       "        }    #T_9b103bd8_b6d6_11e9_9c31_e86a645f3aecrow14_col4 {\n",
       "            background-color:  #eca1b0;\n",
       "            color:  #000000;\n",
       "            max-width:  80px;\n",
       "            font-size:  10pt;\n",
       "        }    #T_9b103bd8_b6d6_11e9_9c31_e86a645f3aecrow14_col5 {\n",
       "            background-color:  #de5c76;\n",
       "            color:  #000000;\n",
       "            max-width:  80px;\n",
       "            font-size:  10pt;\n",
       "        }    #T_9b103bd8_b6d6_11e9_9c31_e86a645f3aecrow14_col6 {\n",
       "            background-color:  #d73c5b;\n",
       "            color:  #f1f1f1;\n",
       "            max-width:  80px;\n",
       "            font-size:  10pt;\n",
       "        }    #T_9b103bd8_b6d6_11e9_9c31_e86a645f3aecrow14_col7 {\n",
       "            background-color:  #e27087;\n",
       "            color:  #000000;\n",
       "            max-width:  80px;\n",
       "            font-size:  10pt;\n",
       "        }    #T_9b103bd8_b6d6_11e9_9c31_e86a645f3aecrow14_col8 {\n",
       "            background-color:  #d73d5c;\n",
       "            color:  #f1f1f1;\n",
       "            max-width:  80px;\n",
       "            font-size:  10pt;\n",
       "        }    #T_9b103bd8_b6d6_11e9_9c31_e86a645f3aecrow14_col9 {\n",
       "            background-color:  #e890a1;\n",
       "            color:  #000000;\n",
       "            max-width:  80px;\n",
       "            font-size:  10pt;\n",
       "        }    #T_9b103bd8_b6d6_11e9_9c31_e86a645f3aecrow14_col10 {\n",
       "            background-color:  #e68396;\n",
       "            color:  #000000;\n",
       "            max-width:  80px;\n",
       "            font-size:  10pt;\n",
       "        }    #T_9b103bd8_b6d6_11e9_9c31_e86a645f3aecrow14_col11 {\n",
       "            background-color:  #6691c7;\n",
       "            color:  #000000;\n",
       "            max-width:  80px;\n",
       "            font-size:  10pt;\n",
       "        }    #T_9b103bd8_b6d6_11e9_9c31_e86a645f3aecrow14_col12 {\n",
       "            background-color:  #6a94c9;\n",
       "            color:  #000000;\n",
       "            max-width:  80px;\n",
       "            font-size:  10pt;\n",
       "        }    #T_9b103bd8_b6d6_11e9_9c31_e86a645f3aecrow14_col13 {\n",
       "            background-color:  #98b5d9;\n",
       "            color:  #000000;\n",
       "            max-width:  80px;\n",
       "            font-size:  10pt;\n",
       "        }    #T_9b103bd8_b6d6_11e9_9c31_e86a645f3aecrow14_col14 {\n",
       "            background-color:  #4479bb;\n",
       "            color:  #000000;\n",
       "            max-width:  80px;\n",
       "            font-size:  10pt;\n",
       "        }    #T_9b103bd8_b6d6_11e9_9c31_e86a645f3aecrow14_col15 {\n",
       "            background-color:  #ea96a7;\n",
       "            color:  #000000;\n",
       "            max-width:  80px;\n",
       "            font-size:  10pt;\n",
       "        }    #T_9b103bd8_b6d6_11e9_9c31_e86a645f3aecrow14_col16 {\n",
       "            background-color:  #e78a9d;\n",
       "            color:  #000000;\n",
       "            max-width:  80px;\n",
       "            font-size:  10pt;\n",
       "        }    #T_9b103bd8_b6d6_11e9_9c31_e86a645f3aecrow14_col17 {\n",
       "            background-color:  #f6d2d9;\n",
       "            color:  #000000;\n",
       "            max-width:  80px;\n",
       "            font-size:  10pt;\n",
       "        }    #T_9b103bd8_b6d6_11e9_9c31_e86a645f3aecrow15_col0 {\n",
       "            background-color:  #f1b9c4;\n",
       "            color:  #000000;\n",
       "            max-width:  80px;\n",
       "            font-size:  10pt;\n",
       "        }    #T_9b103bd8_b6d6_11e9_9c31_e86a645f3aecrow15_col1 {\n",
       "            background-color:  #f1bbc6;\n",
       "            color:  #000000;\n",
       "            max-width:  80px;\n",
       "            font-size:  10pt;\n",
       "        }    #T_9b103bd8_b6d6_11e9_9c31_e86a645f3aecrow15_col2 {\n",
       "            background-color:  #f0b7c2;\n",
       "            color:  #000000;\n",
       "            max-width:  80px;\n",
       "            font-size:  10pt;\n",
       "        }    #T_9b103bd8_b6d6_11e9_9c31_e86a645f3aecrow15_col3 {\n",
       "            background-color:  #f0b7c2;\n",
       "            color:  #000000;\n",
       "            max-width:  80px;\n",
       "            font-size:  10pt;\n",
       "        }    #T_9b103bd8_b6d6_11e9_9c31_e86a645f3aecrow15_col4 {\n",
       "            background-color:  #e47c91;\n",
       "            color:  #000000;\n",
       "            max-width:  80px;\n",
       "            font-size:  10pt;\n",
       "        }    #T_9b103bd8_b6d6_11e9_9c31_e86a645f3aecrow15_col5 {\n",
       "            background-color:  #dd5872;\n",
       "            color:  #000000;\n",
       "            max-width:  80px;\n",
       "            font-size:  10pt;\n",
       "        }    #T_9b103bd8_b6d6_11e9_9c31_e86a645f3aecrow15_col6 {\n",
       "            background-color:  #da4865;\n",
       "            color:  #000000;\n",
       "            max-width:  80px;\n",
       "            font-size:  10pt;\n",
       "        }    #T_9b103bd8_b6d6_11e9_9c31_e86a645f3aecrow15_col7 {\n",
       "            background-color:  #df617a;\n",
       "            color:  #000000;\n",
       "            max-width:  80px;\n",
       "            font-size:  10pt;\n",
       "        }    #T_9b103bd8_b6d6_11e9_9c31_e86a645f3aecrow15_col8 {\n",
       "            background-color:  #d73c5b;\n",
       "            color:  #f1f1f1;\n",
       "            max-width:  80px;\n",
       "            font-size:  10pt;\n",
       "        }    #T_9b103bd8_b6d6_11e9_9c31_e86a645f3aecrow15_col9 {\n",
       "            background-color:  #e3788d;\n",
       "            color:  #000000;\n",
       "            max-width:  80px;\n",
       "            font-size:  10pt;\n",
       "        }    #T_9b103bd8_b6d6_11e9_9c31_e86a645f3aecrow15_col10 {\n",
       "            background-color:  #e16c84;\n",
       "            color:  #000000;\n",
       "            max-width:  80px;\n",
       "            font-size:  10pt;\n",
       "        }    #T_9b103bd8_b6d6_11e9_9c31_e86a645f3aecrow15_col11 {\n",
       "            background-color:  #f7dae0;\n",
       "            color:  #000000;\n",
       "            max-width:  80px;\n",
       "            font-size:  10pt;\n",
       "        }    #T_9b103bd8_b6d6_11e9_9c31_e86a645f3aecrow15_col12 {\n",
       "            background-color:  #f6d2d9;\n",
       "            color:  #000000;\n",
       "            max-width:  80px;\n",
       "            font-size:  10pt;\n",
       "        }    #T_9b103bd8_b6d6_11e9_9c31_e86a645f3aecrow15_col13 {\n",
       "            background-color:  #e26f86;\n",
       "            color:  #000000;\n",
       "            max-width:  80px;\n",
       "            font-size:  10pt;\n",
       "        }    #T_9b103bd8_b6d6_11e9_9c31_e86a645f3aecrow15_col14 {\n",
       "            background-color:  #eb9dac;\n",
       "            color:  #000000;\n",
       "            max-width:  80px;\n",
       "            font-size:  10pt;\n",
       "        }    #T_9b103bd8_b6d6_11e9_9c31_e86a645f3aecrow15_col15 {\n",
       "            background-color:  #4479bb;\n",
       "            color:  #000000;\n",
       "            max-width:  80px;\n",
       "            font-size:  10pt;\n",
       "        }    #T_9b103bd8_b6d6_11e9_9c31_e86a645f3aecrow15_col16 {\n",
       "            background-color:  #e06880;\n",
       "            color:  #000000;\n",
       "            max-width:  80px;\n",
       "            font-size:  10pt;\n",
       "        }    #T_9b103bd8_b6d6_11e9_9c31_e86a645f3aecrow15_col17 {\n",
       "            background-color:  #f2bdc8;\n",
       "            color:  #000000;\n",
       "            max-width:  80px;\n",
       "            font-size:  10pt;\n",
       "        }    #T_9b103bd8_b6d6_11e9_9c31_e86a645f3aecrow16_col0 {\n",
       "            background-color:  #f1bbc6;\n",
       "            color:  #000000;\n",
       "            max-width:  80px;\n",
       "            font-size:  10pt;\n",
       "        }    #T_9b103bd8_b6d6_11e9_9c31_e86a645f3aecrow16_col1 {\n",
       "            background-color:  #f1bcc7;\n",
       "            color:  #000000;\n",
       "            max-width:  80px;\n",
       "            font-size:  10pt;\n",
       "        }    #T_9b103bd8_b6d6_11e9_9c31_e86a645f3aecrow16_col2 {\n",
       "            background-color:  #eeabb8;\n",
       "            color:  #000000;\n",
       "            max-width:  80px;\n",
       "            font-size:  10pt;\n",
       "        }    #T_9b103bd8_b6d6_11e9_9c31_e86a645f3aecrow16_col3 {\n",
       "            background-color:  #f2c1cb;\n",
       "            color:  #000000;\n",
       "            max-width:  80px;\n",
       "            font-size:  10pt;\n",
       "        }    #T_9b103bd8_b6d6_11e9_9c31_e86a645f3aecrow16_col4 {\n",
       "            background-color:  #e27288;\n",
       "            color:  #000000;\n",
       "            max-width:  80px;\n",
       "            font-size:  10pt;\n",
       "        }    #T_9b103bd8_b6d6_11e9_9c31_e86a645f3aecrow16_col5 {\n",
       "            background-color:  #d94462;\n",
       "            color:  #f1f1f1;\n",
       "            max-width:  80px;\n",
       "            font-size:  10pt;\n",
       "        }    #T_9b103bd8_b6d6_11e9_9c31_e86a645f3aecrow16_col6 {\n",
       "            background-color:  #d94764;\n",
       "            color:  #f1f1f1;\n",
       "            max-width:  80px;\n",
       "            font-size:  10pt;\n",
       "        }    #T_9b103bd8_b6d6_11e9_9c31_e86a645f3aecrow16_col7 {\n",
       "            background-color:  #dd5872;\n",
       "            color:  #000000;\n",
       "            max-width:  80px;\n",
       "            font-size:  10pt;\n",
       "        }    #T_9b103bd8_b6d6_11e9_9c31_e86a645f3aecrow16_col8 {\n",
       "            background-color:  #d73c5b;\n",
       "            color:  #f1f1f1;\n",
       "            max-width:  80px;\n",
       "            font-size:  10pt;\n",
       "        }    #T_9b103bd8_b6d6_11e9_9c31_e86a645f3aecrow16_col9 {\n",
       "            background-color:  #e27087;\n",
       "            color:  #000000;\n",
       "            max-width:  80px;\n",
       "            font-size:  10pt;\n",
       "        }    #T_9b103bd8_b6d6_11e9_9c31_e86a645f3aecrow16_col10 {\n",
       "            background-color:  #df637c;\n",
       "            color:  #000000;\n",
       "            max-width:  80px;\n",
       "            font-size:  10pt;\n",
       "        }    #T_9b103bd8_b6d6_11e9_9c31_e86a645f3aecrow16_col11 {\n",
       "            background-color:  #eca1b0;\n",
       "            color:  #000000;\n",
       "            max-width:  80px;\n",
       "            font-size:  10pt;\n",
       "        }    #T_9b103bd8_b6d6_11e9_9c31_e86a645f3aecrow16_col12 {\n",
       "            background-color:  #ea96a7;\n",
       "            color:  #000000;\n",
       "            max-width:  80px;\n",
       "            font-size:  10pt;\n",
       "        }    #T_9b103bd8_b6d6_11e9_9c31_e86a645f3aecrow16_col13 {\n",
       "            background-color:  #eda7b5;\n",
       "            color:  #000000;\n",
       "            max-width:  80px;\n",
       "            font-size:  10pt;\n",
       "        }    #T_9b103bd8_b6d6_11e9_9c31_e86a645f3aecrow16_col14 {\n",
       "            background-color:  #e78a9d;\n",
       "            color:  #000000;\n",
       "            max-width:  80px;\n",
       "            font-size:  10pt;\n",
       "        }    #T_9b103bd8_b6d6_11e9_9c31_e86a645f3aecrow16_col15 {\n",
       "            background-color:  #de5e77;\n",
       "            color:  #000000;\n",
       "            max-width:  80px;\n",
       "            font-size:  10pt;\n",
       "        }    #T_9b103bd8_b6d6_11e9_9c31_e86a645f3aecrow16_col16 {\n",
       "            background-color:  #4479bb;\n",
       "            color:  #000000;\n",
       "            max-width:  80px;\n",
       "            font-size:  10pt;\n",
       "        }    #T_9b103bd8_b6d6_11e9_9c31_e86a645f3aecrow16_col17 {\n",
       "            background-color:  #ea9aaa;\n",
       "            color:  #000000;\n",
       "            max-width:  80px;\n",
       "            font-size:  10pt;\n",
       "        }    #T_9b103bd8_b6d6_11e9_9c31_e86a645f3aecrow17_col0 {\n",
       "            background-color:  #779dcd;\n",
       "            color:  #000000;\n",
       "            max-width:  80px;\n",
       "            font-size:  10pt;\n",
       "        }    #T_9b103bd8_b6d6_11e9_9c31_e86a645f3aecrow17_col1 {\n",
       "            background-color:  #739acc;\n",
       "            color:  #000000;\n",
       "            max-width:  80px;\n",
       "            font-size:  10pt;\n",
       "        }    #T_9b103bd8_b6d6_11e9_9c31_e86a645f3aecrow17_col2 {\n",
       "            background-color:  #8dadd5;\n",
       "            color:  #000000;\n",
       "            max-width:  80px;\n",
       "            font-size:  10pt;\n",
       "        }    #T_9b103bd8_b6d6_11e9_9c31_e86a645f3aecrow17_col3 {\n",
       "            background-color:  #87a9d3;\n",
       "            color:  #000000;\n",
       "            max-width:  80px;\n",
       "            font-size:  10pt;\n",
       "        }    #T_9b103bd8_b6d6_11e9_9c31_e86a645f3aecrow17_col4 {\n",
       "            background-color:  #eeaab7;\n",
       "            color:  #000000;\n",
       "            max-width:  80px;\n",
       "            font-size:  10pt;\n",
       "        }    #T_9b103bd8_b6d6_11e9_9c31_e86a645f3aecrow17_col5 {\n",
       "            background-color:  #df617a;\n",
       "            color:  #000000;\n",
       "            max-width:  80px;\n",
       "            font-size:  10pt;\n",
       "        }    #T_9b103bd8_b6d6_11e9_9c31_e86a645f3aecrow17_col6 {\n",
       "            background-color:  #dd5a74;\n",
       "            color:  #000000;\n",
       "            max-width:  80px;\n",
       "            font-size:  10pt;\n",
       "        }    #T_9b103bd8_b6d6_11e9_9c31_e86a645f3aecrow17_col7 {\n",
       "            background-color:  #e58094;\n",
       "            color:  #000000;\n",
       "            max-width:  80px;\n",
       "            font-size:  10pt;\n",
       "        }    #T_9b103bd8_b6d6_11e9_9c31_e86a645f3aecrow17_col8 {\n",
       "            background-color:  #d73c5b;\n",
       "            color:  #f1f1f1;\n",
       "            max-width:  80px;\n",
       "            font-size:  10pt;\n",
       "        }    #T_9b103bd8_b6d6_11e9_9c31_e86a645f3aecrow17_col9 {\n",
       "            background-color:  #ec9faf;\n",
       "            color:  #000000;\n",
       "            max-width:  80px;\n",
       "            font-size:  10pt;\n",
       "        }    #T_9b103bd8_b6d6_11e9_9c31_e86a645f3aecrow17_col10 {\n",
       "            background-color:  #eb9ead;\n",
       "            color:  #000000;\n",
       "            max-width:  80px;\n",
       "            font-size:  10pt;\n",
       "        }    #T_9b103bd8_b6d6_11e9_9c31_e86a645f3aecrow17_col11 {\n",
       "            background-color:  #eeacba;\n",
       "            color:  #000000;\n",
       "            max-width:  80px;\n",
       "            font-size:  10pt;\n",
       "        }    #T_9b103bd8_b6d6_11e9_9c31_e86a645f3aecrow17_col12 {\n",
       "            background-color:  #eca4b3;\n",
       "            color:  #000000;\n",
       "            max-width:  80px;\n",
       "            font-size:  10pt;\n",
       "        }    #T_9b103bd8_b6d6_11e9_9c31_e86a645f3aecrow17_col13 {\n",
       "            background-color:  #df637c;\n",
       "            color:  #000000;\n",
       "            max-width:  80px;\n",
       "            font-size:  10pt;\n",
       "        }    #T_9b103bd8_b6d6_11e9_9c31_e86a645f3aecrow17_col14 {\n",
       "            background-color:  #f7d6dd;\n",
       "            color:  #000000;\n",
       "            max-width:  80px;\n",
       "            font-size:  10pt;\n",
       "        }    #T_9b103bd8_b6d6_11e9_9c31_e86a645f3aecrow17_col15 {\n",
       "            background-color:  #f1bbc6;\n",
       "            color:  #000000;\n",
       "            max-width:  80px;\n",
       "            font-size:  10pt;\n",
       "        }    #T_9b103bd8_b6d6_11e9_9c31_e86a645f3aecrow17_col16 {\n",
       "            background-color:  #eb9ead;\n",
       "            color:  #000000;\n",
       "            max-width:  80px;\n",
       "            font-size:  10pt;\n",
       "        }    #T_9b103bd8_b6d6_11e9_9c31_e86a645f3aecrow17_col17 {\n",
       "            background-color:  #4479bb;\n",
       "            color:  #000000;\n",
       "            max-width:  80px;\n",
       "            font-size:  10pt;\n",
       "        }</style><table id=\"T_9b103bd8_b6d6_11e9_9c31_e86a645f3aec\" ><caption>Correlation Matrix for Numeric Features</caption><thead>    <tr>        <th class=\"blank level0\" ></th>        <th class=\"col_heading level0 col0\" >loan_amnt</th>        <th class=\"col_heading level0 col1\" >funded_amnt</th>        <th class=\"col_heading level0 col2\" >funded_amnt_inv</th>        <th class=\"col_heading level0 col3\" >installment</th>        <th class=\"col_heading level0 col4\" >annual_inc</th>        <th class=\"col_heading level0 col5\" >dti</th>        <th class=\"col_heading level0 col6\" >inq_last_6mths</th>        <th class=\"col_heading level0 col7\" >open_acc</th>        <th class=\"col_heading level0 col8\" >pub_rec</th>        <th class=\"col_heading level0 col9\" >revol_bal</th>        <th class=\"col_heading level0 col10\" >total_acc</th>        <th class=\"col_heading level0 col11\" >total_pymnt</th>        <th class=\"col_heading level0 col12\" >total_pymnt_inv</th>        <th class=\"col_heading level0 col13\" >total_rec_prncp</th>        <th class=\"col_heading level0 col14\" >total_rec_int</th>        <th class=\"col_heading level0 col15\" >recoveries</th>        <th class=\"col_heading level0 col16\" >last_pymnt_amnt</th>        <th class=\"col_heading level0 col17\" >credit_lose</th>    </tr></thead><tbody>\n",
       "                <tr>\n",
       "                        <th id=\"T_9b103bd8_b6d6_11e9_9c31_e86a645f3aeclevel0_row0\" class=\"row_heading level0 row0\" >loan_amnt</th>\n",
       "                        <td id=\"T_9b103bd8_b6d6_11e9_9c31_e86a645f3aecrow0_col0\" class=\"data row0 col0\" >1</td>\n",
       "                        <td id=\"T_9b103bd8_b6d6_11e9_9c31_e86a645f3aecrow0_col1\" class=\"data row0 col1\" >0.98</td>\n",
       "                        <td id=\"T_9b103bd8_b6d6_11e9_9c31_e86a645f3aecrow0_col2\" class=\"data row0 col2\" >0.91</td>\n",
       "                        <td id=\"T_9b103bd8_b6d6_11e9_9c31_e86a645f3aecrow0_col3\" class=\"data row0 col3\" >0.93</td>\n",
       "                        <td id=\"T_9b103bd8_b6d6_11e9_9c31_e86a645f3aecrow0_col4\" class=\"data row0 col4\" >0.35</td>\n",
       "                        <td id=\"T_9b103bd8_b6d6_11e9_9c31_e86a645f3aecrow0_col5\" class=\"data row0 col5\" >0.064</td>\n",
       "                        <td id=\"T_9b103bd8_b6d6_11e9_9c31_e86a645f3aecrow0_col6\" class=\"data row0 col6\" >0.0075</td>\n",
       "                        <td id=\"T_9b103bd8_b6d6_11e9_9c31_e86a645f3aecrow0_col7\" class=\"data row0 col7\" >0.18</td>\n",
       "                        <td id=\"T_9b103bd8_b6d6_11e9_9c31_e86a645f3aecrow0_col8\" class=\"data row0 col8\" >-0.048</td>\n",
       "                        <td id=\"T_9b103bd8_b6d6_11e9_9c31_e86a645f3aecrow0_col9\" class=\"data row0 col9\" >0.31</td>\n",
       "                        <td id=\"T_9b103bd8_b6d6_11e9_9c31_e86a645f3aecrow0_col10\" class=\"data row0 col10\" >0.28</td>\n",
       "                        <td id=\"T_9b103bd8_b6d6_11e9_9c31_e86a645f3aecrow0_col11\" class=\"data row0 col11\" >0.68</td>\n",
       "                        <td id=\"T_9b103bd8_b6d6_11e9_9c31_e86a645f3aecrow0_col12\" class=\"data row0 col12\" >0.64</td>\n",
       "                        <td id=\"T_9b103bd8_b6d6_11e9_9c31_e86a645f3aecrow0_col13\" class=\"data row0 col13\" >0.55</td>\n",
       "                        <td id=\"T_9b103bd8_b6d6_11e9_9c31_e86a645f3aecrow0_col14\" class=\"data row0 col14\" >0.7</td>\n",
       "                        <td id=\"T_9b103bd8_b6d6_11e9_9c31_e86a645f3aecrow0_col15\" class=\"data row0 col15\" >0.31</td>\n",
       "                        <td id=\"T_9b103bd8_b6d6_11e9_9c31_e86a645f3aecrow0_col16\" class=\"data row0 col16\" >0.33</td>\n",
       "                        <td id=\"T_9b103bd8_b6d6_11e9_9c31_e86a645f3aecrow0_col17\" class=\"data row0 col17\" >0.85</td>\n",
       "            </tr>\n",
       "            <tr>\n",
       "                        <th id=\"T_9b103bd8_b6d6_11e9_9c31_e86a645f3aeclevel0_row1\" class=\"row_heading level0 row1\" >funded_amnt</th>\n",
       "                        <td id=\"T_9b103bd8_b6d6_11e9_9c31_e86a645f3aecrow1_col0\" class=\"data row1 col0\" >0.98</td>\n",
       "                        <td id=\"T_9b103bd8_b6d6_11e9_9c31_e86a645f3aecrow1_col1\" class=\"data row1 col1\" >1</td>\n",
       "                        <td id=\"T_9b103bd8_b6d6_11e9_9c31_e86a645f3aecrow1_col2\" class=\"data row1 col2\" >0.93</td>\n",
       "                        <td id=\"T_9b103bd8_b6d6_11e9_9c31_e86a645f3aecrow1_col3\" class=\"data row1 col3\" >0.95</td>\n",
       "                        <td id=\"T_9b103bd8_b6d6_11e9_9c31_e86a645f3aecrow1_col4\" class=\"data row1 col4\" >0.35</td>\n",
       "                        <td id=\"T_9b103bd8_b6d6_11e9_9c31_e86a645f3aecrow1_col5\" class=\"data row1 col5\" >0.061</td>\n",
       "                        <td id=\"T_9b103bd8_b6d6_11e9_9c31_e86a645f3aecrow1_col6\" class=\"data row1 col6\" >0.0079</td>\n",
       "                        <td id=\"T_9b103bd8_b6d6_11e9_9c31_e86a645f3aecrow1_col7\" class=\"data row1 col7\" >0.18</td>\n",
       "                        <td id=\"T_9b103bd8_b6d6_11e9_9c31_e86a645f3aecrow1_col8\" class=\"data row1 col8\" >-0.053</td>\n",
       "                        <td id=\"T_9b103bd8_b6d6_11e9_9c31_e86a645f3aecrow1_col9\" class=\"data row1 col9\" >0.3</td>\n",
       "                        <td id=\"T_9b103bd8_b6d6_11e9_9c31_e86a645f3aecrow1_col10\" class=\"data row1 col10\" >0.28</td>\n",
       "                        <td id=\"T_9b103bd8_b6d6_11e9_9c31_e86a645f3aecrow1_col11\" class=\"data row1 col11\" >0.7</td>\n",
       "                        <td id=\"T_9b103bd8_b6d6_11e9_9c31_e86a645f3aecrow1_col12\" class=\"data row1 col12\" >0.66</td>\n",
       "                        <td id=\"T_9b103bd8_b6d6_11e9_9c31_e86a645f3aecrow1_col13\" class=\"data row1 col13\" >0.57</td>\n",
       "                        <td id=\"T_9b103bd8_b6d6_11e9_9c31_e86a645f3aecrow1_col14\" class=\"data row1 col14\" >0.71</td>\n",
       "                        <td id=\"T_9b103bd8_b6d6_11e9_9c31_e86a645f3aecrow1_col15\" class=\"data row1 col15\" >0.32</td>\n",
       "                        <td id=\"T_9b103bd8_b6d6_11e9_9c31_e86a645f3aecrow1_col16\" class=\"data row1 col16\" >0.34</td>\n",
       "                        <td id=\"T_9b103bd8_b6d6_11e9_9c31_e86a645f3aecrow1_col17\" class=\"data row1 col17\" >0.86</td>\n",
       "            </tr>\n",
       "            <tr>\n",
       "                        <th id=\"T_9b103bd8_b6d6_11e9_9c31_e86a645f3aeclevel0_row2\" class=\"row_heading level0 row2\" >funded_amnt_inv</th>\n",
       "                        <td id=\"T_9b103bd8_b6d6_11e9_9c31_e86a645f3aecrow2_col0\" class=\"data row2 col0\" >0.91</td>\n",
       "                        <td id=\"T_9b103bd8_b6d6_11e9_9c31_e86a645f3aecrow2_col1\" class=\"data row2 col1\" >0.93</td>\n",
       "                        <td id=\"T_9b103bd8_b6d6_11e9_9c31_e86a645f3aecrow2_col2\" class=\"data row2 col2\" >1</td>\n",
       "                        <td id=\"T_9b103bd8_b6d6_11e9_9c31_e86a645f3aecrow2_col3\" class=\"data row2 col3\" >0.86</td>\n",
       "                        <td id=\"T_9b103bd8_b6d6_11e9_9c31_e86a645f3aecrow2_col4\" class=\"data row2 col4\" >0.31</td>\n",
       "                        <td id=\"T_9b103bd8_b6d6_11e9_9c31_e86a645f3aecrow2_col5\" class=\"data row2 col5\" >0.073</td>\n",
       "                        <td id=\"T_9b103bd8_b6d6_11e9_9c31_e86a645f3aecrow2_col6\" class=\"data row2 col6\" >-0.018</td>\n",
       "                        <td id=\"T_9b103bd8_b6d6_11e9_9c31_e86a645f3aecrow2_col7\" class=\"data row2 col7\" >0.15</td>\n",
       "                        <td id=\"T_9b103bd8_b6d6_11e9_9c31_e86a645f3aecrow2_col8\" class=\"data row2 col8\" >-0.053</td>\n",
       "                        <td id=\"T_9b103bd8_b6d6_11e9_9c31_e86a645f3aecrow2_col9\" class=\"data row2 col9\" >0.25</td>\n",
       "                        <td id=\"T_9b103bd8_b6d6_11e9_9c31_e86a645f3aecrow2_col10\" class=\"data row2 col10\" >0.25</td>\n",
       "                        <td id=\"T_9b103bd8_b6d6_11e9_9c31_e86a645f3aecrow2_col11\" class=\"data row2 col11\" >0.69</td>\n",
       "                        <td id=\"T_9b103bd8_b6d6_11e9_9c31_e86a645f3aecrow2_col12\" class=\"data row2 col12\" >0.73</td>\n",
       "                        <td id=\"T_9b103bd8_b6d6_11e9_9c31_e86a645f3aecrow2_col13\" class=\"data row2 col13\" >0.55</td>\n",
       "                        <td id=\"T_9b103bd8_b6d6_11e9_9c31_e86a645f3aecrow2_col14\" class=\"data row2 col14\" >0.72</td>\n",
       "                        <td id=\"T_9b103bd8_b6d6_11e9_9c31_e86a645f3aecrow2_col15\" class=\"data row2 col15\" >0.3</td>\n",
       "                        <td id=\"T_9b103bd8_b6d6_11e9_9c31_e86a645f3aecrow2_col16\" class=\"data row2 col16\" >0.29</td>\n",
       "                        <td id=\"T_9b103bd8_b6d6_11e9_9c31_e86a645f3aecrow2_col17\" class=\"data row2 col17\" >0.78</td>\n",
       "            </tr>\n",
       "            <tr>\n",
       "                        <th id=\"T_9b103bd8_b6d6_11e9_9c31_e86a645f3aeclevel0_row3\" class=\"row_heading level0 row3\" >installment</th>\n",
       "                        <td id=\"T_9b103bd8_b6d6_11e9_9c31_e86a645f3aecrow3_col0\" class=\"data row3 col0\" >0.93</td>\n",
       "                        <td id=\"T_9b103bd8_b6d6_11e9_9c31_e86a645f3aecrow3_col1\" class=\"data row3 col1\" >0.95</td>\n",
       "                        <td id=\"T_9b103bd8_b6d6_11e9_9c31_e86a645f3aecrow3_col2\" class=\"data row3 col2\" >0.86</td>\n",
       "                        <td id=\"T_9b103bd8_b6d6_11e9_9c31_e86a645f3aecrow3_col3\" class=\"data row3 col3\" >1</td>\n",
       "                        <td id=\"T_9b103bd8_b6d6_11e9_9c31_e86a645f3aecrow3_col4\" class=\"data row3 col4\" >0.36</td>\n",
       "                        <td id=\"T_9b103bd8_b6d6_11e9_9c31_e86a645f3aecrow3_col5\" class=\"data row3 col5\" >0.042</td>\n",
       "                        <td id=\"T_9b103bd8_b6d6_11e9_9c31_e86a645f3aecrow3_col6\" class=\"data row3 col6\" >0.018</td>\n",
       "                        <td id=\"T_9b103bd8_b6d6_11e9_9c31_e86a645f3aecrow3_col7\" class=\"data row3 col7\" >0.18</td>\n",
       "                        <td id=\"T_9b103bd8_b6d6_11e9_9c31_e86a645f3aecrow3_col8\" class=\"data row3 col8\" >-0.041</td>\n",
       "                        <td id=\"T_9b103bd8_b6d6_11e9_9c31_e86a645f3aecrow3_col9\" class=\"data row3 col9\" >0.3</td>\n",
       "                        <td id=\"T_9b103bd8_b6d6_11e9_9c31_e86a645f3aecrow3_col10\" class=\"data row3 col10\" >0.25</td>\n",
       "                        <td id=\"T_9b103bd8_b6d6_11e9_9c31_e86a645f3aecrow3_col11\" class=\"data row3 col11\" >0.67</td>\n",
       "                        <td id=\"T_9b103bd8_b6d6_11e9_9c31_e86a645f3aecrow3_col12\" class=\"data row3 col12\" >0.62</td>\n",
       "                        <td id=\"T_9b103bd8_b6d6_11e9_9c31_e86a645f3aecrow3_col13\" class=\"data row3 col13\" >0.58</td>\n",
       "                        <td id=\"T_9b103bd8_b6d6_11e9_9c31_e86a645f3aecrow3_col14\" class=\"data row3 col14\" >0.63</td>\n",
       "                        <td id=\"T_9b103bd8_b6d6_11e9_9c31_e86a645f3aecrow3_col15\" class=\"data row3 col15\" >0.3</td>\n",
       "                        <td id=\"T_9b103bd8_b6d6_11e9_9c31_e86a645f3aecrow3_col16\" class=\"data row3 col16\" >0.35</td>\n",
       "                        <td id=\"T_9b103bd8_b6d6_11e9_9c31_e86a645f3aecrow3_col17\" class=\"data row3 col17\" >0.8</td>\n",
       "            </tr>\n",
       "            <tr>\n",
       "                        <th id=\"T_9b103bd8_b6d6_11e9_9c31_e86a645f3aeclevel0_row4\" class=\"row_heading level0 row4\" >annual_inc</th>\n",
       "                        <td id=\"T_9b103bd8_b6d6_11e9_9c31_e86a645f3aecrow4_col0\" class=\"data row4 col0\" >0.35</td>\n",
       "                        <td id=\"T_9b103bd8_b6d6_11e9_9c31_e86a645f3aecrow4_col1\" class=\"data row4 col1\" >0.35</td>\n",
       "                        <td id=\"T_9b103bd8_b6d6_11e9_9c31_e86a645f3aecrow4_col2\" class=\"data row4 col2\" >0.31</td>\n",
       "                        <td id=\"T_9b103bd8_b6d6_11e9_9c31_e86a645f3aecrow4_col3\" class=\"data row4 col3\" >0.36</td>\n",
       "                        <td id=\"T_9b103bd8_b6d6_11e9_9c31_e86a645f3aecrow4_col4\" class=\"data row4 col4\" >1</td>\n",
       "                        <td id=\"T_9b103bd8_b6d6_11e9_9c31_e86a645f3aecrow4_col5\" class=\"data row4 col5\" >-0.09</td>\n",
       "                        <td id=\"T_9b103bd8_b6d6_11e9_9c31_e86a645f3aecrow4_col6\" class=\"data row4 col6\" >0.037</td>\n",
       "                        <td id=\"T_9b103bd8_b6d6_11e9_9c31_e86a645f3aecrow4_col7\" class=\"data row4 col7\" >0.21</td>\n",
       "                        <td id=\"T_9b103bd8_b6d6_11e9_9c31_e86a645f3aecrow4_col8\" class=\"data row4 col8\" >-0.0067</td>\n",
       "                        <td id=\"T_9b103bd8_b6d6_11e9_9c31_e86a645f3aecrow4_col9\" class=\"data row4 col9\" >0.38</td>\n",
       "                        <td id=\"T_9b103bd8_b6d6_11e9_9c31_e86a645f3aecrow4_col10\" class=\"data row4 col10\" >0.29</td>\n",
       "                        <td id=\"T_9b103bd8_b6d6_11e9_9c31_e86a645f3aecrow4_col11\" class=\"data row4 col11\" >0.28</td>\n",
       "                        <td id=\"T_9b103bd8_b6d6_11e9_9c31_e86a645f3aecrow4_col12\" class=\"data row4 col12\" >0.26</td>\n",
       "                        <td id=\"T_9b103bd8_b6d6_11e9_9c31_e86a645f3aecrow4_col13\" class=\"data row4 col13\" >0.24</td>\n",
       "                        <td id=\"T_9b103bd8_b6d6_11e9_9c31_e86a645f3aecrow4_col14\" class=\"data row4 col14\" >0.26</td>\n",
       "                        <td id=\"T_9b103bd8_b6d6_11e9_9c31_e86a645f3aecrow4_col15\" class=\"data row4 col15\" >0.13</td>\n",
       "                        <td id=\"T_9b103bd8_b6d6_11e9_9c31_e86a645f3aecrow4_col16\" class=\"data row4 col16\" >0.13</td>\n",
       "                        <td id=\"T_9b103bd8_b6d6_11e9_9c31_e86a645f3aecrow4_col17\" class=\"data row4 col17\" >0.27</td>\n",
       "            </tr>\n",
       "            <tr>\n",
       "                        <th id=\"T_9b103bd8_b6d6_11e9_9c31_e86a645f3aeclevel0_row5\" class=\"row_heading level0 row5\" >dti</th>\n",
       "                        <td id=\"T_9b103bd8_b6d6_11e9_9c31_e86a645f3aecrow5_col0\" class=\"data row5 col0\" >0.064</td>\n",
       "                        <td id=\"T_9b103bd8_b6d6_11e9_9c31_e86a645f3aecrow5_col1\" class=\"data row5 col1\" >0.061</td>\n",
       "                        <td id=\"T_9b103bd8_b6d6_11e9_9c31_e86a645f3aecrow5_col2\" class=\"data row5 col2\" >0.073</td>\n",
       "                        <td id=\"T_9b103bd8_b6d6_11e9_9c31_e86a645f3aecrow5_col3\" class=\"data row5 col3\" >0.042</td>\n",
       "                        <td id=\"T_9b103bd8_b6d6_11e9_9c31_e86a645f3aecrow5_col4\" class=\"data row5 col4\" >-0.09</td>\n",
       "                        <td id=\"T_9b103bd8_b6d6_11e9_9c31_e86a645f3aecrow5_col5\" class=\"data row5 col5\" >1</td>\n",
       "                        <td id=\"T_9b103bd8_b6d6_11e9_9c31_e86a645f3aecrow5_col6\" class=\"data row5 col6\" >-0.029</td>\n",
       "                        <td id=\"T_9b103bd8_b6d6_11e9_9c31_e86a645f3aecrow5_col7\" class=\"data row5 col7\" >0.3</td>\n",
       "                        <td id=\"T_9b103bd8_b6d6_11e9_9c31_e86a645f3aecrow5_col8\" class=\"data row5 col8\" >0.008</td>\n",
       "                        <td id=\"T_9b103bd8_b6d6_11e9_9c31_e86a645f3aecrow5_col9\" class=\"data row5 col9\" >0.24</td>\n",
       "                        <td id=\"T_9b103bd8_b6d6_11e9_9c31_e86a645f3aecrow5_col10\" class=\"data row5 col10\" >0.27</td>\n",
       "                        <td id=\"T_9b103bd8_b6d6_11e9_9c31_e86a645f3aecrow5_col11\" class=\"data row5 col11\" >0.043</td>\n",
       "                        <td id=\"T_9b103bd8_b6d6_11e9_9c31_e86a645f3aecrow5_col12\" class=\"data row5 col12\" >0.049</td>\n",
       "                        <td id=\"T_9b103bd8_b6d6_11e9_9c31_e86a645f3aecrow5_col13\" class=\"data row5 col13\" >0.015</td>\n",
       "                        <td id=\"T_9b103bd8_b6d6_11e9_9c31_e86a645f3aecrow5_col14\" class=\"data row5 col14\" >0.069</td>\n",
       "                        <td id=\"T_9b103bd8_b6d6_11e9_9c31_e86a645f3aecrow5_col15\" class=\"data row5 col15\" >0.031</td>\n",
       "                        <td id=\"T_9b103bd8_b6d6_11e9_9c31_e86a645f3aecrow5_col16\" class=\"data row5 col16\" >0.00037</td>\n",
       "                        <td id=\"T_9b103bd8_b6d6_11e9_9c31_e86a645f3aecrow5_col17\" class=\"data row5 col17\" >0.065</td>\n",
       "            </tr>\n",
       "            <tr>\n",
       "                        <th id=\"T_9b103bd8_b6d6_11e9_9c31_e86a645f3aeclevel0_row6\" class=\"row_heading level0 row6\" >inq_last_6mths</th>\n",
       "                        <td id=\"T_9b103bd8_b6d6_11e9_9c31_e86a645f3aecrow6_col0\" class=\"data row6 col0\" >0.0075</td>\n",
       "                        <td id=\"T_9b103bd8_b6d6_11e9_9c31_e86a645f3aecrow6_col1\" class=\"data row6 col1\" >0.0079</td>\n",
       "                        <td id=\"T_9b103bd8_b6d6_11e9_9c31_e86a645f3aecrow6_col2\" class=\"data row6 col2\" >-0.018</td>\n",
       "                        <td id=\"T_9b103bd8_b6d6_11e9_9c31_e86a645f3aecrow6_col3\" class=\"data row6 col3\" >0.018</td>\n",
       "                        <td id=\"T_9b103bd8_b6d6_11e9_9c31_e86a645f3aecrow6_col4\" class=\"data row6 col4\" >0.037</td>\n",
       "                        <td id=\"T_9b103bd8_b6d6_11e9_9c31_e86a645f3aecrow6_col5\" class=\"data row6 col5\" >-0.029</td>\n",
       "                        <td id=\"T_9b103bd8_b6d6_11e9_9c31_e86a645f3aecrow6_col6\" class=\"data row6 col6\" >1</td>\n",
       "                        <td id=\"T_9b103bd8_b6d6_11e9_9c31_e86a645f3aecrow6_col7\" class=\"data row6 col7\" >0.079</td>\n",
       "                        <td id=\"T_9b103bd8_b6d6_11e9_9c31_e86a645f3aecrow6_col8\" class=\"data row6 col8\" >0.013</td>\n",
       "                        <td id=\"T_9b103bd8_b6d6_11e9_9c31_e86a645f3aecrow6_col9\" class=\"data row6 col9\" >-0.011</td>\n",
       "                        <td id=\"T_9b103bd8_b6d6_11e9_9c31_e86a645f3aecrow6_col10\" class=\"data row6 col10\" >0.1</td>\n",
       "                        <td id=\"T_9b103bd8_b6d6_11e9_9c31_e86a645f3aecrow6_col11\" class=\"data row6 col11\" >-0.045</td>\n",
       "                        <td id=\"T_9b103bd8_b6d6_11e9_9c31_e86a645f3aecrow6_col12\" class=\"data row6 col12\" >-0.057</td>\n",
       "                        <td id=\"T_9b103bd8_b6d6_11e9_9c31_e86a645f3aecrow6_col13\" class=\"data row6 col13\" >-0.054</td>\n",
       "                        <td id=\"T_9b103bd8_b6d6_11e9_9c31_e86a645f3aecrow6_col14\" class=\"data row6 col14\" >-0.024</td>\n",
       "                        <td id=\"T_9b103bd8_b6d6_11e9_9c31_e86a645f3aecrow6_col15\" class=\"data row6 col15\" >-0.014</td>\n",
       "                        <td id=\"T_9b103bd8_b6d6_11e9_9c31_e86a645f3aecrow6_col16\" class=\"data row6 col16\" >0.0097</td>\n",
       "                        <td id=\"T_9b103bd8_b6d6_11e9_9c31_e86a645f3aecrow6_col17\" class=\"data row6 col17\" >0.043</td>\n",
       "            </tr>\n",
       "            <tr>\n",
       "                        <th id=\"T_9b103bd8_b6d6_11e9_9c31_e86a645f3aeclevel0_row7\" class=\"row_heading level0 row7\" >open_acc</th>\n",
       "                        <td id=\"T_9b103bd8_b6d6_11e9_9c31_e86a645f3aecrow7_col0\" class=\"data row7 col0\" >0.18</td>\n",
       "                        <td id=\"T_9b103bd8_b6d6_11e9_9c31_e86a645f3aecrow7_col1\" class=\"data row7 col1\" >0.18</td>\n",
       "                        <td id=\"T_9b103bd8_b6d6_11e9_9c31_e86a645f3aecrow7_col2\" class=\"data row7 col2\" >0.15</td>\n",
       "                        <td id=\"T_9b103bd8_b6d6_11e9_9c31_e86a645f3aecrow7_col3\" class=\"data row7 col3\" >0.18</td>\n",
       "                        <td id=\"T_9b103bd8_b6d6_11e9_9c31_e86a645f3aecrow7_col4\" class=\"data row7 col4\" >0.21</td>\n",
       "                        <td id=\"T_9b103bd8_b6d6_11e9_9c31_e86a645f3aecrow7_col5\" class=\"data row7 col5\" >0.3</td>\n",
       "                        <td id=\"T_9b103bd8_b6d6_11e9_9c31_e86a645f3aecrow7_col6\" class=\"data row7 col6\" >0.079</td>\n",
       "                        <td id=\"T_9b103bd8_b6d6_11e9_9c31_e86a645f3aecrow7_col7\" class=\"data row7 col7\" >1</td>\n",
       "                        <td id=\"T_9b103bd8_b6d6_11e9_9c31_e86a645f3aecrow7_col8\" class=\"data row7 col8\" >0.05</td>\n",
       "                        <td id=\"T_9b103bd8_b6d6_11e9_9c31_e86a645f3aecrow7_col9\" class=\"data row7 col9\" >0.33</td>\n",
       "                        <td id=\"T_9b103bd8_b6d6_11e9_9c31_e86a645f3aecrow7_col10\" class=\"data row7 col10\" >0.69</td>\n",
       "                        <td id=\"T_9b103bd8_b6d6_11e9_9c31_e86a645f3aecrow7_col11\" class=\"data row7 col11\" >0.12</td>\n",
       "                        <td id=\"T_9b103bd8_b6d6_11e9_9c31_e86a645f3aecrow7_col12\" class=\"data row7 col12\" >0.11</td>\n",
       "                        <td id=\"T_9b103bd8_b6d6_11e9_9c31_e86a645f3aecrow7_col13\" class=\"data row7 col13\" >0.1</td>\n",
       "                        <td id=\"T_9b103bd8_b6d6_11e9_9c31_e86a645f3aecrow7_col14\" class=\"data row7 col14\" >0.12</td>\n",
       "                        <td id=\"T_9b103bd8_b6d6_11e9_9c31_e86a645f3aecrow7_col15\" class=\"data row7 col15\" >0.055</td>\n",
       "                        <td id=\"T_9b103bd8_b6d6_11e9_9c31_e86a645f3aecrow7_col16\" class=\"data row7 col16\" >0.057</td>\n",
       "                        <td id=\"T_9b103bd8_b6d6_11e9_9c31_e86a645f3aecrow7_col17\" class=\"data row7 col17\" >0.16</td>\n",
       "            </tr>\n",
       "            <tr>\n",
       "                        <th id=\"T_9b103bd8_b6d6_11e9_9c31_e86a645f3aeclevel0_row8\" class=\"row_heading level0 row8\" >pub_rec</th>\n",
       "                        <td id=\"T_9b103bd8_b6d6_11e9_9c31_e86a645f3aecrow8_col0\" class=\"data row8 col0\" >-0.048</td>\n",
       "                        <td id=\"T_9b103bd8_b6d6_11e9_9c31_e86a645f3aecrow8_col1\" class=\"data row8 col1\" >-0.053</td>\n",
       "                        <td id=\"T_9b103bd8_b6d6_11e9_9c31_e86a645f3aecrow8_col2\" class=\"data row8 col2\" >-0.053</td>\n",
       "                        <td id=\"T_9b103bd8_b6d6_11e9_9c31_e86a645f3aecrow8_col3\" class=\"data row8 col3\" >-0.041</td>\n",
       "                        <td id=\"T_9b103bd8_b6d6_11e9_9c31_e86a645f3aecrow8_col4\" class=\"data row8 col4\" >-0.0067</td>\n",
       "                        <td id=\"T_9b103bd8_b6d6_11e9_9c31_e86a645f3aecrow8_col5\" class=\"data row8 col5\" >0.008</td>\n",
       "                        <td id=\"T_9b103bd8_b6d6_11e9_9c31_e86a645f3aecrow8_col6\" class=\"data row8 col6\" >0.013</td>\n",
       "                        <td id=\"T_9b103bd8_b6d6_11e9_9c31_e86a645f3aecrow8_col7\" class=\"data row8 col7\" >0.05</td>\n",
       "                        <td id=\"T_9b103bd8_b6d6_11e9_9c31_e86a645f3aecrow8_col8\" class=\"data row8 col8\" >1</td>\n",
       "                        <td id=\"T_9b103bd8_b6d6_11e9_9c31_e86a645f3aecrow8_col9\" class=\"data row8 col9\" >-0.064</td>\n",
       "                        <td id=\"T_9b103bd8_b6d6_11e9_9c31_e86a645f3aecrow8_col10\" class=\"data row8 col10\" >0.016</td>\n",
       "                        <td id=\"T_9b103bd8_b6d6_11e9_9c31_e86a645f3aecrow8_col11\" class=\"data row8 col11\" >-0.042</td>\n",
       "                        <td id=\"T_9b103bd8_b6d6_11e9_9c31_e86a645f3aecrow8_col12\" class=\"data row8 col12\" >-0.043</td>\n",
       "                        <td id=\"T_9b103bd8_b6d6_11e9_9c31_e86a645f3aecrow8_col13\" class=\"data row8 col13\" >-0.034</td>\n",
       "                        <td id=\"T_9b103bd8_b6d6_11e9_9c31_e86a645f3aecrow8_col14\" class=\"data row8 col14\" >-0.019</td>\n",
       "                        <td id=\"T_9b103bd8_b6d6_11e9_9c31_e86a645f3aecrow8_col15\" class=\"data row8 col15\" >-0.054</td>\n",
       "                        <td id=\"T_9b103bd8_b6d6_11e9_9c31_e86a645f3aecrow8_col16\" class=\"data row8 col16\" >-0.024</td>\n",
       "                        <td id=\"T_9b103bd8_b6d6_11e9_9c31_e86a645f3aecrow8_col17\" class=\"data row8 col17\" >-0.043</td>\n",
       "            </tr>\n",
       "            <tr>\n",
       "                        <th id=\"T_9b103bd8_b6d6_11e9_9c31_e86a645f3aeclevel0_row9\" class=\"row_heading level0 row9\" >revol_bal</th>\n",
       "                        <td id=\"T_9b103bd8_b6d6_11e9_9c31_e86a645f3aecrow9_col0\" class=\"data row9 col0\" >0.31</td>\n",
       "                        <td id=\"T_9b103bd8_b6d6_11e9_9c31_e86a645f3aecrow9_col1\" class=\"data row9 col1\" >0.3</td>\n",
       "                        <td id=\"T_9b103bd8_b6d6_11e9_9c31_e86a645f3aecrow9_col2\" class=\"data row9 col2\" >0.25</td>\n",
       "                        <td id=\"T_9b103bd8_b6d6_11e9_9c31_e86a645f3aecrow9_col3\" class=\"data row9 col3\" >0.3</td>\n",
       "                        <td id=\"T_9b103bd8_b6d6_11e9_9c31_e86a645f3aecrow9_col4\" class=\"data row9 col4\" >0.38</td>\n",
       "                        <td id=\"T_9b103bd8_b6d6_11e9_9c31_e86a645f3aecrow9_col5\" class=\"data row9 col5\" >0.24</td>\n",
       "                        <td id=\"T_9b103bd8_b6d6_11e9_9c31_e86a645f3aecrow9_col6\" class=\"data row9 col6\" >-0.011</td>\n",
       "                        <td id=\"T_9b103bd8_b6d6_11e9_9c31_e86a645f3aecrow9_col7\" class=\"data row9 col7\" >0.33</td>\n",
       "                        <td id=\"T_9b103bd8_b6d6_11e9_9c31_e86a645f3aecrow9_col8\" class=\"data row9 col8\" >-0.064</td>\n",
       "                        <td id=\"T_9b103bd8_b6d6_11e9_9c31_e86a645f3aecrow9_col9\" class=\"data row9 col9\" >1</td>\n",
       "                        <td id=\"T_9b103bd8_b6d6_11e9_9c31_e86a645f3aecrow9_col10\" class=\"data row9 col10\" >0.36</td>\n",
       "                        <td id=\"T_9b103bd8_b6d6_11e9_9c31_e86a645f3aecrow9_col11\" class=\"data row9 col11\" >0.23</td>\n",
       "                        <td id=\"T_9b103bd8_b6d6_11e9_9c31_e86a645f3aecrow9_col12\" class=\"data row9 col12\" >0.2</td>\n",
       "                        <td id=\"T_9b103bd8_b6d6_11e9_9c31_e86a645f3aecrow9_col13\" class=\"data row9 col13\" >0.19</td>\n",
       "                        <td id=\"T_9b103bd8_b6d6_11e9_9c31_e86a645f3aecrow9_col14\" class=\"data row9 col14\" >0.22</td>\n",
       "                        <td id=\"T_9b103bd8_b6d6_11e9_9c31_e86a645f3aecrow9_col15\" class=\"data row9 col15\" >0.12</td>\n",
       "                        <td id=\"T_9b103bd8_b6d6_11e9_9c31_e86a645f3aecrow9_col16\" class=\"data row9 col16\" >0.12</td>\n",
       "                        <td id=\"T_9b103bd8_b6d6_11e9_9c31_e86a645f3aecrow9_col17\" class=\"data row9 col17\" >0.24</td>\n",
       "            </tr>\n",
       "            <tr>\n",
       "                        <th id=\"T_9b103bd8_b6d6_11e9_9c31_e86a645f3aeclevel0_row10\" class=\"row_heading level0 row10\" >total_acc</th>\n",
       "                        <td id=\"T_9b103bd8_b6d6_11e9_9c31_e86a645f3aecrow10_col0\" class=\"data row10 col0\" >0.28</td>\n",
       "                        <td id=\"T_9b103bd8_b6d6_11e9_9c31_e86a645f3aecrow10_col1\" class=\"data row10 col1\" >0.28</td>\n",
       "                        <td id=\"T_9b103bd8_b6d6_11e9_9c31_e86a645f3aecrow10_col2\" class=\"data row10 col2\" >0.25</td>\n",
       "                        <td id=\"T_9b103bd8_b6d6_11e9_9c31_e86a645f3aecrow10_col3\" class=\"data row10 col3\" >0.25</td>\n",
       "                        <td id=\"T_9b103bd8_b6d6_11e9_9c31_e86a645f3aecrow10_col4\" class=\"data row10 col4\" >0.29</td>\n",
       "                        <td id=\"T_9b103bd8_b6d6_11e9_9c31_e86a645f3aecrow10_col5\" class=\"data row10 col5\" >0.27</td>\n",
       "                        <td id=\"T_9b103bd8_b6d6_11e9_9c31_e86a645f3aecrow10_col6\" class=\"data row10 col6\" >0.1</td>\n",
       "                        <td id=\"T_9b103bd8_b6d6_11e9_9c31_e86a645f3aecrow10_col7\" class=\"data row10 col7\" >0.69</td>\n",
       "                        <td id=\"T_9b103bd8_b6d6_11e9_9c31_e86a645f3aecrow10_col8\" class=\"data row10 col8\" >0.016</td>\n",
       "                        <td id=\"T_9b103bd8_b6d6_11e9_9c31_e86a645f3aecrow10_col9\" class=\"data row10 col9\" >0.36</td>\n",
       "                        <td id=\"T_9b103bd8_b6d6_11e9_9c31_e86a645f3aecrow10_col10\" class=\"data row10 col10\" >1</td>\n",
       "                        <td id=\"T_9b103bd8_b6d6_11e9_9c31_e86a645f3aecrow10_col11\" class=\"data row10 col11\" >0.18</td>\n",
       "                        <td id=\"T_9b103bd8_b6d6_11e9_9c31_e86a645f3aecrow10_col12\" class=\"data row10 col12\" >0.17</td>\n",
       "                        <td id=\"T_9b103bd8_b6d6_11e9_9c31_e86a645f3aecrow10_col13\" class=\"data row10 col13\" >0.15</td>\n",
       "                        <td id=\"T_9b103bd8_b6d6_11e9_9c31_e86a645f3aecrow10_col14\" class=\"data row10 col14\" >0.18</td>\n",
       "                        <td id=\"T_9b103bd8_b6d6_11e9_9c31_e86a645f3aecrow10_col15\" class=\"data row10 col15\" >0.088</td>\n",
       "                        <td id=\"T_9b103bd8_b6d6_11e9_9c31_e86a645f3aecrow10_col16\" class=\"data row10 col16\" >0.089</td>\n",
       "                        <td id=\"T_9b103bd8_b6d6_11e9_9c31_e86a645f3aecrow10_col17\" class=\"data row10 col17\" >0.24</td>\n",
       "            </tr>\n",
       "            <tr>\n",
       "                        <th id=\"T_9b103bd8_b6d6_11e9_9c31_e86a645f3aeclevel0_row11\" class=\"row_heading level0 row11\" >total_pymnt</th>\n",
       "                        <td id=\"T_9b103bd8_b6d6_11e9_9c31_e86a645f3aecrow11_col0\" class=\"data row11 col0\" >0.68</td>\n",
       "                        <td id=\"T_9b103bd8_b6d6_11e9_9c31_e86a645f3aecrow11_col1\" class=\"data row11 col1\" >0.7</td>\n",
       "                        <td id=\"T_9b103bd8_b6d6_11e9_9c31_e86a645f3aecrow11_col2\" class=\"data row11 col2\" >0.69</td>\n",
       "                        <td id=\"T_9b103bd8_b6d6_11e9_9c31_e86a645f3aecrow11_col3\" class=\"data row11 col3\" >0.67</td>\n",
       "                        <td id=\"T_9b103bd8_b6d6_11e9_9c31_e86a645f3aecrow11_col4\" class=\"data row11 col4\" >0.28</td>\n",
       "                        <td id=\"T_9b103bd8_b6d6_11e9_9c31_e86a645f3aecrow11_col5\" class=\"data row11 col5\" >0.043</td>\n",
       "                        <td id=\"T_9b103bd8_b6d6_11e9_9c31_e86a645f3aecrow11_col6\" class=\"data row11 col6\" >-0.045</td>\n",
       "                        <td id=\"T_9b103bd8_b6d6_11e9_9c31_e86a645f3aecrow11_col7\" class=\"data row11 col7\" >0.12</td>\n",
       "                        <td id=\"T_9b103bd8_b6d6_11e9_9c31_e86a645f3aecrow11_col8\" class=\"data row11 col8\" >-0.042</td>\n",
       "                        <td id=\"T_9b103bd8_b6d6_11e9_9c31_e86a645f3aecrow11_col9\" class=\"data row11 col9\" >0.23</td>\n",
       "                        <td id=\"T_9b103bd8_b6d6_11e9_9c31_e86a645f3aecrow11_col10\" class=\"data row11 col10\" >0.18</td>\n",
       "                        <td id=\"T_9b103bd8_b6d6_11e9_9c31_e86a645f3aecrow11_col11\" class=\"data row11 col11\" >1</td>\n",
       "                        <td id=\"T_9b103bd8_b6d6_11e9_9c31_e86a645f3aecrow11_col12\" class=\"data row11 col12\" >0.97</td>\n",
       "                        <td id=\"T_9b103bd8_b6d6_11e9_9c31_e86a645f3aecrow11_col13\" class=\"data row11 col13\" >0.91</td>\n",
       "                        <td id=\"T_9b103bd8_b6d6_11e9_9c31_e86a645f3aecrow11_col14\" class=\"data row11 col14\" >0.9</td>\n",
       "                        <td id=\"T_9b103bd8_b6d6_11e9_9c31_e86a645f3aecrow11_col15\" class=\"data row11 col15\" >0.41</td>\n",
       "                        <td id=\"T_9b103bd8_b6d6_11e9_9c31_e86a645f3aecrow11_col16\" class=\"data row11 col16\" >0.26</td>\n",
       "                        <td id=\"T_9b103bd8_b6d6_11e9_9c31_e86a645f3aecrow11_col17\" class=\"data row11 col17\" >0.28</td>\n",
       "            </tr>\n",
       "            <tr>\n",
       "                        <th id=\"T_9b103bd8_b6d6_11e9_9c31_e86a645f3aeclevel0_row12\" class=\"row_heading level0 row12\" >total_pymnt_inv</th>\n",
       "                        <td id=\"T_9b103bd8_b6d6_11e9_9c31_e86a645f3aecrow12_col0\" class=\"data row12 col0\" >0.64</td>\n",
       "                        <td id=\"T_9b103bd8_b6d6_11e9_9c31_e86a645f3aecrow12_col1\" class=\"data row12 col1\" >0.66</td>\n",
       "                        <td id=\"T_9b103bd8_b6d6_11e9_9c31_e86a645f3aecrow12_col2\" class=\"data row12 col2\" >0.73</td>\n",
       "                        <td id=\"T_9b103bd8_b6d6_11e9_9c31_e86a645f3aecrow12_col3\" class=\"data row12 col3\" >0.62</td>\n",
       "                        <td id=\"T_9b103bd8_b6d6_11e9_9c31_e86a645f3aecrow12_col4\" class=\"data row12 col4\" >0.26</td>\n",
       "                        <td id=\"T_9b103bd8_b6d6_11e9_9c31_e86a645f3aecrow12_col5\" class=\"data row12 col5\" >0.049</td>\n",
       "                        <td id=\"T_9b103bd8_b6d6_11e9_9c31_e86a645f3aecrow12_col6\" class=\"data row12 col6\" >-0.057</td>\n",
       "                        <td id=\"T_9b103bd8_b6d6_11e9_9c31_e86a645f3aecrow12_col7\" class=\"data row12 col7\" >0.11</td>\n",
       "                        <td id=\"T_9b103bd8_b6d6_11e9_9c31_e86a645f3aecrow12_col8\" class=\"data row12 col8\" >-0.043</td>\n",
       "                        <td id=\"T_9b103bd8_b6d6_11e9_9c31_e86a645f3aecrow12_col9\" class=\"data row12 col9\" >0.2</td>\n",
       "                        <td id=\"T_9b103bd8_b6d6_11e9_9c31_e86a645f3aecrow12_col10\" class=\"data row12 col10\" >0.17</td>\n",
       "                        <td id=\"T_9b103bd8_b6d6_11e9_9c31_e86a645f3aecrow12_col11\" class=\"data row12 col11\" >0.97</td>\n",
       "                        <td id=\"T_9b103bd8_b6d6_11e9_9c31_e86a645f3aecrow12_col12\" class=\"data row12 col12\" >1</td>\n",
       "                        <td id=\"T_9b103bd8_b6d6_11e9_9c31_e86a645f3aecrow12_col13\" class=\"data row12 col13\" >0.88</td>\n",
       "                        <td id=\"T_9b103bd8_b6d6_11e9_9c31_e86a645f3aecrow12_col14\" class=\"data row12 col14\" >0.89</td>\n",
       "                        <td id=\"T_9b103bd8_b6d6_11e9_9c31_e86a645f3aecrow12_col15\" class=\"data row12 col15\" >0.38</td>\n",
       "                        <td id=\"T_9b103bd8_b6d6_11e9_9c31_e86a645f3aecrow12_col16\" class=\"data row12 col16\" >0.23</td>\n",
       "                        <td id=\"T_9b103bd8_b6d6_11e9_9c31_e86a645f3aecrow12_col17\" class=\"data row12 col17\" >0.26</td>\n",
       "            </tr>\n",
       "            <tr>\n",
       "                        <th id=\"T_9b103bd8_b6d6_11e9_9c31_e86a645f3aeclevel0_row13\" class=\"row_heading level0 row13\" >total_rec_prncp</th>\n",
       "                        <td id=\"T_9b103bd8_b6d6_11e9_9c31_e86a645f3aecrow13_col0\" class=\"data row13 col0\" >0.55</td>\n",
       "                        <td id=\"T_9b103bd8_b6d6_11e9_9c31_e86a645f3aecrow13_col1\" class=\"data row13 col1\" >0.57</td>\n",
       "                        <td id=\"T_9b103bd8_b6d6_11e9_9c31_e86a645f3aecrow13_col2\" class=\"data row13 col2\" >0.55</td>\n",
       "                        <td id=\"T_9b103bd8_b6d6_11e9_9c31_e86a645f3aecrow13_col3\" class=\"data row13 col3\" >0.58</td>\n",
       "                        <td id=\"T_9b103bd8_b6d6_11e9_9c31_e86a645f3aecrow13_col4\" class=\"data row13 col4\" >0.24</td>\n",
       "                        <td id=\"T_9b103bd8_b6d6_11e9_9c31_e86a645f3aecrow13_col5\" class=\"data row13 col5\" >0.015</td>\n",
       "                        <td id=\"T_9b103bd8_b6d6_11e9_9c31_e86a645f3aecrow13_col6\" class=\"data row13 col6\" >-0.054</td>\n",
       "                        <td id=\"T_9b103bd8_b6d6_11e9_9c31_e86a645f3aecrow13_col7\" class=\"data row13 col7\" >0.1</td>\n",
       "                        <td id=\"T_9b103bd8_b6d6_11e9_9c31_e86a645f3aecrow13_col8\" class=\"data row13 col8\" >-0.034</td>\n",
       "                        <td id=\"T_9b103bd8_b6d6_11e9_9c31_e86a645f3aecrow13_col9\" class=\"data row13 col9\" >0.19</td>\n",
       "                        <td id=\"T_9b103bd8_b6d6_11e9_9c31_e86a645f3aecrow13_col10\" class=\"data row13 col10\" >0.15</td>\n",
       "                        <td id=\"T_9b103bd8_b6d6_11e9_9c31_e86a645f3aecrow13_col11\" class=\"data row13 col11\" >0.91</td>\n",
       "                        <td id=\"T_9b103bd8_b6d6_11e9_9c31_e86a645f3aecrow13_col12\" class=\"data row13 col12\" >0.88</td>\n",
       "                        <td id=\"T_9b103bd8_b6d6_11e9_9c31_e86a645f3aecrow13_col13\" class=\"data row13 col13\" >1</td>\n",
       "                        <td id=\"T_9b103bd8_b6d6_11e9_9c31_e86a645f3aecrow13_col14\" class=\"data row13 col14\" >0.75</td>\n",
       "                        <td id=\"T_9b103bd8_b6d6_11e9_9c31_e86a645f3aecrow13_col15\" class=\"data row13 col15\" >0.097</td>\n",
       "                        <td id=\"T_9b103bd8_b6d6_11e9_9c31_e86a645f3aecrow13_col16\" class=\"data row13 col16\" >0.28</td>\n",
       "                        <td id=\"T_9b103bd8_b6d6_11e9_9c31_e86a645f3aecrow13_col17\" class=\"data row13 col17\" >0.072</td>\n",
       "            </tr>\n",
       "            <tr>\n",
       "                        <th id=\"T_9b103bd8_b6d6_11e9_9c31_e86a645f3aeclevel0_row14\" class=\"row_heading level0 row14\" >total_rec_int</th>\n",
       "                        <td id=\"T_9b103bd8_b6d6_11e9_9c31_e86a645f3aecrow14_col0\" class=\"data row14 col0\" >0.7</td>\n",
       "                        <td id=\"T_9b103bd8_b6d6_11e9_9c31_e86a645f3aecrow14_col1\" class=\"data row14 col1\" >0.71</td>\n",
       "                        <td id=\"T_9b103bd8_b6d6_11e9_9c31_e86a645f3aecrow14_col2\" class=\"data row14 col2\" >0.72</td>\n",
       "                        <td id=\"T_9b103bd8_b6d6_11e9_9c31_e86a645f3aecrow14_col3\" class=\"data row14 col3\" >0.63</td>\n",
       "                        <td id=\"T_9b103bd8_b6d6_11e9_9c31_e86a645f3aecrow14_col4\" class=\"data row14 col4\" >0.26</td>\n",
       "                        <td id=\"T_9b103bd8_b6d6_11e9_9c31_e86a645f3aecrow14_col5\" class=\"data row14 col5\" >0.069</td>\n",
       "                        <td id=\"T_9b103bd8_b6d6_11e9_9c31_e86a645f3aecrow14_col6\" class=\"data row14 col6\" >-0.024</td>\n",
       "                        <td id=\"T_9b103bd8_b6d6_11e9_9c31_e86a645f3aecrow14_col7\" class=\"data row14 col7\" >0.12</td>\n",
       "                        <td id=\"T_9b103bd8_b6d6_11e9_9c31_e86a645f3aecrow14_col8\" class=\"data row14 col8\" >-0.019</td>\n",
       "                        <td id=\"T_9b103bd8_b6d6_11e9_9c31_e86a645f3aecrow14_col9\" class=\"data row14 col9\" >0.22</td>\n",
       "                        <td id=\"T_9b103bd8_b6d6_11e9_9c31_e86a645f3aecrow14_col10\" class=\"data row14 col10\" >0.18</td>\n",
       "                        <td id=\"T_9b103bd8_b6d6_11e9_9c31_e86a645f3aecrow14_col11\" class=\"data row14 col11\" >0.9</td>\n",
       "                        <td id=\"T_9b103bd8_b6d6_11e9_9c31_e86a645f3aecrow14_col12\" class=\"data row14 col12\" >0.89</td>\n",
       "                        <td id=\"T_9b103bd8_b6d6_11e9_9c31_e86a645f3aecrow14_col13\" class=\"data row14 col13\" >0.75</td>\n",
       "                        <td id=\"T_9b103bd8_b6d6_11e9_9c31_e86a645f3aecrow14_col14\" class=\"data row14 col14\" >1</td>\n",
       "                        <td id=\"T_9b103bd8_b6d6_11e9_9c31_e86a645f3aecrow14_col15\" class=\"data row14 col15\" >0.23</td>\n",
       "                        <td id=\"T_9b103bd8_b6d6_11e9_9c31_e86a645f3aecrow14_col16\" class=\"data row14 col16\" >0.2</td>\n",
       "                        <td id=\"T_9b103bd8_b6d6_11e9_9c31_e86a645f3aecrow14_col17\" class=\"data row14 col17\" >0.4</td>\n",
       "            </tr>\n",
       "            <tr>\n",
       "                        <th id=\"T_9b103bd8_b6d6_11e9_9c31_e86a645f3aeclevel0_row15\" class=\"row_heading level0 row15\" >recoveries</th>\n",
       "                        <td id=\"T_9b103bd8_b6d6_11e9_9c31_e86a645f3aecrow15_col0\" class=\"data row15 col0\" >0.31</td>\n",
       "                        <td id=\"T_9b103bd8_b6d6_11e9_9c31_e86a645f3aecrow15_col1\" class=\"data row15 col1\" >0.32</td>\n",
       "                        <td id=\"T_9b103bd8_b6d6_11e9_9c31_e86a645f3aecrow15_col2\" class=\"data row15 col2\" >0.3</td>\n",
       "                        <td id=\"T_9b103bd8_b6d6_11e9_9c31_e86a645f3aecrow15_col3\" class=\"data row15 col3\" >0.3</td>\n",
       "                        <td id=\"T_9b103bd8_b6d6_11e9_9c31_e86a645f3aecrow15_col4\" class=\"data row15 col4\" >0.13</td>\n",
       "                        <td id=\"T_9b103bd8_b6d6_11e9_9c31_e86a645f3aecrow15_col5\" class=\"data row15 col5\" >0.031</td>\n",
       "                        <td id=\"T_9b103bd8_b6d6_11e9_9c31_e86a645f3aecrow15_col6\" class=\"data row15 col6\" >-0.014</td>\n",
       "                        <td id=\"T_9b103bd8_b6d6_11e9_9c31_e86a645f3aecrow15_col7\" class=\"data row15 col7\" >0.055</td>\n",
       "                        <td id=\"T_9b103bd8_b6d6_11e9_9c31_e86a645f3aecrow15_col8\" class=\"data row15 col8\" >-0.054</td>\n",
       "                        <td id=\"T_9b103bd8_b6d6_11e9_9c31_e86a645f3aecrow15_col9\" class=\"data row15 col9\" >0.12</td>\n",
       "                        <td id=\"T_9b103bd8_b6d6_11e9_9c31_e86a645f3aecrow15_col10\" class=\"data row15 col10\" >0.088</td>\n",
       "                        <td id=\"T_9b103bd8_b6d6_11e9_9c31_e86a645f3aecrow15_col11\" class=\"data row15 col11\" >0.41</td>\n",
       "                        <td id=\"T_9b103bd8_b6d6_11e9_9c31_e86a645f3aecrow15_col12\" class=\"data row15 col12\" >0.38</td>\n",
       "                        <td id=\"T_9b103bd8_b6d6_11e9_9c31_e86a645f3aecrow15_col13\" class=\"data row15 col13\" >0.097</td>\n",
       "                        <td id=\"T_9b103bd8_b6d6_11e9_9c31_e86a645f3aecrow15_col14\" class=\"data row15 col14\" >0.23</td>\n",
       "                        <td id=\"T_9b103bd8_b6d6_11e9_9c31_e86a645f3aecrow15_col15\" class=\"data row15 col15\" >1</td>\n",
       "                        <td id=\"T_9b103bd8_b6d6_11e9_9c31_e86a645f3aecrow15_col16\" class=\"data row15 col16\" >0.076</td>\n",
       "                        <td id=\"T_9b103bd8_b6d6_11e9_9c31_e86a645f3aecrow15_col17\" class=\"data row15 col17\" >0.32</td>\n",
       "            </tr>\n",
       "            <tr>\n",
       "                        <th id=\"T_9b103bd8_b6d6_11e9_9c31_e86a645f3aeclevel0_row16\" class=\"row_heading level0 row16\" >last_pymnt_amnt</th>\n",
       "                        <td id=\"T_9b103bd8_b6d6_11e9_9c31_e86a645f3aecrow16_col0\" class=\"data row16 col0\" >0.33</td>\n",
       "                        <td id=\"T_9b103bd8_b6d6_11e9_9c31_e86a645f3aecrow16_col1\" class=\"data row16 col1\" >0.34</td>\n",
       "                        <td id=\"T_9b103bd8_b6d6_11e9_9c31_e86a645f3aecrow16_col2\" class=\"data row16 col2\" >0.29</td>\n",
       "                        <td id=\"T_9b103bd8_b6d6_11e9_9c31_e86a645f3aecrow16_col3\" class=\"data row16 col3\" >0.35</td>\n",
       "                        <td id=\"T_9b103bd8_b6d6_11e9_9c31_e86a645f3aecrow16_col4\" class=\"data row16 col4\" >0.13</td>\n",
       "                        <td id=\"T_9b103bd8_b6d6_11e9_9c31_e86a645f3aecrow16_col5\" class=\"data row16 col5\" >0.00037</td>\n",
       "                        <td id=\"T_9b103bd8_b6d6_11e9_9c31_e86a645f3aecrow16_col6\" class=\"data row16 col6\" >0.0097</td>\n",
       "                        <td id=\"T_9b103bd8_b6d6_11e9_9c31_e86a645f3aecrow16_col7\" class=\"data row16 col7\" >0.057</td>\n",
       "                        <td id=\"T_9b103bd8_b6d6_11e9_9c31_e86a645f3aecrow16_col8\" class=\"data row16 col8\" >-0.024</td>\n",
       "                        <td id=\"T_9b103bd8_b6d6_11e9_9c31_e86a645f3aecrow16_col9\" class=\"data row16 col9\" >0.12</td>\n",
       "                        <td id=\"T_9b103bd8_b6d6_11e9_9c31_e86a645f3aecrow16_col10\" class=\"data row16 col10\" >0.089</td>\n",
       "                        <td id=\"T_9b103bd8_b6d6_11e9_9c31_e86a645f3aecrow16_col11\" class=\"data row16 col11\" >0.26</td>\n",
       "                        <td id=\"T_9b103bd8_b6d6_11e9_9c31_e86a645f3aecrow16_col12\" class=\"data row16 col12\" >0.23</td>\n",
       "                        <td id=\"T_9b103bd8_b6d6_11e9_9c31_e86a645f3aecrow16_col13\" class=\"data row16 col13\" >0.28</td>\n",
       "                        <td id=\"T_9b103bd8_b6d6_11e9_9c31_e86a645f3aecrow16_col14\" class=\"data row16 col14\" >0.2</td>\n",
       "                        <td id=\"T_9b103bd8_b6d6_11e9_9c31_e86a645f3aecrow16_col15\" class=\"data row16 col15\" >0.076</td>\n",
       "                        <td id=\"T_9b103bd8_b6d6_11e9_9c31_e86a645f3aecrow16_col16\" class=\"data row16 col16\" >1</td>\n",
       "                        <td id=\"T_9b103bd8_b6d6_11e9_9c31_e86a645f3aecrow16_col17\" class=\"data row16 col17\" >0.24</td>\n",
       "            </tr>\n",
       "            <tr>\n",
       "                        <th id=\"T_9b103bd8_b6d6_11e9_9c31_e86a645f3aeclevel0_row17\" class=\"row_heading level0 row17\" >credit_lose</th>\n",
       "                        <td id=\"T_9b103bd8_b6d6_11e9_9c31_e86a645f3aecrow17_col0\" class=\"data row17 col0\" >0.85</td>\n",
       "                        <td id=\"T_9b103bd8_b6d6_11e9_9c31_e86a645f3aecrow17_col1\" class=\"data row17 col1\" >0.86</td>\n",
       "                        <td id=\"T_9b103bd8_b6d6_11e9_9c31_e86a645f3aecrow17_col2\" class=\"data row17 col2\" >0.78</td>\n",
       "                        <td id=\"T_9b103bd8_b6d6_11e9_9c31_e86a645f3aecrow17_col3\" class=\"data row17 col3\" >0.8</td>\n",
       "                        <td id=\"T_9b103bd8_b6d6_11e9_9c31_e86a645f3aecrow17_col4\" class=\"data row17 col4\" >0.27</td>\n",
       "                        <td id=\"T_9b103bd8_b6d6_11e9_9c31_e86a645f3aecrow17_col5\" class=\"data row17 col5\" >0.065</td>\n",
       "                        <td id=\"T_9b103bd8_b6d6_11e9_9c31_e86a645f3aecrow17_col6\" class=\"data row17 col6\" >0.043</td>\n",
       "                        <td id=\"T_9b103bd8_b6d6_11e9_9c31_e86a645f3aecrow17_col7\" class=\"data row17 col7\" >0.16</td>\n",
       "                        <td id=\"T_9b103bd8_b6d6_11e9_9c31_e86a645f3aecrow17_col8\" class=\"data row17 col8\" >-0.043</td>\n",
       "                        <td id=\"T_9b103bd8_b6d6_11e9_9c31_e86a645f3aecrow17_col9\" class=\"data row17 col9\" >0.24</td>\n",
       "                        <td id=\"T_9b103bd8_b6d6_11e9_9c31_e86a645f3aecrow17_col10\" class=\"data row17 col10\" >0.24</td>\n",
       "                        <td id=\"T_9b103bd8_b6d6_11e9_9c31_e86a645f3aecrow17_col11\" class=\"data row17 col11\" >0.28</td>\n",
       "                        <td id=\"T_9b103bd8_b6d6_11e9_9c31_e86a645f3aecrow17_col12\" class=\"data row17 col12\" >0.26</td>\n",
       "                        <td id=\"T_9b103bd8_b6d6_11e9_9c31_e86a645f3aecrow17_col13\" class=\"data row17 col13\" >0.072</td>\n",
       "                        <td id=\"T_9b103bd8_b6d6_11e9_9c31_e86a645f3aecrow17_col14\" class=\"data row17 col14\" >0.4</td>\n",
       "                        <td id=\"T_9b103bd8_b6d6_11e9_9c31_e86a645f3aecrow17_col15\" class=\"data row17 col15\" >0.32</td>\n",
       "                        <td id=\"T_9b103bd8_b6d6_11e9_9c31_e86a645f3aecrow17_col16\" class=\"data row17 col16\" >0.24</td>\n",
       "                        <td id=\"T_9b103bd8_b6d6_11e9_9c31_e86a645f3aecrow17_col17\" class=\"data row17 col17\" >1</td>\n",
       "            </tr>\n",
       "    </tbody></table>"
      ],
      "text/plain": [
       "<pandas.io.formats.style.Styler at 0x24b3beee128>"
      ]
     },
     "execution_count": 913,
     "metadata": {},
     "output_type": "execute_result"
    }
   ],
   "source": [
    "cmap = cmap=sns.diverging_palette(5, 250, as_cmap=True)\n",
    "\n",
    "def magnify():\n",
    "    return [dict(selector=\"th\",\n",
    "                 props=[(\"font-size\", \"7pt\")]),\n",
    "            dict(selector=\"td\",\n",
    "                 props=[('padding', \"0em 0em\")]),\n",
    "            dict(selector=\"th:hover\",\n",
    "                 props=[(\"font-size\", \"12pt\")]),\n",
    "            dict(selector=\"tr:hover td:hover\",\n",
    "                 props=[('max-width', '200px'),\n",
    "                        ('font-size', '12pt')])\n",
    "]\n",
    "\n",
    "corr.style.background_gradient(cmap, axis=1)\\\n",
    "    .set_properties(**{'max-width': '80px', 'font-size': '10pt'})\\\n",
    "    .set_caption(\"Correlation Matrix for Numeric Features\")\\\n",
    "    .set_precision(2)\\\n",
    "    .set_table_styles(magnify())"
   ]
  },
  {
   "cell_type": "markdown",
   "metadata": {},
   "source": [
    "### Analysis on Charged off Customer Attributes  "
   ]
  },
  {
   "cell_type": "markdown",
   "metadata": {},
   "source": [
    "Columns showing to customer Attributes or characteristics   "
   ]
  },
  {
   "cell_type": "markdown",
   "metadata": {},
   "source": [
    "The main numeric features are : `annual_inc`, `dti` , `inq_last_6mths` , `open_acc`, `pub_rec`, `revol_bal`, `total_acc`, `recoveries`"
   ]
  },
  {
   "cell_type": "markdown",
   "metadata": {},
   "source": [
    "### Loan repayment trend of a Charged OFF customer "
   ]
  },
  {
   "cell_type": "markdown",
   "metadata": {},
   "source": [
    "<b>The total payed amount is less when DTI is high, ie customer with high DTI tend to pay back less amount </b>"
   ]
  },
  {
   "cell_type": "code",
   "execution_count": 914,
   "metadata": {
    "scrolled": true
   },
   "outputs": [
    {
     "data": {
      "text/plain": [
       "0.043359611296065664"
      ]
     },
     "execution_count": 914,
     "metadata": {},
     "output_type": "execute_result"
    }
   ],
   "source": [
    "numeric_data['total_pymnt'].corr(numeric_data['dti'])"
   ]
  },
  {
   "cell_type": "code",
   "execution_count": 915,
   "metadata": {},
   "outputs": [
    {
     "name": "stderr",
     "output_type": "stream",
     "text": [
      "'c' argument looks like a single numeric RGB or RGBA sequence, which should be avoided as value-mapping will have precedence in case its length matches with 'x' & 'y'.  Please use a 2-D array with a single row if you really want to specify the same RGB or RGBA value for all points.\n"
     ]
    },
    {
     "data": {
      "text/plain": [
       "<matplotlib.axes._subplots.AxesSubplot at 0x24b5230cc88>"
      ]
     },
     "execution_count": 915,
     "metadata": {},
     "output_type": "execute_result"
    },
    {
     "data": {
      "image/png": "[encoded data removed]",
      "text/plain": [
       "<Figure size 432x288 with 1 Axes>"
      ]
     },
     "metadata": {},
     "output_type": "display_data"
    }
   ],
   "source": [
    "numeric_data.plot(kind='scatter',y='total_pymnt', x='dti')"
   ]
  },
  {
   "cell_type": "markdown",
   "metadata": {},
   "source": [
    "<b>The total payed amount is less when inquiry on credit score is high, ie customer with high inquiry on credit score tend to pay back less amount ie credit loss will be high. </b>"
   ]
  },
  {
   "cell_type": "code",
   "execution_count": 916,
   "metadata": {
    "scrolled": true
   },
   "outputs": [
    {
     "data": {
      "text/plain": [
       "-0.04520170408216005"
      ]
     },
     "execution_count": 916,
     "metadata": {},
     "output_type": "execute_result"
    }
   ],
   "source": [
    "numeric_data['total_pymnt'].corr(numeric_data['inq_last_6mths'])"
   ]
  },
  {
   "cell_type": "code",
   "execution_count": 917,
   "metadata": {},
   "outputs": [
    {
     "name": "stderr",
     "output_type": "stream",
     "text": [
      "'c' argument looks like a single numeric RGB or RGBA sequence, which should be avoided as value-mapping will have precedence in case its length matches with 'x' & 'y'.  Please use a 2-D array with a single row if you really want to specify the same RGB or RGBA value for all points.\n"
     ]
    },
    {
     "data": {
      "text/plain": [
       "<matplotlib.axes._subplots.AxesSubplot at 0x24b5242c860>"
      ]
     },
     "execution_count": 917,
     "metadata": {},
     "output_type": "execute_result"
    },
    {
     "data": {
      "image/png": "[encoded data removed]",
      "text/plain": [
       "<Figure size 432x288 with 1 Axes>"
      ]
     },
     "metadata": {},
     "output_type": "display_data"
    }
   ],
   "source": [
    "numeric_data.plot(kind='scatter',y='total_pymnt', x='inq_last_6mths')"
   ]
  },
  {
   "cell_type": "markdown",
   "metadata": {},
   "source": [
    "<b>The total amount payed by customer with high credit line and having high credit line present tend to pay back less amount,ie credit loss will be high.  </b>"
   ]
  },
  {
   "cell_type": "code",
   "execution_count": 918,
   "metadata": {
    "scrolled": true
   },
   "outputs": [
    {
     "data": {
      "text/plain": [
       "0.12453154108919844"
      ]
     },
     "execution_count": 918,
     "metadata": {},
     "output_type": "execute_result"
    }
   ],
   "source": [
    "numeric_data['total_pymnt'].corr(numeric_data['open_acc'])"
   ]
  },
  {
   "cell_type": "code",
   "execution_count": 919,
   "metadata": {},
   "outputs": [
    {
     "name": "stderr",
     "output_type": "stream",
     "text": [
      "'c' argument looks like a single numeric RGB or RGBA sequence, which should be avoided as value-mapping will have precedence in case its length matches with 'x' & 'y'.  Please use a 2-D array with a single row if you really want to specify the same RGB or RGBA value for all points.\n"
     ]
    },
    {
     "data": {
      "text/plain": [
       "<matplotlib.axes._subplots.AxesSubplot at 0x24b523e79e8>"
      ]
     },
     "execution_count": 919,
     "metadata": {},
     "output_type": "execute_result"
    },
    {
     "data": {
      "image/png": "[encoded data removed]",
      "text/plain": [
       "<Figure size 432x288 with 1 Axes>"
      ]
     },
     "metadata": {},
     "output_type": "display_data"
    }
   ],
   "source": [
    "numeric_data.plot(kind='scatter',y='total_pymnt', x='open_acc')"
   ]
  },
  {
   "cell_type": "code",
   "execution_count": 920,
   "metadata": {},
   "outputs": [
    {
     "data": {
      "text/plain": [
       "0.18043890575777274"
      ]
     },
     "execution_count": 920,
     "metadata": {},
     "output_type": "execute_result"
    }
   ],
   "source": [
    "numeric_data['total_pymnt'].corr(numeric_data['total_acc'])"
   ]
  },
  {
   "cell_type": "code",
   "execution_count": 921,
   "metadata": {},
   "outputs": [
    {
     "name": "stderr",
     "output_type": "stream",
     "text": [
      "'c' argument looks like a single numeric RGB or RGBA sequence, which should be avoided as value-mapping will have precedence in case its length matches with 'x' & 'y'.  Please use a 2-D array with a single row if you really want to specify the same RGB or RGBA value for all points.\n"
     ]
    },
    {
     "data": {
      "text/plain": [
       "<matplotlib.axes._subplots.AxesSubplot at 0x24b524f2518>"
      ]
     },
     "execution_count": 921,
     "metadata": {},
     "output_type": "execute_result"
    },
    {
     "data": {
      "image/png": "[encoded data removed]",
      "text/plain": [
       "<Figure size 432x288 with 1 Axes>"
      ]
     },
     "metadata": {},
     "output_type": "display_data"
    }
   ],
   "source": [
    "numeric_data.plot(kind='scatter',y='total_pymnt', x='total_acc')"
   ]
  },
  {
   "cell_type": "markdown",
   "metadata": {},
   "source": [
    "<b>The total amount payed by customer with known derogatory public records tend to payback less amount ie credit loss will be high. </b>"
   ]
  },
  {
   "cell_type": "code",
   "execution_count": 922,
   "metadata": {
    "scrolled": true
   },
   "outputs": [
    {
     "data": {
      "text/plain": [
       "-0.041790580814540575"
      ]
     },
     "execution_count": 922,
     "metadata": {},
     "output_type": "execute_result"
    }
   ],
   "source": [
    "numeric_data['total_pymnt'].corr(numeric_data['pub_rec'])"
   ]
  },
  {
   "cell_type": "code",
   "execution_count": 923,
   "metadata": {},
   "outputs": [
    {
     "name": "stderr",
     "output_type": "stream",
     "text": [
      "'c' argument looks like a single numeric RGB or RGBA sequence, which should be avoided as value-mapping will have precedence in case its length matches with 'x' & 'y'.  Please use a 2-D array with a single row if you really want to specify the same RGB or RGBA value for all points.\n"
     ]
    },
    {
     "data": {
      "text/plain": [
       "<matplotlib.axes._subplots.AxesSubplot at 0x24b524f2b00>"
      ]
     },
     "execution_count": 923,
     "metadata": {},
     "output_type": "execute_result"
    },
    {
     "data": {
      "image/png": "[encoded data removed]",
      "text/plain": [
       "<Figure size 432x288 with 1 Axes>"
      ]
     },
     "metadata": {},
     "output_type": "display_data"
    }
   ],
   "source": [
    "numeric_data.plot(kind='scatter',y='total_pymnt', x='pub_rec')"
   ]
  },
  {
   "cell_type": "markdown",
   "metadata": {},
   "source": [
    "<b>The total amount payed by customer with high revolving balance  tend to payback less amount ie credit loss will be high. </b>"
   ]
  },
  {
   "cell_type": "code",
   "execution_count": 924,
   "metadata": {
    "scrolled": true
   },
   "outputs": [
    {
     "data": {
      "text/plain": [
       "0.2274247664617954"
      ]
     },
     "execution_count": 924,
     "metadata": {},
     "output_type": "execute_result"
    }
   ],
   "source": [
    "numeric_data['total_pymnt'].corr(numeric_data['revol_bal'])"
   ]
  },
  {
   "cell_type": "code",
   "execution_count": 925,
   "metadata": {},
   "outputs": [
    {
     "name": "stderr",
     "output_type": "stream",
     "text": [
      "'c' argument looks like a single numeric RGB or RGBA sequence, which should be avoided as value-mapping will have precedence in case its length matches with 'x' & 'y'.  Please use a 2-D array with a single row if you really want to specify the same RGB or RGBA value for all points.\n"
     ]
    },
    {
     "data": {
      "text/plain": [
       "<matplotlib.axes._subplots.AxesSubplot at 0x24b5271a2b0>"
      ]
     },
     "execution_count": 925,
     "metadata": {},
     "output_type": "execute_result"
    },
    {
     "data": {
      "image/png": "[encoded data removed]",
      "text/plain": [
       "<Figure size 432x288 with 1 Axes>"
      ]
     },
     "metadata": {},
     "output_type": "display_data"
    }
   ],
   "source": [
    "numeric_data.plot(kind='scatter',y='total_pymnt', x='revol_bal')"
   ]
  },
  {
   "cell_type": "markdown",
   "metadata": {},
   "source": [
    "## Anaylsis on categorical_data for Charged off customer"
   ]
  },
  {
   "cell_type": "markdown",
   "metadata": {},
   "source": [
    "#### Data cleaning in categorcal features "
   ]
  },
  {
   "cell_type": "code",
   "execution_count": 950,
   "metadata": {
    "scrolled": false
   },
   "outputs": [
    {
     "data": {
      "text/html": [
       "<div>\n",
       "<style scoped>\n",
       "    .dataframe tbody tr th:only-of-type {\n",
       "        vertical-align: middle;\n",
       "    }\n",
       "\n",
       "    .dataframe tbody tr th {\n",
       "        vertical-align: top;\n",
       "    }\n",
       "\n",
       "    .dataframe thead th {\n",
       "        text-align: right;\n",
       "    }\n",
       "</style>\n",
       "<table border=\"1\" class=\"dataframe\">\n",
       "  <thead>\n",
       "    <tr style=\"text-align: right;\">\n",
       "      <th></th>\n",
       "      <th>term</th>\n",
       "      <th>int_rate</th>\n",
       "      <th>grade</th>\n",
       "      <th>sub_grade</th>\n",
       "      <th>emp_title</th>\n",
       "      <th>emp_length</th>\n",
       "      <th>home_ownership</th>\n",
       "      <th>verification_status</th>\n",
       "      <th>issue_d</th>\n",
       "      <th>loan_status</th>\n",
       "      <th>...</th>\n",
       "      <th>purpose</th>\n",
       "      <th>title</th>\n",
       "      <th>zip_code</th>\n",
       "      <th>addr_state</th>\n",
       "      <th>earliest_cr_line</th>\n",
       "      <th>revol_util</th>\n",
       "      <th>initial_list_status</th>\n",
       "      <th>last_pymnt_d</th>\n",
       "      <th>last_credit_pull_d</th>\n",
       "      <th>application_type</th>\n",
       "    </tr>\n",
       "  </thead>\n",
       "  <tbody>\n",
       "    <tr>\n",
       "      <th>1</th>\n",
       "      <td>60 months</td>\n",
       "      <td>15.27</td>\n",
       "      <td>C</td>\n",
       "      <td>C4</td>\n",
       "      <td>Ryder</td>\n",
       "      <td>&lt; 1 year</td>\n",
       "      <td>RENT</td>\n",
       "      <td>Source Verified</td>\n",
       "      <td>Dec-11</td>\n",
       "      <td>Charged Off</td>\n",
       "      <td>...</td>\n",
       "      <td>car</td>\n",
       "      <td>bike</td>\n",
       "      <td>309xx</td>\n",
       "      <td>GA</td>\n",
       "      <td>Apr-99</td>\n",
       "      <td>9.40%</td>\n",
       "      <td>f</td>\n",
       "      <td>Apr-13</td>\n",
       "      <td>Sep-13</td>\n",
       "      <td>INDIVIDUAL</td>\n",
       "    </tr>\n",
       "    <tr>\n",
       "      <th>8</th>\n",
       "      <td>60 months</td>\n",
       "      <td>21.28</td>\n",
       "      <td>F</td>\n",
       "      <td>F2</td>\n",
       "      <td>NaN</td>\n",
       "      <td>4 years</td>\n",
       "      <td>OWN</td>\n",
       "      <td>Source Verified</td>\n",
       "      <td>Dec-11</td>\n",
       "      <td>Charged Off</td>\n",
       "      <td>...</td>\n",
       "      <td>small_business</td>\n",
       "      <td>Expand Business &amp; Buy Debt Portfolio</td>\n",
       "      <td>958xx</td>\n",
       "      <td>CA</td>\n",
       "      <td>Apr-04</td>\n",
       "      <td>32.60%</td>\n",
       "      <td>f</td>\n",
       "      <td>Apr-12</td>\n",
       "      <td>Aug-12</td>\n",
       "      <td>INDIVIDUAL</td>\n",
       "    </tr>\n",
       "    <tr>\n",
       "      <th>9</th>\n",
       "      <td>60 months</td>\n",
       "      <td>12.69</td>\n",
       "      <td>B</td>\n",
       "      <td>B5</td>\n",
       "      <td>Starbucks</td>\n",
       "      <td>&lt; 1 year</td>\n",
       "      <td>RENT</td>\n",
       "      <td>Verified</td>\n",
       "      <td>Dec-11</td>\n",
       "      <td>Charged Off</td>\n",
       "      <td>...</td>\n",
       "      <td>other</td>\n",
       "      <td>Building my credit history.</td>\n",
       "      <td>774xx</td>\n",
       "      <td>TX</td>\n",
       "      <td>Sep-04</td>\n",
       "      <td>36.50%</td>\n",
       "      <td>f</td>\n",
       "      <td>Nov-12</td>\n",
       "      <td>Mar-13</td>\n",
       "      <td>INDIVIDUAL</td>\n",
       "    </tr>\n",
       "    <tr>\n",
       "      <th>12</th>\n",
       "      <td>36 months</td>\n",
       "      <td>13.49</td>\n",
       "      <td>C</td>\n",
       "      <td>C1</td>\n",
       "      <td>Va. Dept of Conservation/Recreation</td>\n",
       "      <td>&lt; 1 year</td>\n",
       "      <td>RENT</td>\n",
       "      <td>Source Verified</td>\n",
       "      <td>Dec-11</td>\n",
       "      <td>Charged Off</td>\n",
       "      <td>...</td>\n",
       "      <td>debt_consolidation</td>\n",
       "      <td>freedom</td>\n",
       "      <td>245xx</td>\n",
       "      <td>VA</td>\n",
       "      <td>Apr-04</td>\n",
       "      <td>91.70%</td>\n",
       "      <td>f</td>\n",
       "      <td>Jul-12</td>\n",
       "      <td>Nov-12</td>\n",
       "      <td>INDIVIDUAL</td>\n",
       "    </tr>\n",
       "    <tr>\n",
       "      <th>14</th>\n",
       "      <td>36 months</td>\n",
       "      <td>10.65</td>\n",
       "      <td>B</td>\n",
       "      <td>B2</td>\n",
       "      <td>SFMTA</td>\n",
       "      <td>3 years</td>\n",
       "      <td>RENT</td>\n",
       "      <td>Source Verified</td>\n",
       "      <td>Dec-11</td>\n",
       "      <td>Charged Off</td>\n",
       "      <td>...</td>\n",
       "      <td>other</td>\n",
       "      <td>Other Loan</td>\n",
       "      <td>951xx</td>\n",
       "      <td>CA</td>\n",
       "      <td>May-91</td>\n",
       "      <td>55.50%</td>\n",
       "      <td>f</td>\n",
       "      <td>Oct-13</td>\n",
       "      <td>Mar-14</td>\n",
       "      <td>INDIVIDUAL</td>\n",
       "    </tr>\n",
       "  </tbody>\n",
       "</table>\n",
       "<p>5 rows × 23 columns</p>\n",
       "</div>"
      ],
      "text/plain": [
       "          term  int_rate grade sub_grade                            emp_title  \\\n",
       "1    60 months     15.27     C        C4                                Ryder   \n",
       "8    60 months     21.28     F        F2                                  NaN   \n",
       "9    60 months     12.69     B        B5                            Starbucks   \n",
       "12   36 months     13.49     C        C1  Va. Dept of Conservation/Recreation   \n",
       "14   36 months     10.65     B        B2                                SFMTA   \n",
       "\n",
       "   emp_length home_ownership verification_status issue_d  loan_status  ...  \\\n",
       "1    < 1 year           RENT     Source Verified  Dec-11  Charged Off  ...   \n",
       "8     4 years            OWN     Source Verified  Dec-11  Charged Off  ...   \n",
       "9    < 1 year           RENT            Verified  Dec-11  Charged Off  ...   \n",
       "12   < 1 year           RENT     Source Verified  Dec-11  Charged Off  ...   \n",
       "14    3 years           RENT     Source Verified  Dec-11  Charged Off  ...   \n",
       "\n",
       "               purpose                                 title zip_code  \\\n",
       "1                  car                                  bike    309xx   \n",
       "8       small_business  Expand Business & Buy Debt Portfolio    958xx   \n",
       "9                other           Building my credit history.    774xx   \n",
       "12  debt_consolidation                               freedom    245xx   \n",
       "14               other                            Other Loan    951xx   \n",
       "\n",
       "   addr_state earliest_cr_line revol_util initial_list_status last_pymnt_d  \\\n",
       "1          GA           Apr-99      9.40%                   f       Apr-13   \n",
       "8          CA           Apr-04     32.60%                   f       Apr-12   \n",
       "9          TX           Sep-04     36.50%                   f       Nov-12   \n",
       "12         VA           Apr-04     91.70%                   f       Jul-12   \n",
       "14         CA           May-91     55.50%                   f       Oct-13   \n",
       "\n",
       "   last_credit_pull_d application_type  \n",
       "1              Sep-13       INDIVIDUAL  \n",
       "8              Aug-12       INDIVIDUAL  \n",
       "9              Mar-13       INDIVIDUAL  \n",
       "12             Nov-12       INDIVIDUAL  \n",
       "14             Mar-14       INDIVIDUAL  \n",
       "\n",
       "[5 rows x 23 columns]"
      ]
     },
     "execution_count": 950,
     "metadata": {},
     "output_type": "execute_result"
    }
   ],
   "source": [
    "categorical_data.head()"
   ]
  },
  {
   "cell_type": "code",
   "execution_count": 951,
   "metadata": {
    "scrolled": true
   },
   "outputs": [
    {
     "data": {
      "text/plain": [
       "array(['n'], dtype=object)"
      ]
     },
     "execution_count": 951,
     "metadata": {},
     "output_type": "execute_result"
    }
   ],
   "source": [
    "categorical_data.pymnt_plan.unique()"
   ]
  },
  {
   "cell_type": "code",
   "execution_count": 957,
   "metadata": {},
   "outputs": [
    {
     "data": {
      "text/plain": [
       "1      Borrower added on 12/22/11 > I plan to use t...\n",
       "8      Borrower added on 12/21/11 > I own a small h...\n",
       "Name: desc, dtype: object"
      ]
     },
     "execution_count": 957,
     "metadata": {},
     "output_type": "execute_result"
    }
   ],
   "source": [
    "categorical_data.desc.head(2) #text data out of scope of this EDA analysis so removing."
   ]
  },
  {
   "cell_type": "code",
   "execution_count": 968,
   "metadata": {},
   "outputs": [],
   "source": [
    "#Removing the columns 'pymnt_plan','application_type' since it has only one value throuhg and not going to be useful.\n",
    "\n",
    "categorical_data.drop(['pymnt_plan','desc','application_type'],axis = 1, inplace = True)"
   ]
  },
  {
   "cell_type": "code",
   "execution_count": 953,
   "metadata": {},
   "outputs": [
    {
     "data": {
      "text/plain": [
       "22"
      ]
     },
     "execution_count": 953,
     "metadata": {},
     "output_type": "execute_result"
    }
   ],
   "source": [
    "len(list(categorical_data))"
   ]
  },
  {
   "cell_type": "markdown",
   "metadata": {},
   "source": [
    "### Analysis on Charged off Customer, Loan Attributes Categorical Values"
   ]
  },
  {
   "cell_type": "code",
   "execution_count": 954,
   "metadata": {},
   "outputs": [
    {
     "data": {
      "text/plain": [
       "22"
      ]
     },
     "execution_count": 954,
     "metadata": {},
     "output_type": "execute_result"
    }
   ],
   "source": [
    "len(list(categorical_data))"
   ]
  },
  {
   "cell_type": "markdown",
   "metadata": {},
   "source": [
    "#### The main loan attributes are :\n",
    "\n",
    "`term`,`int_rate`,`grade`,`sub_grade`,`loan_status`,`purpose`\n"
   ]
  },
  {
   "cell_type": "markdown",
   "metadata": {},
   "source": [
    "#### The main customer attributes are :\n",
    "`emp_title`,`emp_length`,`home_ownership`,`verification_status`,`issue_d`,`title`,<br>\n",
    "`zip_code`,`addr_state`,`last_pymnt_d`,`last_credit_pull_d`\n"
   ]
  },
  {
   "cell_type": "markdown",
   "metadata": {},
   "source": [
    "### Analysis on categorical Loan Attributes on Charged off data"
   ]
  },
  {
   "cell_type": "markdown",
   "metadata": {},
   "source": [
    "<b>The Loan with less number of `trems` tend to be Charged Off</b> "
   ]
  },
  {
   "cell_type": "code",
   "execution_count": 929,
   "metadata": {},
   "outputs": [
    {
     "data": {
      "text/plain": [
       "<matplotlib.axes._subplots.AxesSubplot at 0x24b52770a20>"
      ]
     },
     "execution_count": 929,
     "metadata": {},
     "output_type": "execute_result"
    },
    {
     "data": {
      "image/png": "[encoded data removed]",
      "text/plain": [
       "<Figure size 432x288 with 1 Axes>"
      ]
     },
     "metadata": {},
     "output_type": "display_data"
    }
   ],
   "source": [
    "#sns.distplot(categorical_data.term)\n",
    "categorical_data['term'].hist()"
   ]
  },
  {
   "cell_type": "markdown",
   "metadata": {},
   "source": [
    "<b>The Loan with intrest rate between` 10 % `to `15 % `tend to be Charged Off more</b> "
   ]
  },
  {
   "cell_type": "code",
   "execution_count": 930,
   "metadata": {
    "scrolled": true
   },
   "outputs": [
    {
     "name": "stderr",
     "output_type": "stream",
     "text": [
      "C:\\ProgramData\\Anaconda3\\lib\\site-packages\\ipykernel_launcher.py:1: SettingWithCopyWarning: \n",
      "A value is trying to be set on a copy of a slice from a DataFrame.\n",
      "Try using .loc[row_indexer,col_indexer] = value instead\n",
      "\n",
      "See the caveats in the documentation: http://pandas.pydata.org/pandas-docs/stable/indexing.html#indexing-view-versus-copy\n",
      "  \"\"\"Entry point for launching an IPython kernel.\n",
      "C:\\ProgramData\\Anaconda3\\lib\\site-packages\\ipykernel_launcher.py:2: SettingWithCopyWarning: \n",
      "A value is trying to be set on a copy of a slice from a DataFrame.\n",
      "Try using .loc[row_indexer,col_indexer] = value instead\n",
      "\n",
      "See the caveats in the documentation: http://pandas.pydata.org/pandas-docs/stable/indexing.html#indexing-view-versus-copy\n",
      "  \n"
     ]
    }
   ],
   "source": [
    "categorical_data['int_rate'] = categorical_data['int_rate'].str.strip('%')\n",
    "categorical_data['int_rate'] = categorical_data['int_rate'].astype(float)"
   ]
  },
  {
   "cell_type": "code",
   "execution_count": 931,
   "metadata": {},
   "outputs": [
    {
     "data": {
      "text/plain": [
       "<matplotlib.axes._subplots.AxesSubplot at 0x24b524baac8>"
      ]
     },
     "execution_count": 931,
     "metadata": {},
     "output_type": "execute_result"
    },
    {
     "data": {
      "image/png": "[encoded data removed]",
      "text/plain": [
       "<Figure size 432x288 with 1 Axes>"
      ]
     },
     "metadata": {},
     "output_type": "display_data"
    }
   ],
   "source": [
    "bins = [0,5,10,15,20,25]\n",
    "name_bin = ['R1','R2','R3','R4','R5'] # R1 (0 to 5) R2 (5 to 10) R3 (10 to 15) R4 (15 to 20) R5 (20 to 25)\n",
    "\n",
    "pd.cut(categorical_data['int_rate'], bins ,labels = name_bin ).hist()"
   ]
  },
  {
   "cell_type": "code",
   "execution_count": 932,
   "metadata": {
    "scrolled": true
   },
   "outputs": [
    {
     "data": {
      "text/plain": [
       "<matplotlib.axes._subplots.AxesSubplot at 0x24b52863eb8>"
      ]
     },
     "execution_count": 932,
     "metadata": {},
     "output_type": "execute_result"
    },
    {
     "data": {
      "image/png": "[encoded data removed]",
      "text/plain": [
       "<Figure size 432x288 with 1 Axes>"
      ]
     },
     "metadata": {},
     "output_type": "display_data"
    }
   ],
   "source": [
    "categorical_data['int_rate'].hist(bins=100)"
   ]
  },
  {
   "cell_type": "markdown",
   "metadata": {},
   "source": [
    "<b>The Loan of grade B tend to be Charged Off more</b> "
   ]
  },
  {
   "cell_type": "code",
   "execution_count": 936,
   "metadata": {},
   "outputs": [
    {
     "data": {
      "text/plain": [
       "<matplotlib.axes._subplots.AxesSubplot at 0x24b528fc7f0>"
      ]
     },
     "execution_count": 936,
     "metadata": {},
     "output_type": "execute_result"
    },
    {
     "data": {
      "image/png": "[encoded data removed]",
      "text/plain": [
       "<Figure size 432x288 with 1 Axes>"
      ]
     },
     "metadata": {},
     "output_type": "display_data"
    }
   ],
   "source": [
    "categorical_data['grade'].hist()\n",
    "#categorical_data.grade.unique()"
   ]
  },
  {
   "cell_type": "markdown",
   "metadata": {},
   "source": [
    "<b>The Loan of sub grade B5 tend to be Charged Off More</b> "
   ]
  },
  {
   "cell_type": "code",
   "execution_count": 947,
   "metadata": {},
   "outputs": [
    {
     "data": {
      "text/plain": [
       "<matplotlib.axes._subplots.AxesSubplot at 0x24b54644320>"
      ]
     },
     "execution_count": 947,
     "metadata": {},
     "output_type": "execute_result"
    },
    {
     "data": {
      "image/png": "[encoded data removed]",
      "text/plain": [
       "<Figure size 720x360 with 1 Axes>"
      ]
     },
     "metadata": {},
     "output_type": "display_data"
    }
   ],
   "source": [
    "fig = plt.figure(figsize = (10,5))\n",
    "ax = fig.gca()\n",
    "categorical_data['sub_grade'].hist(bins =100, ax = ax)"
   ]
  },
  {
   "cell_type": "markdown",
   "metadata": {},
   "source": [
    "<b>The Loan taken for the purpose of `debt_consolidation` tend to be Charged Off More</b> "
   ]
  },
  {
   "cell_type": "code",
   "execution_count": 963,
   "metadata": {},
   "outputs": [
    {
     "data": {
      "text/plain": [
       "array(['car', 'small_business', 'other', 'debt_consolidation',\n",
       "       'major_purchase', 'credit_card', 'home_improvement', 'moving',\n",
       "       'vacation', 'house', 'medical', 'wedding', 'renewable_energy',\n",
       "       'educational'], dtype=object)"
      ]
     },
     "execution_count": 963,
     "metadata": {},
     "output_type": "execute_result"
    }
   ],
   "source": [
    "categorical_data.purpose.unique()"
   ]
  },
  {
   "cell_type": "code",
   "execution_count": 964,
   "metadata": {},
   "outputs": [
    {
     "data": {
      "text/plain": [
       "<matplotlib.axes._subplots.AxesSubplot at 0x24b52a4a0b8>"
      ]
     },
     "execution_count": 964,
     "metadata": {},
     "output_type": "execute_result"
    },
    {
     "data": {
      "image/png": "[encoded data removed]",
      "text/plain": [
       "<Figure size 1440x360 with 1 Axes>"
      ]
     },
     "metadata": {},
     "output_type": "display_data"
    }
   ],
   "source": [
    "fig = plt.figure(figsize = (20,5))\n",
    "ax = fig.gca()\n",
    "categorical_data['purpose'].hist(bins =100, ax = ax)"
   ]
  },
  {
   "cell_type": "markdown",
   "metadata": {},
   "source": [
    "### Analysis on categorical Customer Attributes on Charged off data"
   ]
  },
  {
   "cell_type": "code",
   "execution_count": 974,
   "metadata": {},
   "outputs": [
    {
     "data": {
      "text/plain": [
       "array(['< 1 year', '4 years', '3 years', '10+ years', '1 year', '9 years',\n",
       "       '2 years', '8 years', '7 years', '5 years', nan, '6 years'],\n",
       "      dtype=object)"
      ]
     },
     "execution_count": 974,
     "metadata": {},
     "output_type": "execute_result"
    }
   ],
   "source": [
    "categorical_data.emp_length.unique()"
   ]
  },
  {
   "cell_type": "code",
   "execution_count": 981,
   "metadata": {},
   "outputs": [
    {
     "name": "stderr",
     "output_type": "stream",
     "text": [
      "C:\\ProgramData\\Anaconda3\\lib\\site-packages\\ipykernel_launcher.py:1: SettingWithCopyWarning: \n",
      "A value is trying to be set on a copy of a slice from a DataFrame.\n",
      "Try using .loc[row_indexer,col_indexer] = value instead\n",
      "\n",
      "See the caveats in the documentation: http://pandas.pydata.org/pandas-docs/stable/indexing.html#indexing-view-versus-copy\n",
      "  \"\"\"Entry point for launching an IPython kernel.\n",
      "C:\\ProgramData\\Anaconda3\\lib\\site-packages\\ipykernel_launcher.py:2: SettingWithCopyWarning: \n",
      "A value is trying to be set on a copy of a slice from a DataFrame.\n",
      "Try using .loc[row_indexer,col_indexer] = value instead\n",
      "\n",
      "See the caveats in the documentation: http://pandas.pydata.org/pandas-docs/stable/indexing.html#indexing-view-versus-copy\n",
      "  \n",
      "C:\\ProgramData\\Anaconda3\\lib\\site-packages\\ipykernel_launcher.py:3: SettingWithCopyWarning: \n",
      "A value is trying to be set on a copy of a slice from a DataFrame.\n",
      "Try using .loc[row_indexer,col_indexer] = value instead\n",
      "\n",
      "See the caveats in the documentation: http://pandas.pydata.org/pandas-docs/stable/indexing.html#indexing-view-versus-copy\n",
      "  This is separate from the ipykernel package so we can avoid doing imports until\n"
     ]
    }
   ],
   "source": [
    "categorical_data['emp_length'] = categorical_data.emp_length.str.strip(' years')\n",
    "categorical_data['emp_length'] =categorical_data.emp_length.str.strip('< ')\n",
    "categorical_data['emp_length'] =categorical_data.emp_length.str.strip('+')"
   ]
  },
  {
   "cell_type": "code",
   "execution_count": 984,
   "metadata": {},
   "outputs": [],
   "source": [
    "categorical_data['emp_length'].dropna(inplace = True)"
   ]
  },
  {
   "cell_type": "code",
   "execution_count": 987,
   "metadata": {},
   "outputs": [
    {
     "name": "stderr",
     "output_type": "stream",
     "text": [
      "C:\\ProgramData\\Anaconda3\\lib\\site-packages\\ipykernel_launcher.py:1: SettingWithCopyWarning: \n",
      "A value is trying to be set on a copy of a slice from a DataFrame.\n",
      "Try using .loc[row_indexer,col_indexer] = value instead\n",
      "\n",
      "See the caveats in the documentation: http://pandas.pydata.org/pandas-docs/stable/indexing.html#indexing-view-versus-copy\n",
      "  \"\"\"Entry point for launching an IPython kernel.\n"
     ]
    }
   ],
   "source": [
    "categorical_data['emp_length'] = categorical_data['emp_length'].astype(int)"
   ]
  },
  {
   "cell_type": "markdown",
   "metadata": {},
   "source": [
    "<b>The Customers with Employemnet less than 2 years tend to be Charged Off More</b> "
   ]
  },
  {
   "cell_type": "code",
   "execution_count": 988,
   "metadata": {
    "scrolled": true
   },
   "outputs": [
    {
     "data": {
      "text/plain": [
       "array([ 1.,  4.,  3., 10.,  9.,  2.,  8.,  7.,  5., nan,  6.])"
      ]
     },
     "execution_count": 988,
     "metadata": {},
     "output_type": "execute_result"
    }
   ],
   "source": [
    "categorical_data['emp_length'].unique()"
   ]
  },
  {
   "cell_type": "code",
   "execution_count": 989,
   "metadata": {
    "scrolled": true
   },
   "outputs": [
    {
     "data": {
      "text/plain": [
       "<matplotlib.axes._subplots.AxesSubplot at 0x24b52b280f0>"
      ]
     },
     "execution_count": 989,
     "metadata": {},
     "output_type": "execute_result"
    },
    {
     "data": {
      "image/png": "[encoded data removed]",
      "text/plain": [
       "<Figure size 432x288 with 1 Axes>"
      ]
     },
     "metadata": {},
     "output_type": "display_data"
    }
   ],
   "source": [
    "bins = [0,2,4,6,8,10]\n",
    "name_bin = ['Y1','Y2','Y3','Y4','Y5'] #Y1 = 0 to 2 ,Y2 = 2 to 4,Y3 = 4 to 6,Y4 = 6 to 8,Y5= 8 to 10\n",
    "pd.cut(categorical_data['emp_length'], bins ,labels = name_bin ).hist()"
   ]
  },
  {
   "cell_type": "markdown",
   "metadata": {},
   "source": [
    "<b>The Customers with RENTed home tend to be Charged Off More</b> "
   ]
  },
  {
   "cell_type": "code",
   "execution_count": 991,
   "metadata": {
    "scrolled": true
   },
   "outputs": [
    {
     "data": {
      "text/plain": [
       "array(['RENT', 'OWN', 'MORTGAGE', 'OTHER'], dtype=object)"
      ]
     },
     "execution_count": 991,
     "metadata": {},
     "output_type": "execute_result"
    }
   ],
   "source": [
    "categorical_data.home_ownership.unique()"
   ]
  },
  {
   "cell_type": "code",
   "execution_count": 992,
   "metadata": {},
   "outputs": [
    {
     "data": {
      "text/plain": [
       "<matplotlib.axes._subplots.AxesSubplot at 0x24b54034940>"
      ]
     },
     "execution_count": 992,
     "metadata": {},
     "output_type": "execute_result"
    },
    {
     "data": {
      "image/png": "[encoded data removed]",
      "text/plain": [
       "<Figure size 432x288 with 1 Axes>"
      ]
     },
     "metadata": {},
     "output_type": "display_data"
    }
   ],
   "source": [
    "categorical_data['home_ownership'].hist()"
   ]
  },
  {
   "cell_type": "markdown",
   "metadata": {},
   "source": [
    "<b>The Customers with `Not Verified` tend to be Charged Off More</b> "
   ]
  },
  {
   "cell_type": "code",
   "execution_count": 994,
   "metadata": {
    "scrolled": false
   },
   "outputs": [
    {
     "data": {
      "text/plain": [
       "array(['Source Verified', 'Verified', 'Not Verified'], dtype=object)"
      ]
     },
     "execution_count": 994,
     "metadata": {},
     "output_type": "execute_result"
    }
   ],
   "source": [
    "categorical_data.verification_status.unique()"
   ]
  },
  {
   "cell_type": "code",
   "execution_count": 995,
   "metadata": {
    "scrolled": true
   },
   "outputs": [
    {
     "data": {
      "text/plain": [
       "<matplotlib.axes._subplots.AxesSubplot at 0x24b53e69ba8>"
      ]
     },
     "execution_count": 995,
     "metadata": {},
     "output_type": "execute_result"
    },
    {
     "data": {
      "image/png": "[encoded data removed]",
      "text/plain": [
       "<Figure size 432x288 with 1 Axes>"
      ]
     },
     "metadata": {},
     "output_type": "display_data"
    }
   ],
   "source": [
    "categorical_data['verification_status'].hist()"
   ]
  },
  {
   "cell_type": "markdown",
   "metadata": {},
   "source": [
    "<b>The Loan issued on date `Dec-11` tend to be Charged Off More</b> "
   ]
  },
  {
   "cell_type": "code",
   "execution_count": 1001,
   "metadata": {
    "scrolled": true
   },
   "outputs": [
    {
     "data": {
      "text/plain": [
       "array(['Dec-11', 'Nov-11', 'Oct-11', 'Sep-11', 'Aug-11', 'Jul-11',\n",
       "       'Jun-11', 'May-11', 'Apr-11', 'Mar-11', 'Feb-11', 'Jan-11',\n",
       "       'Dec-10', 'Nov-10', 'Oct-10', 'Sep-10', 'Aug-10', 'Jul-10',\n",
       "       'Jun-10', 'May-10', 'Apr-10', 'Mar-10', 'Feb-10', 'Jan-10',\n",
       "       'Dec-09', 'Nov-09', 'Oct-09', 'Sep-09', 'Aug-09', 'Jul-09',\n",
       "       'Jun-09', 'May-09', 'Apr-09', 'Mar-09', 'Feb-09', 'Jan-09',\n",
       "       'Dec-08', 'Nov-08', 'Oct-08', 'Sep-08', 'Aug-08', 'Jul-08',\n",
       "       'Jun-08', 'May-08', 'Apr-08', 'Mar-08', 'Feb-08', 'Jan-08',\n",
       "       'Dec-07', 'Nov-07', 'Oct-07', 'Sep-07', 'Aug-07'], dtype=object)"
      ]
     },
     "execution_count": 1001,
     "metadata": {},
     "output_type": "execute_result"
    }
   ],
   "source": [
    "categorical_data.issue_d.unique()"
   ]
  },
  {
   "cell_type": "code",
   "execution_count": 1000,
   "metadata": {
    "scrolled": true
   },
   "outputs": [
    {
     "data": {
      "text/plain": [
       "<matplotlib.axes._subplots.AxesSubplot at 0x24b554b74e0>"
      ]
     },
     "execution_count": 1000,
     "metadata": {},
     "output_type": "execute_result"
    },
    {
     "data": {
      "image/png": "[encoded data removed]",
      "text/plain": [
       "<Figure size 1800x360 with 1 Axes>"
      ]
     },
     "metadata": {},
     "output_type": "display_data"
    }
   ],
   "source": [
    "fig = plt.figure(figsize = (25,5))\n",
    "ax = fig.gca()\n",
    "categorical_data['issue_d'].hist(bins =200, ax = ax)"
   ]
  },
  {
   "cell_type": "markdown",
   "metadata": {},
   "source": [
    "<b>The Customers from `California CA` tend to be Charged Off More</b> "
   ]
  },
  {
   "cell_type": "code",
   "execution_count": 1012,
   "metadata": {
    "scrolled": true
   },
   "outputs": [
    {
     "data": {
      "text/plain": [
       "array(['GA', 'CA', 'TX', 'VA', 'FL', 'NY', 'PA', 'OH', 'IL', 'WA', 'MN',\n",
       "       'AK', 'OR', 'AZ', 'WI', 'NC', 'CO', 'MO', 'WV', 'NV', 'SC', 'RI',\n",
       "       'MA', 'KY', 'HI', 'NJ', 'MT', 'MI', 'SD', 'DC', 'OK', 'VT', 'NM',\n",
       "       'MD', 'AL', 'KS', 'UT', 'LA', 'AR', 'CT', 'NH', 'DE', 'WY', 'MS',\n",
       "       'TN', 'ID', 'NE'], dtype=object)"
      ]
     },
     "execution_count": 1012,
     "metadata": {},
     "output_type": "execute_result"
    }
   ],
   "source": [
    "categorical_data.addr_state.unique()"
   ]
  },
  {
   "cell_type": "code",
   "execution_count": 1015,
   "metadata": {},
   "outputs": [
    {
     "data": {
      "text/plain": [
       "<matplotlib.axes._subplots.AxesSubplot at 0x24b5b140be0>"
      ]
     },
     "execution_count": 1015,
     "metadata": {},
     "output_type": "execute_result"
    },
    {
     "data": {
      "image/png": "[encoded data removed]",
      "text/plain": [
       "<Figure size 1440x360 with 1 Axes>"
      ]
     },
     "metadata": {},
     "output_type": "display_data"
    }
   ],
   "source": [
    "fig = plt.figure(figsize = (20,5))\n",
    "ax = fig.gca()\n",
    "categorical_data['addr_state'].hist(bins =100, ax = ax)"
   ]
  },
  {
   "cell_type": "markdown",
   "metadata": {},
   "source": [
    "- <b> The column `emp_title` is text data cleaning of text data is out of scope of this EDA Assignmnet, so leaving the column</b>\n",
    "- <b>`zip_code`,`addr_state` are more or less showing same states, so only using `addr_state`.</b>\n",
    "- <b> `last_credit_pull_d` are more correleted to the `Inquiry` column in numerical data so not using it here. </b>"
   ]
  },
  {
   "cell_type": "markdown",
   "metadata": {},
   "source": [
    "## Charged OFF Data Analysis Conclusion "
   ]
  },
  {
   "cell_type": "markdown",
   "metadata": {},
   "source": [
    "- <b>The `total payed amount` is less when `DTI` is high, ie customer with `high DTI` tend to pay back less amount</b>\n",
    "- <b>The `total payed amount` is `less when inquiry on credit score` is high, ie customer with high inquiry on credit score tend to pay back less amount ie credit loss will be high.</b>\n",
    "- <b>The `total amount payed` by customer with `high credit line` and having high credit line present tend to pay back less amount,ie credit loss will be high.</b>\n",
    "- <b>The `total amount payed` by customer with known `derogatory public records` tend to payback less amount ie credit loss will be high.</b>\n",
    "- <b>The `total amount payed` by customer with `high revolving balance` tend to payback less amount ie credit loss will be high.</b>\n",
    "- <b> The Loan with less number of `trems` tend to be Charged Off.</b>\n",
    "- <b>The Loan with intrest rate between`10 %`to `15 %`tend to be Charged Off more.</b>\n",
    "- <b>The Loan of `grade B` tend to be Charged Off more.</b>\n",
    "- <b> The Loan of sub `grade B5` tend to be Charged Off More.</b>\n",
    "- <b>The Loan taken for the purpose of `debt_consolidation` tend to be Charged Off More.</b>\n",
    "- <b>The Customers with Employemnet `less than 2 years` tend to be Charged Off More.</b>\n",
    "- <b>The Customers with `RENTed` home tend to be Charged Off More.</b>\n",
    "- <b>The Customers with `Not Verified` tend to be Charged Off More.</b>\n"
   ]
  },
  {
   "cell_type": "code",
   "execution_count": null,
   "metadata": {},
   "outputs": [],
   "source": []
  },
  {
   "cell_type": "code",
   "execution_count": null,
   "metadata": {},
   "outputs": [],
   "source": []
  }
 ],
 "metadata": {
  "kernelspec": {
   "display_name": "Python 3",
   "language": "python",
   "name": "python3"
  },
  "language_info": {
   "codemirror_mode": {
    "name": "ipython",
    "version": 3
   },
   "file_extension": ".py",
   "mimetype": "text/x-python",
   "name": "python",
   "nbconvert_exporter": "python",
   "pygments_lexer": "ipython3",
   "version": "3.7.0"
  }
 },
 "nbformat": 4,
 "nbformat_minor": 2
}
